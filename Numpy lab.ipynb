{
 "cells": [
  {
   "cell_type": "code",
   "execution_count": 2,
   "id": "f97d6f36",
   "metadata": {},
   "outputs": [],
   "source": [
    "import numpy as np"
   ]
  },
  {
   "cell_type": "code",
   "execution_count": 3,
   "id": "bda312f2",
   "metadata": {},
   "outputs": [
    {
     "name": "stdout",
     "output_type": "stream",
     "text": [
      "1.22.0\n"
     ]
    }
   ],
   "source": [
    "print(np.__version__)"
   ]
  },
  {
   "cell_type": "code",
   "execution_count": 4,
   "id": "ad36cd69",
   "metadata": {},
   "outputs": [
    {
     "name": "stdout",
     "output_type": "stream",
     "text": [
      "openblas64__info:\n",
      "    library_dirs = ['D:\\\\a\\\\1\\\\s\\\\numpy\\\\build\\\\openblas64__info']\n",
      "    libraries = ['openblas64__info']\n",
      "    language = f77\n",
      "    define_macros = [('HAVE_CBLAS', None), ('BLAS_SYMBOL_SUFFIX', '64_'), ('HAVE_BLAS_ILP64', None)]\n",
      "blas_ilp64_opt_info:\n",
      "    library_dirs = ['D:\\\\a\\\\1\\\\s\\\\numpy\\\\build\\\\openblas64__info']\n",
      "    libraries = ['openblas64__info']\n",
      "    language = f77\n",
      "    define_macros = [('HAVE_CBLAS', None), ('BLAS_SYMBOL_SUFFIX', '64_'), ('HAVE_BLAS_ILP64', None)]\n",
      "openblas64__lapack_info:\n",
      "    library_dirs = ['D:\\\\a\\\\1\\\\s\\\\numpy\\\\build\\\\openblas64__lapack_info']\n",
      "    libraries = ['openblas64__lapack_info']\n",
      "    language = f77\n",
      "    define_macros = [('HAVE_CBLAS', None), ('BLAS_SYMBOL_SUFFIX', '64_'), ('HAVE_BLAS_ILP64', None), ('HAVE_LAPACKE', None)]\n",
      "lapack_ilp64_opt_info:\n",
      "    library_dirs = ['D:\\\\a\\\\1\\\\s\\\\numpy\\\\build\\\\openblas64__lapack_info']\n",
      "    libraries = ['openblas64__lapack_info']\n",
      "    language = f77\n",
      "    define_macros = [('HAVE_CBLAS', None), ('BLAS_SYMBOL_SUFFIX', '64_'), ('HAVE_BLAS_ILP64', None), ('HAVE_LAPACKE', None)]\n",
      "Supported SIMD extensions in this NumPy install:\n",
      "    baseline = SSE,SSE2,SSE3\n",
      "    found = SSSE3,SSE41,POPCNT,SSE42,AVX,F16C,FMA3,AVX2\n",
      "    not found = AVX512F,AVX512CD,AVX512_SKX,AVX512_CLX,AVX512_CNL,AVX512_ICL\n",
      "None\n"
     ]
    }
   ],
   "source": [
    "print(np.show_config())"
   ]
  },
  {
   "cell_type": "code",
   "execution_count": 5,
   "id": "51f906c6",
   "metadata": {},
   "outputs": [],
   "source": [
    "a = np.random.random((2,3,5))"
   ]
  },
  {
   "cell_type": "code",
   "execution_count": 50,
   "id": "775781b2",
   "metadata": {},
   "outputs": [
    {
     "name": "stdout",
     "output_type": "stream",
     "text": [
      "[[[0.51153727 0.67441124 0.34391563 0.78449134 0.79408641]\n",
      "  [0.10174574 0.86635798 0.67288566 0.7136223  0.68392048]\n",
      "  [0.71185468 0.62424147 0.0107924  0.0743098  0.32381001]]\n",
      "\n",
      " [[0.14254587 0.37350551 0.34880453 0.61493384 0.38824756]\n",
      "  [0.87599038 0.57563423 0.55811578 0.13171443 0.51240494]\n",
      "  [0.87288257 0.26720253 0.29989189 0.52578747 0.93273709]]]\n",
      "3\n"
     ]
    }
   ],
   "source": [
    "print(a)\n",
    "print (a.ndim)"
   ]
  },
  {
   "cell_type": "code",
   "execution_count": 22,
   "id": "3fc32fbb",
   "metadata": {},
   "outputs": [],
   "source": [
    "a2 = np.random.randint(0, 100, size=(2, 3, 5))"
   ]
  },
  {
   "cell_type": "code",
   "execution_count": 46,
   "id": "1ea834d4",
   "metadata": {},
   "outputs": [
    {
     "name": "stdout",
     "output_type": "stream",
     "text": [
      "[[[22 78  7  4 13]\n",
      "  [25 14 48 49 32]\n",
      "  [25  2 29 14 22]]\n",
      "\n",
      " [[76 54 47 94 16]\n",
      "  [96 20 82 10 86]\n",
      "  [39 14 22 35 45]]]\n"
     ]
    }
   ],
   "source": [
    "print(a2)"
   ]
  },
  {
   "cell_type": "code",
   "execution_count": 26,
   "id": "e0ff4127",
   "metadata": {},
   "outputs": [],
   "source": [
    "b = np.ones((5,2,3))"
   ]
  },
  {
   "cell_type": "code",
   "execution_count": 27,
   "id": "dbab2443",
   "metadata": {},
   "outputs": [
    {
     "name": "stdout",
     "output_type": "stream",
     "text": [
      "[[[1. 1. 1.]\n",
      "  [1. 1. 1.]]\n",
      "\n",
      " [[1. 1. 1.]\n",
      "  [1. 1. 1.]]\n",
      "\n",
      " [[1. 1. 1.]\n",
      "  [1. 1. 1.]]\n",
      "\n",
      " [[1. 1. 1.]\n",
      "  [1. 1. 1.]]\n",
      "\n",
      " [[1. 1. 1.]\n",
      "  [1. 1. 1.]]]\n"
     ]
    }
   ],
   "source": [
    "print(b)"
   ]
  },
  {
   "cell_type": "code",
   "execution_count": 33,
   "id": "ebb49969",
   "metadata": {},
   "outputs": [],
   "source": [
    "sizea = a.size      #llamando desde el argumento "
   ]
  },
  {
   "cell_type": "code",
   "execution_count": 37,
   "id": "0aa5049c",
   "metadata": {},
   "outputs": [],
   "source": [
    "sizeb = b.size"
   ]
  },
  {
   "cell_type": "code",
   "execution_count": 35,
   "id": "9c01ea12",
   "metadata": {},
   "outputs": [
    {
     "name": "stdout",
     "output_type": "stream",
     "text": [
      "30\n"
     ]
    }
   ],
   "source": [
    "print(np.size(a))   #Llamado desde la funcion"
   ]
  },
  {
   "cell_type": "code",
   "execution_count": 38,
   "id": "dbe301af",
   "metadata": {},
   "outputs": [
    {
     "name": "stdout",
     "output_type": "stream",
     "text": [
      "a y b son iguales\n"
     ]
    }
   ],
   "source": [
    "if sizea == sizeb:\n",
    "    print(\"a y b son iguales\")"
   ]
  },
  {
   "cell_type": "markdown",
   "id": "f345f8be",
   "metadata": {},
   "source": [
    "Respuesta pregunta 8:\n",
    "\n",
    "No, porque a y b tienen diferente forma. \n",
    "    \n"
   ]
  },
  {
   "cell_type": "code",
   "execution_count": 52,
   "id": "0098f417",
   "metadata": {},
   "outputs": [
    {
     "name": "stdout",
     "output_type": "stream",
     "text": [
      "[[[1. 1. 1. 1. 1.]\n",
      "  [1. 1. 1. 1. 1.]\n",
      "  [1. 1. 1. 1. 1.]]\n",
      "\n",
      " [[1. 1. 1. 1. 1.]\n",
      "  [1. 1. 1. 1. 1.]\n",
      "  [1. 1. 1. 1. 1.]]]\n"
     ]
    }
   ],
   "source": [
    "c = np.transpose(b,(1,2,0))\n",
    "print(c)"
   ]
  },
  {
   "cell_type": "code",
   "execution_count": 53,
   "id": "2d660a92",
   "metadata": {},
   "outputs": [
    {
     "data": {
      "text/plain": [
       "array([[[1.51153727, 1.67441124, 1.34391563, 1.78449134, 1.79408641],\n",
       "        [1.10174574, 1.86635798, 1.67288566, 1.7136223 , 1.68392048],\n",
       "        [1.71185468, 1.62424147, 1.0107924 , 1.0743098 , 1.32381001]],\n",
       "\n",
       "       [[1.14254587, 1.37350551, 1.34880453, 1.61493384, 1.38824756],\n",
       "        [1.87599038, 1.57563423, 1.55811578, 1.13171443, 1.51240494],\n",
       "        [1.87288257, 1.26720253, 1.29989189, 1.52578747, 1.93273709]]])"
      ]
     },
     "execution_count": 53,
     "metadata": {},
     "output_type": "execute_result"
    }
   ],
   "source": [
    "a + c"
   ]
  },
  {
   "cell_type": "code",
   "execution_count": null,
   "id": "83c8950d",
   "metadata": {},
   "outputs": [],
   "source": []
  }
 ],
 "metadata": {
  "kernelspec": {
   "display_name": "Python 3 (ipykernel)",
   "language": "python",
   "name": "python3"
  },
  "language_info": {
   "codemirror_mode": {
    "name": "ipython",
    "version": 3
   },
   "file_extension": ".py",
   "mimetype": "text/x-python",
   "name": "python",
   "nbconvert_exporter": "python",
   "pygments_lexer": "ipython3",
   "version": "3.10.1"
  }
 },
 "nbformat": 4,
 "nbformat_minor": 5
}
