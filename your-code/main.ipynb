{
 "cells": [
  {
   "cell_type": "code",
   "execution_count": 1,
   "id": "cf5edb92",
   "metadata": {},
   "outputs": [],
   "source": [
    "#1. Import the NUMPY package under the name np.\n",
    "\n",
    "import numpy as np"
   ]
  },
  {
   "cell_type": "code",
   "execution_count": 2,
   "id": "2dc5c98c",
   "metadata": {},
   "outputs": [
    {
     "data": {
      "text/plain": [
       "'1.21.4'"
      ]
     },
     "execution_count": 2,
     "metadata": {},
     "output_type": "execute_result"
    }
   ],
   "source": [
    "#2. Print the NUMPY version and the configuration.\n",
    "\n",
    "np.__version__"
   ]
  },
  {
   "cell_type": "code",
   "execution_count": 3,
   "id": "5c31ecf3",
   "metadata": {},
   "outputs": [],
   "source": [
    "#3. Generate a 2x3x5 3-dimensional array with random values. Assign the array to variable \"a\"\n",
    "# Challenge: there are at least three easy ways that use numpy to generate random arrays. How many ways can you find?\n",
    "\n",
    "a = np.random.random((2,3,5))"
   ]
  },
  {
   "cell_type": "code",
   "execution_count": 4,
   "id": "96b82706",
   "metadata": {},
   "outputs": [
    {
     "name": "stdout",
     "output_type": "stream",
     "text": [
      "[[[0.91866543 0.122716   0.16354368 0.09135983 0.30100361]\n",
      "  [0.36646143 0.4490776  0.87453205 0.06499334 0.35236981]\n",
      "  [0.72700556 0.17517917 0.6759641  0.07217972 0.10551671]]\n",
      "\n",
      " [[0.56785789 0.08705885 0.16420109 0.33232526 0.18237214]\n",
      "  [0.11514479 0.07829418 0.61173549 0.38209004 0.43124495]\n",
      "  [0.84602889 0.92427285 0.90672515 0.67562836 0.05920296]]]\n"
     ]
    }
   ],
   "source": [
    "#4. Print a.\n",
    "\n",
    "print(a)"
   ]
  },
  {
   "cell_type": "code",
   "execution_count": 5,
   "id": "076c0e93",
   "metadata": {},
   "outputs": [],
   "source": [
    "#5. Create a 5x2x3 3-dimensional array with all values equaling 1.\n",
    "#Assign the array to variable \"b\"\n",
    "\n",
    "b = np.ones((5,2,3))"
   ]
  },
  {
   "cell_type": "code",
   "execution_count": 6,
   "id": "864faaed",
   "metadata": {},
   "outputs": [
    {
     "name": "stdout",
     "output_type": "stream",
     "text": [
      "[[[1. 1. 1.]\n",
      "  [1. 1. 1.]]\n",
      "\n",
      " [[1. 1. 1.]\n",
      "  [1. 1. 1.]]\n",
      "\n",
      " [[1. 1. 1.]\n",
      "  [1. 1. 1.]]\n",
      "\n",
      " [[1. 1. 1.]\n",
      "  [1. 1. 1.]]\n",
      "\n",
      " [[1. 1. 1.]\n",
      "  [1. 1. 1.]]]\n"
     ]
    }
   ],
   "source": [
    "#6. Print b.\n",
    "\n",
    "print(b)"
   ]
  },
  {
   "cell_type": "code",
   "execution_count": 7,
   "id": "e81d072a",
   "metadata": {},
   "outputs": [
    {
     "name": "stdout",
     "output_type": "stream",
     "text": [
      "30\n",
      "30\n"
     ]
    }
   ],
   "source": [
    "#7. Do a and b have the same size? How do you prove that in Python code?\n",
    "\n",
    "print(a.size)\n",
    "print(b.size)"
   ]
  },
  {
   "cell_type": "code",
   "execution_count": 8,
   "id": "c50e4091",
   "metadata": {},
   "outputs": [
    {
     "ename": "ValueError",
     "evalue": "operands could not be broadcast together with shapes (2,3,5) (5,2,3) ",
     "output_type": "error",
     "traceback": [
      "\u001b[1;31m---------------------------------------------------------------------------\u001b[0m",
      "\u001b[1;31mValueError\u001b[0m                                Traceback (most recent call last)",
      "\u001b[1;32m~\\AppData\\Local\\Temp/ipykernel_3992/872620980.py\u001b[0m in \u001b[0;36m<module>\u001b[1;34m\u001b[0m\n\u001b[0;32m      1\u001b[0m \u001b[1;31m#8. Are you able to add a and b? Why or why not?\u001b[0m\u001b[1;33m\u001b[0m\u001b[1;33m\u001b[0m\u001b[1;33m\u001b[0m\u001b[0m\n\u001b[0;32m      2\u001b[0m \u001b[1;33m\u001b[0m\u001b[0m\n\u001b[1;32m----> 3\u001b[1;33m \u001b[0ma\u001b[0m \u001b[1;33m+\u001b[0m \u001b[0mb\u001b[0m \u001b[1;31m#No because they are of different shape\u001b[0m\u001b[1;33m\u001b[0m\u001b[1;33m\u001b[0m\u001b[0m\n\u001b[0m",
      "\u001b[1;31mValueError\u001b[0m: operands could not be broadcast together with shapes (2,3,5) (5,2,3) "
     ]
    }
   ],
   "source": [
    "#8. Are you able to add a and b? Why or why not?\n",
    "\n",
    "a + b #No because they are of different shape"
   ]
  },
  {
   "cell_type": "code",
   "execution_count": 9,
   "id": "7d995465",
   "metadata": {},
   "outputs": [
    {
     "name": "stdout",
     "output_type": "stream",
     "text": [
      "[[[1. 1. 1. 1. 1.]\n",
      "  [1. 1. 1. 1. 1.]\n",
      "  [1. 1. 1. 1. 1.]]\n",
      "\n",
      " [[1. 1. 1. 1. 1.]\n",
      "  [1. 1. 1. 1. 1.]\n",
      "  [1. 1. 1. 1. 1.]]]\n"
     ]
    }
   ],
   "source": [
    "#9. Transpose b so that it has the same structure of a (i.e. become a 2x3x5 array). Assign the transposed array to varialbe \"c\".\n",
    "\n",
    "c = b.reshape(2,3,5)\n",
    "print(c)"
   ]
  },
  {
   "cell_type": "code",
   "execution_count": 10,
   "id": "9b008e4c",
   "metadata": {},
   "outputs": [
    {
     "name": "stdout",
     "output_type": "stream",
     "text": [
      "[[[1.91866543 1.122716   1.16354368 1.09135983 1.30100361]\n",
      "  [1.36646143 1.4490776  1.87453205 1.06499334 1.35236981]\n",
      "  [1.72700556 1.17517917 1.6759641  1.07217972 1.10551671]]\n",
      "\n",
      " [[1.56785789 1.08705885 1.16420109 1.33232526 1.18237214]\n",
      "  [1.11514479 1.07829418 1.61173549 1.38209004 1.43124495]\n",
      "  [1.84602889 1.92427285 1.90672515 1.67562836 1.05920296]]]\n"
     ]
    }
   ],
   "source": [
    "#10. Try to add a and c. Now it should work. Assign the sum to varialbe \"d\". But why does it work now?\n",
    "\n",
    "d = a + c\n",
    "print(d)"
   ]
  },
  {
   "cell_type": "code",
   "execution_count": 11,
   "id": "43e3f25e",
   "metadata": {},
   "outputs": [
    {
     "name": "stdout",
     "output_type": "stream",
     "text": [
      "[[[0.91866543 0.122716   0.16354368 0.09135983 0.30100361]\n",
      "  [0.36646143 0.4490776  0.87453205 0.06499334 0.35236981]\n",
      "  [0.72700556 0.17517917 0.6759641  0.07217972 0.10551671]]\n",
      "\n",
      " [[0.56785789 0.08705885 0.16420109 0.33232526 0.18237214]\n",
      "  [0.11514479 0.07829418 0.61173549 0.38209004 0.43124495]\n",
      "  [0.84602889 0.92427285 0.90672515 0.67562836 0.05920296]]]\n",
      "------------------------------------------------------\n",
      "[[[1.91866543 1.122716   1.16354368 1.09135983 1.30100361]\n",
      "  [1.36646143 1.4490776  1.87453205 1.06499334 1.35236981]\n",
      "  [1.72700556 1.17517917 1.6759641  1.07217972 1.10551671]]\n",
      "\n",
      " [[1.56785789 1.08705885 1.16420109 1.33232526 1.18237214]\n",
      "  [1.11514479 1.07829418 1.61173549 1.38209004 1.43124495]\n",
      "  [1.84602889 1.92427285 1.90672515 1.67562836 1.05920296]]]\n"
     ]
    }
   ],
   "source": [
    "#11. Print a and d. Notice the difference and relation of the two array in terms of the values? Explain.\n",
    "\n",
    "print(a)\n",
    "print('------------------------------------------------------')\n",
    "print(d)"
   ]
  },
  {
   "cell_type": "code",
   "execution_count": 13,
   "id": "55a97673",
   "metadata": {},
   "outputs": [
    {
     "data": {
      "text/plain": [
       "array([[[0.91866543, 0.122716  , 0.16354368, 0.09135983, 0.30100361],\n",
       "        [0.36646143, 0.4490776 , 0.87453205, 0.06499334, 0.35236981],\n",
       "        [0.72700556, 0.17517917, 0.6759641 , 0.07217972, 0.10551671]],\n",
       "\n",
       "       [[0.56785789, 0.08705885, 0.16420109, 0.33232526, 0.18237214],\n",
       "        [0.11514479, 0.07829418, 0.61173549, 0.38209004, 0.43124495],\n",
       "        [0.84602889, 0.92427285, 0.90672515, 0.67562836, 0.05920296]]])"
      ]
     },
     "execution_count": 13,
     "metadata": {},
     "output_type": "execute_result"
    }
   ],
   "source": [
    "#12. Multiply a and c. Assign the result to e.\n",
    "\n",
    "e = a*c\n",
    "e"
   ]
  },
  {
   "cell_type": "code",
   "execution_count": 14,
   "id": "0506f038",
   "metadata": {},
   "outputs": [
    {
     "data": {
      "text/plain": [
       "array([[[ True,  True,  True,  True,  True],\n",
       "        [ True,  True,  True,  True,  True],\n",
       "        [ True,  True,  True,  True,  True]],\n",
       "\n",
       "       [[ True,  True,  True,  True,  True],\n",
       "        [ True,  True,  True,  True,  True],\n",
       "        [ True,  True,  True,  True,  True]]])"
      ]
     },
     "execution_count": 14,
     "metadata": {},
     "output_type": "execute_result"
    }
   ],
   "source": [
    "#13. Does e equal to a? Why or why not?\n",
    "\n",
    "e == a"
   ]
  },
  {
   "cell_type": "code",
   "execution_count": 18,
   "id": "c286daf7",
   "metadata": {},
   "outputs": [
    {
     "data": {
      "text/plain": [
       "1.3941583646417328"
      ]
     },
     "execution_count": 18,
     "metadata": {},
     "output_type": "execute_result"
    }
   ],
   "source": [
    "#14. Identify the max, min, and mean values in d. Assign those values to variables \"d_max\", \"d_min\", and \"d_mean\"\n",
    "\n",
    "d_max = np.max(d)\n",
    "d_min = np.min(d)\n",
    "d_mean = np.mean(d)"
   ]
  },
  {
   "cell_type": "code",
   "execution_count": 20,
   "id": "33ec152b",
   "metadata": {},
   "outputs": [
    {
     "data": {
      "text/plain": [
       "array([[[0.91866543, 0.122716  , 0.16354368, 0.09135983, 0.30100361],\n",
       "        [0.36646143, 0.4490776 , 0.87453205, 0.06499334, 0.35236981],\n",
       "        [0.72700556, 0.17517917, 0.6759641 , 0.07217972, 0.10551671]],\n",
       "\n",
       "       [[0.56785789, 0.08705885, 0.16420109, 0.33232526, 0.18237214],\n",
       "        [0.11514479, 0.07829418, 0.61173549, 0.38209004, 0.43124495],\n",
       "        [0.84602889, 0.92427285, 0.90672515, 0.67562836, 0.05920296]]])"
      ]
     },
     "execution_count": 20,
     "metadata": {},
     "output_type": "execute_result"
    }
   ],
   "source": [
    "#15. Now we want to label the values in d. First create an empty array \"f\" with the same shape (i.e. 2x3x5) as d using `np.empty`.\n",
    "\n",
    "f = np.empty((2,3,5))\n",
    "f"
   ]
  },
  {
   "cell_type": "code",
   "execution_count": 23,
   "id": "00e37201",
   "metadata": {},
   "outputs": [],
   "source": [
    "\"\"\"\n",
    "#16. Populate the values in f. For each value in d, if it's larger than d_min but smaller than d_mean, assign 25 to the corresponding value in f.\n",
    "If a value in d is larger than d_mean but smaller than d_max, assign 75 to the corresponding value in f.\n",
    "If a value equals to d_mean, assign 50 to the corresponding value in f.\n",
    "Assign 0 to the corresponding value(s) in f for d_min in d.\n",
    "Assign 100 to the corresponding value(s) in f for d_max in d.\n",
    "In the end, f should have only the following values: 0, 25, 50, 75, and 100.\n",
    "Note: you don't have to use Numpy in this question.\n",
    "\"\"\"\n",
    "\n",
    "f = np.where((d > d_min) & (d < d_mean),'25', \n",
    "         np.where((d > d_mean) & (d < d_max),'75',\n",
    "                  np.where(d==d_mean,'50',\n",
    "                           np.where(d == d_min,'0',\n",
    "                                    np.where(d == d_max,'100','')))))"
   ]
  },
  {
   "cell_type": "code",
   "execution_count": 24,
   "id": "8ebc2d93",
   "metadata": {},
   "outputs": [
    {
     "name": "stdout",
     "output_type": "stream",
     "text": [
      "[[[1.91866543 1.122716   1.16354368 1.09135983 1.30100361]\n",
      "  [1.36646143 1.4490776  1.87453205 1.06499334 1.35236981]\n",
      "  [1.72700556 1.17517917 1.6759641  1.07217972 1.10551671]]\n",
      "\n",
      " [[1.56785789 1.08705885 1.16420109 1.33232526 1.18237214]\n",
      "  [1.11514479 1.07829418 1.61173549 1.38209004 1.43124495]\n",
      "  [1.84602889 1.92427285 1.90672515 1.67562836 1.05920296]]]\n",
      "[[['75' '25' '25' '25' '25']\n",
      "  ['25' '75' '75' '25' '25']\n",
      "  ['75' '25' '75' '25' '25']]\n",
      "\n",
      " [['75' '25' '25' '25' '25']\n",
      "  ['25' '25' '75' '25' '75']\n",
      "  ['75' '100' '75' '75' '0']]]\n"
     ]
    }
   ],
   "source": [
    "\"\"\"\n",
    "#17. Print d and f. Do you have your expected f?\n",
    "For instance, if your d is:\n",
    "array([[[1.85836099, 1.67064465, 1.62576044, 1.40243961, 1.88454931],\n",
    "        [1.75354326, 1.69403643, 1.36729252, 1.61415071, 1.12104981],\n",
    "        [1.72201435, 1.1862918 , 1.87078449, 1.7726778 , 1.88180042]],\n",
    "\n",
    "       [[1.44747908, 1.31673383, 1.02000951, 1.52218947, 1.97066381],\n",
    "        [1.79129243, 1.74983003, 1.96028037, 1.85166831, 1.65450881],\n",
    "        [1.18068344, 1.9587381 , 1.00656599, 1.93402165, 1.73514584]]])\n",
    "\n",
    "Your f should be:\n",
    "array([[[ 75.,  75.,  75.,  25.,  75.],\n",
    "        [ 75.,  75.,  25.,  25.,  25.],\n",
    "        [ 75.,  25.,  75.,  75.,  75.]],\n",
    "\n",
    "       [[ 25.,  25.,  25.,  25., 100.],\n",
    "        [ 75.,  75.,  75.,  75.,  75.],\n",
    "        [ 25.,  75.,   0.,  75.,  75.]]])\n",
    "\"\"\"\n",
    "print(d)\n",
    "print(f)"
   ]
  },
  {
   "cell_type": "code",
   "execution_count": 25,
   "id": "972ac3a8",
   "metadata": {},
   "outputs": [
    {
     "data": {
      "text/plain": [
       "array([[['B', 'A', 'A', 'A', 'A'],\n",
       "        ['A', 'B', 'B', 'A', 'A'],\n",
       "        ['B', 'A', 'B', 'A', 'A']],\n",
       "\n",
       "       [['B', 'A', 'A', 'A', 'A'],\n",
       "        ['A', 'A', 'B', 'A', 'B'],\n",
       "        ['B', 'E', 'B', 'B', 'D']]], dtype='<U1')"
      ]
     },
     "execution_count": 25,
     "metadata": {},
     "output_type": "execute_result"
    }
   ],
   "source": [
    "\"\"\"\n",
    "#18. Bonus question: instead of using numbers (i.e. 0, 25, 50, 75, and 100), how to use string values \n",
    "(\"A\", \"B\", \"C\", \"D\", and \"E\") to label the array elements? You are expecting the result to be:\n",
    "array([[[ 'D',  'D',  'D',  'B',  'D'],\n",
    "        [ 'D',  'D',  'B',  'B',  'B'],\n",
    "        [ 'D',  'B',  'D',  'D',  'D']],\n",
    "\n",
    "       [[ 'B',  'B',  'B',  'B',  'E'],\n",
    "        [ 'D',  'D',  'D',  'D',  'D'],\n",
    "        [ 'B',  'D',   'A',  'D', 'D']]])\n",
    "Again, you don't need Numpy in this question.\n",
    "\"\"\"\n",
    "np.where((d > d_min) & (d < d_mean),'A', \n",
    "         np.where((d > d_mean) & (d < d_max),'B',\n",
    "                  np.where(d==d_mean,'C',\n",
    "                           np.where(d == d_min,'D',\n",
    "                                    np.where(d == d_max,'E','')))))"
   ]
  },
  {
   "cell_type": "code",
   "execution_count": null,
   "id": "72c28c1b",
   "metadata": {},
   "outputs": [],
   "source": []
  }
 ],
 "metadata": {
  "kernelspec": {
   "display_name": "Python 3 (ipykernel)",
   "language": "python",
   "name": "python3"
  },
  "language_info": {
   "codemirror_mode": {
    "name": "ipython",
    "version": 3
   },
   "file_extension": ".py",
   "mimetype": "text/x-python",
   "name": "python",
   "nbconvert_exporter": "python",
   "pygments_lexer": "ipython3",
   "version": "3.8.3"
  }
 },
 "nbformat": 4,
 "nbformat_minor": 5
}
