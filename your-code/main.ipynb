{
 "cells": [
  {
   "cell_type": "code",
   "execution_count": 2,
   "id": "c715dd69",
   "metadata": {},
   "outputs": [],
   "source": [
    "#1. Import the NUMPY package under the name np.\n",
    "\n",
    "import numpy as np\n"
   ]
  },
  {
   "cell_type": "code",
   "execution_count": 3,
   "id": "63a679cb",
   "metadata": {},
   "outputs": [
    {
     "name": "stdout",
     "output_type": "stream",
     "text": [
      "1.20.1\n"
     ]
    }
   ],
   "source": [
    "#2. Print the NUMPY version and the configuration.\n",
    "\n",
    "print(np.version.version)\n",
    "\n"
   ]
  },
  {
   "cell_type": "code",
   "execution_count": 13,
   "id": "85338ef0",
   "metadata": {},
   "outputs": [],
   "source": [
    "#3. Generate a 2x3x5 3-dimensional array with random values. \n",
    "# Assign the array to variable \"a\"\n",
    "# Challenge: there are at least three easy ways that use numpy \n",
    "# to generate random arrays. How many ways can you find?\n",
    "\n",
    "\n",
    "# a = np.random.randint([1], high=[10], size=[2,3,5])\n",
    "a = np.random.random((2,3,5))"
   ]
  },
  {
   "cell_type": "code",
   "execution_count": 14,
   "id": "e562ab19",
   "metadata": {},
   "outputs": [
    {
     "name": "stdout",
     "output_type": "stream",
     "text": [
      "[[[0.29059606 0.6929675  0.11254451 0.75362656 0.73711237]\n",
      "  [0.15508006 0.37035489 0.76033082 0.44564307 0.79875911]\n",
      "  [0.83525413 0.28545796 0.02450158 0.34002752 0.46792019]]\n",
      "\n",
      " [[0.76935387 0.47058751 0.74303882 0.45697583 0.79376209]\n",
      "  [0.57515287 0.41586711 0.10918473 0.47138571 0.63308642]\n",
      "  [0.96153208 0.30717352 0.07529411 0.49382925 0.61408563]]]\n"
     ]
    }
   ],
   "source": [
    "#4. Print a.\n",
    "print(a)"
   ]
  },
  {
   "cell_type": "code",
   "execution_count": 51,
   "id": "c8546932",
   "metadata": {},
   "outputs": [],
   "source": [
    "#5. Create a 5x2x3 3-dimensional array with all values equaling 1.\n",
    "#Assign the array to variable \"b\"\n",
    "\n",
    "\n",
    "b = np.ones([5,2,3])"
   ]
  },
  {
   "cell_type": "code",
   "execution_count": 52,
   "id": "6fa28a65",
   "metadata": {},
   "outputs": [
    {
     "name": "stdout",
     "output_type": "stream",
     "text": [
      "[[[1. 1. 1.]\n",
      "  [1. 1. 1.]]\n",
      "\n",
      " [[1. 1. 1.]\n",
      "  [1. 1. 1.]]\n",
      "\n",
      " [[1. 1. 1.]\n",
      "  [1. 1. 1.]]\n",
      "\n",
      " [[1. 1. 1.]\n",
      "  [1. 1. 1.]]\n",
      "\n",
      " [[1. 1. 1.]\n",
      "  [1. 1. 1.]]]\n"
     ]
    }
   ],
   "source": [
    "#6. Print b.\n",
    "print(b)"
   ]
  },
  {
   "cell_type": "code",
   "execution_count": 53,
   "id": "643a1393",
   "metadata": {},
   "outputs": [
    {
     "name": "stdout",
     "output_type": "stream",
     "text": [
      "Do a and b have the same size? True\n"
     ]
    }
   ],
   "source": [
    "#7. Do a and b have the same size? How do you prove that in Python code?\n",
    "\n",
    "print('Do a and b have the same size?',np.size(a) == np.size(b))\n",
    "\n",
    "\n"
   ]
  },
  {
   "cell_type": "code",
   "execution_count": 54,
   "id": "ee2a4d5e",
   "metadata": {},
   "outputs": [
    {
     "name": "stdout",
     "output_type": "stream",
     "text": [
      "Las dimensiones de las matrices deben coincidir\n"
     ]
    }
   ],
   "source": [
    "#8. Are you able to add a and b? Why or why not?\n",
    "try:\n",
    "    a+b\n",
    "except ValueError:\n",
    "    print('Las dimensiones de las matrices deben coincidir')"
   ]
  },
  {
   "cell_type": "code",
   "execution_count": 56,
   "id": "5ea95735",
   "metadata": {},
   "outputs": [
    {
     "data": {
      "text/plain": [
       "(2, 3, 5)"
      ]
     },
     "execution_count": 56,
     "metadata": {},
     "output_type": "execute_result"
    }
   ],
   "source": [
    "#9. Transpose b so that it has the same structure of a (i.e. become a 2x3x5 array). Assign the transposed array to varialbe \"c\".\n",
    "#5,2,3\n",
    "c = np.transpose(b, (1,2,0))\n",
    "c.shape\n"
   ]
  },
  {
   "cell_type": "code",
   "execution_count": 57,
   "id": "9b839ff7",
   "metadata": {},
   "outputs": [
    {
     "name": "stdout",
     "output_type": "stream",
     "text": [
      "[[[1.29059606 1.6929675  1.11254451 1.75362656 1.73711237]\n",
      "  [1.15508006 1.37035489 1.76033082 1.44564307 1.79875911]\n",
      "  [1.83525413 1.28545796 1.02450158 1.34002752 1.46792019]]\n",
      "\n",
      " [[1.76935387 1.47058751 1.74303882 1.45697583 1.79376209]\n",
      "  [1.57515287 1.41586711 1.10918473 1.47138571 1.63308642]\n",
      "  [1.96153208 1.30717352 1.07529411 1.49382925 1.61408563]]] \n",
      "\n",
      "La forma de a: (2, 3, 5) es igual a la forma de c: (2, 3, 5)\n"
     ]
    }
   ],
   "source": [
    "# 10. Try to add a and c. Now it should work. Assign the sum to varialbe \n",
    "# \"d\". But why does it work now?\n",
    "\n",
    "d = a + c\n",
    "print(d,'\\n')\n",
    "print('La forma de a:',np.shape(a),'es igual a la forma de c:',np.shape(c))"
   ]
  },
  {
   "cell_type": "code",
   "execution_count": 58,
   "id": "768ed432",
   "metadata": {},
   "outputs": [
    {
     "name": "stdout",
     "output_type": "stream",
     "text": [
      "a = \n",
      " [[[0.29059606 0.6929675  0.11254451 0.75362656 0.73711237]\n",
      "  [0.15508006 0.37035489 0.76033082 0.44564307 0.79875911]\n",
      "  [0.83525413 0.28545796 0.02450158 0.34002752 0.46792019]]\n",
      "\n",
      " [[0.76935387 0.47058751 0.74303882 0.45697583 0.79376209]\n",
      "  [0.57515287 0.41586711 0.10918473 0.47138571 0.63308642]\n",
      "  [0.96153208 0.30717352 0.07529411 0.49382925 0.61408563]]] \n",
      "\n",
      "d = \n",
      " [[[1.29059606 1.6929675  1.11254451 1.75362656 1.73711237]\n",
      "  [1.15508006 1.37035489 1.76033082 1.44564307 1.79875911]\n",
      "  [1.83525413 1.28545796 1.02450158 1.34002752 1.46792019]]\n",
      "\n",
      " [[1.76935387 1.47058751 1.74303882 1.45697583 1.79376209]\n",
      "  [1.57515287 1.41586711 1.10918473 1.47138571 1.63308642]\n",
      "  [1.96153208 1.30717352 1.07529411 1.49382925 1.61408563]]] \n",
      "\n",
      "Al sumar a a una matriz de \"unos\", el valor de d es el valor de a + 1\n"
     ]
    }
   ],
   "source": [
    "#11. Print a and d. Notice the difference and relation of the \n",
    "# two array in terms of the values? Explain.\n",
    "\n",
    "print('a = \\n',a,'\\n')\n",
    "print('d = \\n',d,'\\n')\n",
    "print('Al sumar a a una matriz de \"unos\", el valor de d es el valor de a + 1')\n"
   ]
  },
  {
   "cell_type": "code",
   "execution_count": 59,
   "id": "9fbcb5e6",
   "metadata": {},
   "outputs": [
    {
     "name": "stdout",
     "output_type": "stream",
     "text": [
      "[[[0.29059606 0.6929675  0.11254451 0.75362656 0.73711237]\n",
      "  [0.15508006 0.37035489 0.76033082 0.44564307 0.79875911]\n",
      "  [0.83525413 0.28545796 0.02450158 0.34002752 0.46792019]]\n",
      "\n",
      " [[0.76935387 0.47058751 0.74303882 0.45697583 0.79376209]\n",
      "  [0.57515287 0.41586711 0.10918473 0.47138571 0.63308642]\n",
      "  [0.96153208 0.30717352 0.07529411 0.49382925 0.61408563]]]\n"
     ]
    }
   ],
   "source": [
    "#12. Multiply a and c. Assign the result to e.\n",
    "\n",
    "e = a*c\n",
    "print(e)"
   ]
  },
  {
   "cell_type": "code",
   "execution_count": 60,
   "id": "d9fd83c3",
   "metadata": {},
   "outputs": [
    {
     "name": "stdout",
     "output_type": "stream",
     "text": [
      "[[[ True  True  True  True  True]\n",
      "  [ True  True  True  True  True]\n",
      "  [ True  True  True  True  True]]\n",
      "\n",
      " [[ True  True  True  True  True]\n",
      "  [ True  True  True  True  True]\n",
      "  [ True  True  True  True  True]]] \n",
      "\n",
      "Cualquier numero multiplicado por uno es igual a ese numero. a * 1 = a\n"
     ]
    }
   ],
   "source": [
    "#13. Does e equal to a? Why or why not?\n",
    "\n",
    "print(e == a,'\\n')\n",
    "\n",
    "print('Cualquier numero multiplicado por uno es igual a ese numero. a * 1 = a')\n"
   ]
  },
  {
   "cell_type": "code",
   "execution_count": 63,
   "id": "1a11edf0",
   "metadata": {},
   "outputs": [
    {
     "name": "stdout",
     "output_type": "stream",
     "text": [
      "max: 1.96153208326675 \n",
      "\n",
      "min: 1.0245015761233 \n",
      "\n",
      "mean: 1.4986828630427687\n"
     ]
    }
   ],
   "source": [
    "#14. Identify the max, min, and mean values in d. \n",
    "# Assign those values to variables \"d_max\", \"d_min\", and \"d_mean\"\n",
    "\n",
    "d_max = np.max(d)\n",
    "d_min = np.min(d)\n",
    "d_mean = np.mean(d)\n",
    "\n",
    "print('max:',d_max,'\\n')\n",
    "print('min:',d_min,'\\n')\n",
    "print('mean:',d_mean)"
   ]
  },
  {
   "cell_type": "code",
   "execution_count": 65,
   "id": "ad6bbf6c",
   "metadata": {},
   "outputs": [
    {
     "data": {
      "text/plain": [
       "array([[[0.29059606, 0.6929675 , 0.11254451, 0.75362656, 0.73711237],\n",
       "        [0.15508006, 0.37035489, 0.76033082, 0.44564307, 0.79875911],\n",
       "        [0.83525413, 0.28545796, 0.02450158, 0.34002752, 0.46792019]],\n",
       "\n",
       "       [[0.76935387, 0.47058751, 0.74303882, 0.45697583, 0.79376209],\n",
       "        [0.57515287, 0.41586711, 0.10918473, 0.47138571, 0.63308642],\n",
       "        [0.96153208, 0.30717352, 0.07529411, 0.49382925, 0.61408563]]])"
      ]
     },
     "execution_count": 65,
     "metadata": {},
     "output_type": "execute_result"
    }
   ],
   "source": [
    "#15. Now we want to label the values in d. \n",
    "\n",
    "# First create an empty array \"f\" with the \n",
    "# same shape (i.e. 2x3x5) as d using `np.empty`.\n",
    "\n",
    "f = np.empty((2,3,5))"
   ]
  },
  {
   "cell_type": "code",
   "execution_count": 66,
   "id": "ea0d996c",
   "metadata": {},
   "outputs": [
    {
     "data": {
      "text/plain": [
       "array([[[1.29059606, 1.6929675 , 1.11254451, 1.75362656, 1.73711237],\n",
       "        [1.15508006, 1.37035489, 1.76033082, 1.44564307, 1.79875911],\n",
       "        [1.83525413, 1.28545796, 1.02450158, 1.34002752, 1.46792019]],\n",
       "\n",
       "       [[1.76935387, 1.47058751, 1.74303882, 1.45697583, 1.79376209],\n",
       "        [1.57515287, 1.41586711, 1.10918473, 1.47138571, 1.63308642],\n",
       "        [1.96153208, 1.30717352, 1.07529411, 1.49382925, 1.61408563]]])"
      ]
     },
     "execution_count": 66,
     "metadata": {},
     "output_type": "execute_result"
    }
   ],
   "source": [
    "d"
   ]
  },
  {
   "cell_type": "code",
   "execution_count": 81,
   "id": "9ceb125d",
   "metadata": {},
   "outputs": [],
   "source": [
    "\n",
    "# #16. Populate the values in f. For each value in d, \n",
    "# if it's larger than d_min but smaller than d_mean, \n",
    "# assign 25 to the corresponding value in f.\n",
    "# If a value in d is larger than d_mean but smaller than d_max, \n",
    "# assign 75 to the corresponding value in f.\n",
    "# If a value equals to d_mean, assign 50 to the corresponding value in f.\n",
    "# Assign 0 to the corresponding value(s) in f for d_min in d.\n",
    "# Assign 100 to the corresponding value(s) in f for d_max in d.\n",
    "# In the end, f should have only the following values: 0, 25, 50, 75, \n",
    "# and 100. Note: you don't have to use Numpy in this question.\n",
    "\n",
    "# f = np.where(d == d_min, 0,\n",
    "#             np.where((d > d_min) & (d < d_mean), 25,\n",
    "#                     np.where(d == d_mean, 50,\n",
    "#                              np.where((d > d_mean) & (d < d_max), 75,10)\n",
    "#                              )\n",
    "#                     )\n",
    "#             )\n",
    "# f\n",
    "\n",
    "for k in range(len(d)): # para cada tabla en el cubo\n",
    "    for j in range(len(d[k])): # para cada fila en la tabla\n",
    "        for i in range(len(d[k][j])): # para cada elemento en la fila\n",
    "            \n",
    "            # d[Tabla, Fila, Elemento]\n",
    "            if d[k,j,i] > d_min and d[k,j,i] < d_mean:\n",
    "                f[k,j,i] = 25\n",
    "            elif d[k,j,i] > d_mean and d[k,j,i] < d_max:\n",
    "                f[k,j,i] = 75\n",
    "            elif d[k,j,i] == d_min:\n",
    "                f[k,j,i] = 0\n",
    "            elif d[k,j,i] == d_max:\n",
    "                f[k,j,i] = 100\n",
    "            else:\n",
    "                f[k,j,i] = 50\n",
    "                \n",
    "\n"
   ]
  },
  {
   "cell_type": "code",
   "execution_count": 82,
   "id": "e9d2c6eb",
   "metadata": {},
   "outputs": [
    {
     "name": "stdout",
     "output_type": "stream",
     "text": [
      "[[[1.29059606 1.6929675  1.11254451 1.75362656 1.73711237]\n",
      "  [1.15508006 1.37035489 1.76033082 1.44564307 1.79875911]\n",
      "  [1.83525413 1.28545796 1.02450158 1.34002752 1.46792019]]\n",
      "\n",
      " [[1.76935387 1.47058751 1.74303882 1.45697583 1.79376209]\n",
      "  [1.57515287 1.41586711 1.10918473 1.47138571 1.63308642]\n",
      "  [1.96153208 1.30717352 1.07529411 1.49382925 1.61408563]]] \n",
      " [[[ 25  75  25  75  75]\n",
      "  [ 25  25  75  25  75]\n",
      "  [ 75  25   0  25  25]]\n",
      "\n",
      " [[ 75  25  75  25  75]\n",
      "  [ 75  25  25  25  75]\n",
      "  [100  25  25  25  75]]]\n"
     ]
    }
   ],
   "source": [
    "\"\"\"\n",
    "#17. Print d and f. Do you have your expected f?\n",
    "For instance, if your d is:\n",
    "array([[[1.85836099, 1.67064465, 1.62576044, 1.40243961, 1.88454931],\n",
    "        [1.75354326, 1.69403643, 1.36729252, 1.61415071, 1.12104981],\n",
    "        [1.72201435, 1.1862918 , 1.87078449, 1.7726778 , 1.88180042]],\n",
    "\n",
    "       [[1.44747908, 1.31673383, 1.02000951, 1.52218947, 1.97066381],\n",
    "        [1.79129243, 1.74983003, 1.96028037, 1.85166831, 1.65450881],\n",
    "        [1.18068344, 1.9587381 , 1.00656599, 1.93402165, 1.73514584]]])\n",
    "\n",
    "Your f should be:\n",
    "array([[[ 75.,  75.,  75.,  25.,  75.],\n",
    "        [ 75.,  75.,  25.,  25.,  25.],\n",
    "        [ 75.,  25.,  75.,  75.,  75.]],\n",
    "\n",
    "       [[ 25.,  25.,  25.,  25., 100.],\n",
    "        [ 75.,  75.,  75.,  75.,  75.],\n",
    "        [ 25.,  75.,   0.,  75.,  75.]]])\n",
    "\"\"\"\n",
    "\n",
    "print(d,'\\n',f)\n"
   ]
  },
  {
   "cell_type": "code",
   "execution_count": 80,
   "id": "28ba1ab1",
   "metadata": {},
   "outputs": [
    {
     "name": "stdout",
     "output_type": "stream",
     "text": [
      "[[[1.29059606 1.6929675  1.11254451 1.75362656 1.73711237]\n",
      "  [1.15508006 1.37035489 1.76033082 1.44564307 1.79875911]\n",
      "  [1.83525413 1.28545796 1.02450158 1.34002752 1.46792019]]\n",
      "\n",
      " [[1.76935387 1.47058751 1.74303882 1.45697583 1.79376209]\n",
      "  [1.57515287 1.41586711 1.10918473 1.47138571 1.63308642]\n",
      "  [1.96153208 1.30717352 1.07529411 1.49382925 1.61408563]]] \n",
      "\n",
      " [[['B' 'D' 'B' 'D' 'D']\n",
      "  ['B' 'B' 'D' 'B' 'D']\n",
      "  ['D' 'B' 'A' 'B' 'B']]\n",
      "\n",
      " [['D' 'B' 'D' 'B' 'D']\n",
      "  ['D' 'B' 'B' 'B' 'D']\n",
      "  ['E' 'B' 'B' 'B' 'D']]]\n"
     ]
    }
   ],
   "source": [
    "\n",
    "# #18. Bonus question: instead of using numbers (i.e. 0, 25, 50, 75, and 100), how to use string values \n",
    "# (\"A\", \"B\", \"C\", \"D\", and \"E\") to label the array elements? You are expecting the result to be:\n",
    "# array([[[ 'D',  'D',  'D',  'B',  'D'],\n",
    "#         [ 'D',  'D',  'B',  'B',  'B'],\n",
    "#         [ 'D',  'B',  'D',  'D',  'D']],\n",
    "\n",
    "#        [[ 'B',  'B',  'B',  'B',  'E'],\n",
    "#         [ 'D',  'D',  'D',  'D',  'D'],\n",
    "#         [ 'B',  'D',   'A',  'D', 'D']]])\n",
    "# Again, you don't need Numpy in this question.\n",
    "\n",
    "g = np.empty((2,3,5), dtype='O')\n",
    "\n",
    "for k in range(len(d)): # para cada tabla en el cubo\n",
    "    for j in range(len(d[k])): # para cada fila en la tabla\n",
    "        for i in range(len(d[k][j])): # para cada elemento en la fila\n",
    "            \n",
    "            # d[Tabla, Fila, Elemento]\n",
    "            if d[k,j,i] > d_min and d[k,j,i] < d_mean:\n",
    "                g[k,j,i] = 'B'\n",
    "            elif d[k,j,i] > d_mean and d[k,j,i] < d_max:\n",
    "                g[k,j,i] = 'D'\n",
    "            elif d[k,j,i] == d_min:\n",
    "                g[k,j,i] = 'A'\n",
    "            elif d[k,j,i] == d_max:\n",
    "                g[k,j,i] = 'E'\n",
    "            else:\n",
    "                g[k,j,i] = 'C'\n",
    "                \n",
    "print(d,'\\n\\n',g)\n"
   ]
  },
  {
   "cell_type": "code",
   "execution_count": null,
   "id": "2090a81c",
   "metadata": {},
   "outputs": [],
   "source": []
  }
 ],
 "metadata": {
  "kernelspec": {
   "display_name": "Python 3",
   "language": "python",
   "name": "python3"
  },
  "language_info": {
   "codemirror_mode": {
    "name": "ipython",
    "version": 3
   },
   "file_extension": ".py",
   "mimetype": "text/x-python",
   "name": "python",
   "nbconvert_exporter": "python",
   "pygments_lexer": "ipython3",
   "version": "3.8.8"
  }
 },
 "nbformat": 4,
 "nbformat_minor": 5
}
