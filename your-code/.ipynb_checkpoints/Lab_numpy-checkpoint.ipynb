{
 "cells": [
  {
   "cell_type": "code",
   "execution_count": 1,
   "id": "45b76745",
   "metadata": {},
   "outputs": [],
   "source": [
    "#1. Import the NUMPY package under the name np.\n",
    "import numpy as np"
   ]
  },
  {
   "cell_type": "code",
   "execution_count": 2,
   "id": "2c0316db",
   "metadata": {},
   "outputs": [
    {
     "data": {
      "text/plain": [
       "'1.21.3'"
      ]
     },
     "execution_count": 2,
     "metadata": {},
     "output_type": "execute_result"
    }
   ],
   "source": [
    "#2. Print the NUMPY version and the configuration.\n",
    "np.version.version"
   ]
  },
  {
   "cell_type": "code",
   "execution_count": 3,
   "id": "e4c93d30",
   "metadata": {},
   "outputs": [
    {
     "name": "stdout",
     "output_type": "stream",
     "text": [
      "1.21.3\n"
     ]
    }
   ],
   "source": [
    "print(np.__version__)"
   ]
  },
  {
   "cell_type": "code",
   "execution_count": 4,
   "id": "f2f53072",
   "metadata": {},
   "outputs": [
    {
     "name": "stdout",
     "output_type": "stream",
     "text": [
      "blas_mkl_info:\n",
      "  NOT AVAILABLE\n",
      "blis_info:\n",
      "  NOT AVAILABLE\n",
      "openblas_info:\n",
      "    libraries = ['openblas', 'openblas']\n",
      "    library_dirs = ['/usr/local/lib']\n",
      "    language = c\n",
      "    define_macros = [('HAVE_CBLAS', None)]\n",
      "    runtime_library_dirs = ['/usr/local/lib']\n",
      "blas_opt_info:\n",
      "    libraries = ['openblas', 'openblas']\n",
      "    library_dirs = ['/usr/local/lib']\n",
      "    language = c\n",
      "    define_macros = [('HAVE_CBLAS', None)]\n",
      "    runtime_library_dirs = ['/usr/local/lib']\n",
      "lapack_mkl_info:\n",
      "  NOT AVAILABLE\n",
      "openblas_lapack_info:\n",
      "    libraries = ['openblas', 'openblas']\n",
      "    library_dirs = ['/usr/local/lib']\n",
      "    language = c\n",
      "    define_macros = [('HAVE_CBLAS', None)]\n",
      "    runtime_library_dirs = ['/usr/local/lib']\n",
      "lapack_opt_info:\n",
      "    libraries = ['openblas', 'openblas']\n",
      "    library_dirs = ['/usr/local/lib']\n",
      "    language = c\n",
      "    define_macros = [('HAVE_CBLAS', None)]\n",
      "    runtime_library_dirs = ['/usr/local/lib']\n",
      "Supported SIMD extensions in this NumPy install:\n",
      "    baseline = SSE,SSE2,SSE3\n",
      "    found = SSSE3,SSE41,POPCNT,SSE42,AVX,F16C,FMA3,AVX2\n",
      "    not found = AVX512F,AVX512CD,AVX512_KNL,AVX512_SKX,AVX512_CLX,AVX512_CNL,AVX512_ICL\n"
     ]
    }
   ],
   "source": [
    "np.show_config()"
   ]
  },
  {
   "cell_type": "code",
   "execution_count": 5,
   "id": "e41c5f1f",
   "metadata": {
    "scrolled": true
   },
   "outputs": [],
   "source": [
    "#3. Generate a 2x3x5 3-dimensional array with random values. Assign the array to variable \"a\"\n",
    "# Challenge: there are at least three easy ways that use numpy to generate random arrays. How many ways can you find?\n",
    "a = np.random.random((2, 3, 5))\n"
   ]
  },
  {
   "cell_type": "code",
   "execution_count": 6,
   "id": "b3d5f619",
   "metadata": {},
   "outputs": [
    {
     "data": {
      "text/plain": [
       "array([[[0.08124982, 0.17998509, 0.13647771, 0.48104811, 0.38582361],\n",
       "        [0.43921524, 0.14597924, 0.46845836, 0.54604489, 0.17030149],\n",
       "        [0.09731342, 0.75059153, 0.91120966, 0.09804948, 0.97611002]],\n",
       "\n",
       "       [[0.39476508, 0.95778658, 0.72037705, 0.05061037, 0.045774  ],\n",
       "        [0.39598828, 0.18304903, 0.61385054, 0.64597945, 0.62022815],\n",
       "        [0.57506902, 0.89933662, 0.89783145, 0.54682733, 0.9984719 ]]])"
      ]
     },
     "execution_count": 6,
     "metadata": {},
     "output_type": "execute_result"
    }
   ],
   "source": [
    "#4. Print a.\n",
    "a"
   ]
  },
  {
   "cell_type": "code",
   "execution_count": 7,
   "id": "bde43840",
   "metadata": {},
   "outputs": [],
   "source": [
    "#5. Create a 5x2x3 3-dimensional array with all values equaling 1.\n",
    "#Assign the array to variable \"b\"\n",
    "b = np.ones((5, 2, 3))"
   ]
  },
  {
   "cell_type": "code",
   "execution_count": 8,
   "id": "9d1e5ffd",
   "metadata": {},
   "outputs": [
    {
     "data": {
      "text/plain": [
       "array([[[1., 1., 1.],\n",
       "        [1., 1., 1.]],\n",
       "\n",
       "       [[1., 1., 1.],\n",
       "        [1., 1., 1.]],\n",
       "\n",
       "       [[1., 1., 1.],\n",
       "        [1., 1., 1.]],\n",
       "\n",
       "       [[1., 1., 1.],\n",
       "        [1., 1., 1.]],\n",
       "\n",
       "       [[1., 1., 1.],\n",
       "        [1., 1., 1.]]])"
      ]
     },
     "execution_count": 8,
     "metadata": {},
     "output_type": "execute_result"
    }
   ],
   "source": [
    "#6. Print b.\n",
    "b"
   ]
  },
  {
   "cell_type": "code",
   "execution_count": 9,
   "id": "c8fb6170",
   "metadata": {},
   "outputs": [
    {
     "data": {
      "text/plain": [
       "True"
      ]
     },
     "execution_count": 9,
     "metadata": {},
     "output_type": "execute_result"
    }
   ],
   "source": [
    "#7. Do a and b have the same size? How do you prove that in Python code?\n",
    "\n",
    "a.size == b.size"
   ]
  },
  {
   "cell_type": "code",
   "execution_count": 10,
   "id": "46bcf220",
   "metadata": {},
   "outputs": [
    {
     "ename": "ValueError",
     "evalue": "operands could not be broadcast together with shapes (2,3,5) (5,2,3) ",
     "output_type": "error",
     "traceback": [
      "\u001b[0;31m---------------------------------------------------------------------------\u001b[0m",
      "\u001b[0;31mValueError\u001b[0m                                Traceback (most recent call last)",
      "\u001b[0;32m/var/folders/_y/xlcf2p8x4tzcg6lmglwbvgj00000gn/T/ipykernel_9384/3534389038.py\u001b[0m in \u001b[0;36m<module>\u001b[0;34m\u001b[0m\n\u001b[1;32m      1\u001b[0m \u001b[0;31m#8. Are you able to add a and b? Why or why not?\u001b[0m\u001b[0;34m\u001b[0m\u001b[0;34m\u001b[0m\u001b[0m\n\u001b[1;32m      2\u001b[0m \u001b[0;31m#operands could not be broadcast together with shapes (2,3,5) (5,2,3)\u001b[0m\u001b[0;34m\u001b[0m\u001b[0;34m\u001b[0m\u001b[0m\n\u001b[0;32m----> 3\u001b[0;31m \u001b[0mab\u001b[0m \u001b[0;34m=\u001b[0m \u001b[0ma\u001b[0m \u001b[0;34m+\u001b[0m \u001b[0mb\u001b[0m\u001b[0;34m\u001b[0m\u001b[0;34m\u001b[0m\u001b[0m\n\u001b[0m\u001b[1;32m      4\u001b[0m \u001b[0;34m\u001b[0m\u001b[0m\n\u001b[1;32m      5\u001b[0m \u001b[0;31m#No porque son diferenets dimensiones\u001b[0m\u001b[0;34m\u001b[0m\u001b[0;34m\u001b[0m\u001b[0m\n",
      "\u001b[0;31mValueError\u001b[0m: operands could not be broadcast together with shapes (2,3,5) (5,2,3) "
     ]
    }
   ],
   "source": [
    "#8. Are you able to add a and b? Why or why not?\n",
    "#operands could not be broadcast together with shapes (2,3,5) (5,2,3)\n",
    "ab = a + b\n",
    "\n",
    "#No porque son diferenets dimensiones"
   ]
  },
  {
   "cell_type": "code",
   "execution_count": 13,
   "id": "78c57cbd",
   "metadata": {
    "scrolled": false
   },
   "outputs": [
    {
     "data": {
      "text/plain": [
       "array([[[1., 1., 1., 1., 1.],\n",
       "        [1., 1., 1., 1., 1.],\n",
       "        [1., 1., 1., 1., 1.]],\n",
       "\n",
       "       [[1., 1., 1., 1., 1.],\n",
       "        [1., 1., 1., 1., 1.],\n",
       "        [1., 1., 1., 1., 1.]]])"
      ]
     },
     "execution_count": 13,
     "metadata": {},
     "output_type": "execute_result"
    }
   ],
   "source": [
    "#9. Transpose b so that it has the same structure of a (i.e. become a 2x3x5 array). Assign the transposed array to varialbe \"c\".\n",
    "\n",
    "\n",
    "   # b.reshape(b, (2, 3,5))\n",
    "    \n",
    "c = np.transpose(b, (1, 2, 0))\n",
    "c\n",
    "    \n"
   ]
  },
  {
   "cell_type": "code",
   "execution_count": null,
   "id": "b2e2a4e9",
   "metadata": {},
   "outputs": [],
   "source": [
    "#c.shape"
   ]
  },
  {
   "cell_type": "code",
   "execution_count": null,
   "id": "5cec94a1",
   "metadata": {},
   "outputs": [],
   "source": [
    "#a.shape"
   ]
  },
  {
   "cell_type": "code",
   "execution_count": 14,
   "id": "bad062fe",
   "metadata": {},
   "outputs": [
    {
     "data": {
      "text/plain": [
       "array([[[1.08124982, 1.17998509, 1.13647771, 1.48104811, 1.38582361],\n",
       "        [1.43921524, 1.14597924, 1.46845836, 1.54604489, 1.17030149],\n",
       "        [1.09731342, 1.75059153, 1.91120966, 1.09804948, 1.97611002]],\n",
       "\n",
       "       [[1.39476508, 1.95778658, 1.72037705, 1.05061037, 1.045774  ],\n",
       "        [1.39598828, 1.18304903, 1.61385054, 1.64597945, 1.62022815],\n",
       "        [1.57506902, 1.89933662, 1.89783145, 1.54682733, 1.9984719 ]]])"
      ]
     },
     "execution_count": 14,
     "metadata": {},
     "output_type": "execute_result"
    }
   ],
   "source": [
    "\n",
    "#10. Try to add a and c. Now it should work. Assign the sum to varialbe \"d\". But why does it work now?\n",
    "\n",
    "#d = a + c\n",
    "d = a+c\n",
    "d\n",
    "\n"
   ]
  },
  {
   "cell_type": "code",
   "execution_count": 15,
   "id": "70084176",
   "metadata": {},
   "outputs": [
    {
     "name": "stdout",
     "output_type": "stream",
     "text": [
      "[[[0.08124982 0.17998509 0.13647771 0.48104811 0.38582361]\n",
      "  [0.43921524 0.14597924 0.46845836 0.54604489 0.17030149]\n",
      "  [0.09731342 0.75059153 0.91120966 0.09804948 0.97611002]]\n",
      "\n",
      " [[0.39476508 0.95778658 0.72037705 0.05061037 0.045774  ]\n",
      "  [0.39598828 0.18304903 0.61385054 0.64597945 0.62022815]\n",
      "  [0.57506902 0.89933662 0.89783145 0.54682733 0.9984719 ]]]\n",
      "[[[1.08124982 1.17998509 1.13647771 1.48104811 1.38582361]\n",
      "  [1.43921524 1.14597924 1.46845836 1.54604489 1.17030149]\n",
      "  [1.09731342 1.75059153 1.91120966 1.09804948 1.97611002]]\n",
      "\n",
      " [[1.39476508 1.95778658 1.72037705 1.05061037 1.045774  ]\n",
      "  [1.39598828 1.18304903 1.61385054 1.64597945 1.62022815]\n",
      "  [1.57506902 1.89933662 1.89783145 1.54682733 1.9984719 ]]]\n"
     ]
    }
   ],
   "source": [
    "#11. Print a and d.\n",
    "#Notice the difference and relation of the two array in terms of the values? Explain.\n",
    "#It is a plus 1 \n",
    "print(a)\n",
    "print(d)\n"
   ]
  },
  {
   "cell_type": "code",
   "execution_count": 16,
   "id": "30955f37",
   "metadata": {},
   "outputs": [
    {
     "data": {
      "text/plain": [
       "array([[[0.08124982, 0.17998509, 0.13647771, 0.48104811, 0.38582361],\n",
       "        [0.43921524, 0.14597924, 0.46845836, 0.54604489, 0.17030149],\n",
       "        [0.09731342, 0.75059153, 0.91120966, 0.09804948, 0.97611002]],\n",
       "\n",
       "       [[0.39476508, 0.95778658, 0.72037705, 0.05061037, 0.045774  ],\n",
       "        [0.39598828, 0.18304903, 0.61385054, 0.64597945, 0.62022815],\n",
       "        [0.57506902, 0.89933662, 0.89783145, 0.54682733, 0.9984719 ]]])"
      ]
     },
     "execution_count": 16,
     "metadata": {},
     "output_type": "execute_result"
    }
   ],
   "source": [
    "#12. Multiply a and c. Assign the result to e.\n",
    "e = a*c\n",
    "e"
   ]
  },
  {
   "cell_type": "code",
   "execution_count": 17,
   "id": "d3167782",
   "metadata": {},
   "outputs": [
    {
     "data": {
      "text/plain": [
       "array([[[ True,  True,  True,  True,  True],\n",
       "        [ True,  True,  True,  True,  True],\n",
       "        [ True,  True,  True,  True,  True]],\n",
       "\n",
       "       [[ True,  True,  True,  True,  True],\n",
       "        [ True,  True,  True,  True,  True],\n",
       "        [ True,  True,  True,  True,  True]]])"
      ]
     },
     "execution_count": 17,
     "metadata": {},
     "output_type": "execute_result"
    }
   ],
   "source": [
    "#13. Does e equal to a? Why or why not?\n",
    "a == e"
   ]
  },
  {
   "cell_type": "code",
   "execution_count": 18,
   "id": "d3ba6b0a",
   "metadata": {},
   "outputs": [
    {
     "name": "stdout",
     "output_type": "stream",
     "text": [
      "1.9984719031104825\n",
      "1.0457739958032226\n",
      "1.4804600840055349\n"
     ]
    }
   ],
   "source": [
    "#14. Identify the max, min, and mean values in d. Assign those values to variables \"d_max\", \"d_min\", and \"d_mean\"\n",
    "d_max = np.max(d)\n",
    "d_min = np.min(d)\n",
    "d_mean = np.mean(d)\n",
    "print(d_max)\n",
    "print(d_min)\n",
    "print(d_mean)"
   ]
  },
  {
   "cell_type": "code",
   "execution_count": 19,
   "id": "c667f181",
   "metadata": {},
   "outputs": [
    {
     "data": {
      "text/plain": [
       "array([[[0.08124982, 0.17998509, 0.13647771, 0.48104811, 0.38582361],\n",
       "        [0.43921524, 0.14597924, 0.46845836, 0.54604489, 0.17030149],\n",
       "        [0.09731342, 0.75059153, 0.91120966, 0.09804948, 0.97611002]],\n",
       "\n",
       "       [[0.39476508, 0.95778658, 0.72037705, 0.05061037, 0.045774  ],\n",
       "        [0.39598828, 0.18304903, 0.61385054, 0.64597945, 0.62022815],\n",
       "        [0.57506902, 0.89933662, 0.89783145, 0.54682733, 0.9984719 ]]])"
      ]
     },
     "execution_count": 19,
     "metadata": {},
     "output_type": "execute_result"
    }
   ],
   "source": [
    "#15. Now we want to label the values in d. First create an empty array \"f\" with the same shape (i.e. 2x3x5) as d using `np.empty`.\n",
    "f = np.empty((2,3,5))\n",
    "f"
   ]
  },
  {
   "cell_type": "code",
   "execution_count": 20,
   "id": "7992f371",
   "metadata": {
    "scrolled": true
   },
   "outputs": [
    {
     "data": {
      "text/plain": [
       "\"\\n#16. Populate the values in f. For each value in d, if it's larger than d_min but smaller than d_mean, assign 25 to the corresponding value in f.\\nIf a value in d is larger than d_mean but smaller than d_max, assign 75 to the corresponding value in f.\\nIf a value equals to d_mean, assign 50 to the corresponding value in f.\\nAssign 0 to the corresponding value(s) in f for d_min in d.\\nAssign 100 to the corresponding value(s) in f for d_max in d.\\nIn the end, f should have only the following values: 0, 25, 50, 75, and 100.\\nNote: you don't have to use Numpy in this question.\\n\""
      ]
     },
     "execution_count": 20,
     "metadata": {},
     "output_type": "execute_result"
    }
   ],
   "source": [
    "\"\"\"\n",
    "#16. Populate the values in f. For each value in d, if it's larger than d_min but smaller than d_mean, assign 25 to the corresponding value in f.\n",
    "If a value in d is larger than d_mean but smaller than d_max, assign 75 to the corresponding value in f.\n",
    "If a value equals to d_mean, assign 50 to the corresponding value in f.\n",
    "Assign 0 to the corresponding value(s) in f for d_min in d.\n",
    "Assign 100 to the corresponding value(s) in f for d_max in d.\n",
    "In the end, f should have only the following values: 0, 25, 50, 75, and 100.\n",
    "Note: you don't have to use Numpy in this question.\n",
    "\"\"\""
   ]
  },
  {
   "cell_type": "code",
   "execution_count": 24,
   "id": "db27cf77",
   "metadata": {},
   "outputs": [
    {
     "data": {
      "text/plain": [
       "array([[[ 25.,  25.,  25.,  75.,  25.],\n",
       "        [ 25.,  25.,  25.,  75.,  25.],\n",
       "        [ 25.,  75.,  75.,  25.,  75.]],\n",
       "\n",
       "       [[ 25.,  75.,  75.,  25.,   0.],\n",
       "        [ 25.,  25.,  75.,  75.,  75.],\n",
       "        [ 75.,  75.,  75.,  75., 100.]]])"
      ]
     },
     "execution_count": 24,
     "metadata": {},
     "output_type": "execute_result"
    }
   ],
   "source": [
    "g = d \n",
    "for i_1,i in enumerate(g):\n",
    "    for i_2,x in enumerate(i):\n",
    "        for i_3,y in enumerate(x):\n",
    "            if y> d_min and y < d_mean:\n",
    "                f[i_1][i_2][i_3]=25\n",
    "            elif y > d_mean and y < d_max:\n",
    "                f[i_1][i_2][i_3]=75\n",
    "            elif y == d_mean:\n",
    "                f[i_1][i_2][i_3]=50\n",
    "            elif y == d_min:\n",
    "                f[i_1][i_2][i_3]=0\n",
    "            elif y == d_max:\n",
    "                f[i_1][i_2][i_3]=100\n",
    "\n",
    "f"
   ]
  },
  {
   "cell_type": "code",
   "execution_count": null,
   "id": "910595b1",
   "metadata": {},
   "outputs": [],
   "source": [
    "\"\"\"\n",
    "#17. Print d and f. Do you have your expected f?\n",
    "For instance, if your d is:\n",
    "array([[[1.85836099, 1.67064465, 1.62576044, 1.40243961, 1.88454931],\n",
    "        [1.75354326, 1.69403643, 1.36729252, 1.61415071, 1.12104981],\n",
    "        [1.72201435, 1.1862918 , 1.87078449, 1.7726778 , 1.88180042]],\n",
    "\n",
    "       [[1.44747908, 1.31673383, 1.02000951, 1.52218947, 1.97066381],\n",
    "        [1.79129243, 1.74983003, 1.96028037, 1.85166831, 1.65450881],\n",
    "        [1.18068344, 1.9587381 , 1.00656599, 1.93402165, 1.73514584]]])\n",
    "\n",
    "Your f should be:\n",
    "array([[[ 75.,  75.,  75.,  25.,  75.],\n",
    "        [ 75.,  75.,  25.,  25.,  25.],\n",
    "        [ 75.,  25.,  75.,  75.,  75.]],\n",
    "\n",
    "       [[ 25.,  25.,  25.,  25., 100.],\n",
    "        [ 75.,  75.,  75.,  75.,  75.],\n",
    "        [ 25.,  75.,   0.,  75.,  75.]]])\n",
    "\"\"\""
   ]
  },
  {
   "cell_type": "code",
   "execution_count": null,
   "id": "8805b1da",
   "metadata": {},
   "outputs": [],
   "source": [
    "\"\"\"\n",
    "#18. Bonus question: instead of using numbers (i.e. 0, 25, 50, 75, and 100), how to use string values \n",
    "(\"A\", \"B\", \"C\", \"D\", and \"E\") to label the array elements? You are expecting the result to be:\n",
    "array([[[ 'D',  'D',  'D',  'B',  'D'],\n",
    "        [ 'D',  'D',  'B',  'B',  'B'],\n",
    "        [ 'D',  'B',  'D',  'D',  'D']],\n",
    "\n",
    "       [[ 'B',  'B',  'B',  'B',  'E'],\n",
    "        [ 'D',  'D',  'D',  'D',  'D'],\n",
    "        [ 'B',  'D',   'A',  'D', 'D']]])\n",
    "Again, you don't need Numpy in this question.\n",
    "\"\"\""
   ]
  }
 ],
 "metadata": {
  "kernelspec": {
   "display_name": "Python 3 (ipykernel)",
   "language": "python",
   "name": "python3"
  },
  "language_info": {
   "codemirror_mode": {
    "name": "ipython",
    "version": 3
   },
   "file_extension": ".py",
   "mimetype": "text/x-python",
   "name": "python",
   "nbconvert_exporter": "python",
   "pygments_lexer": "ipython3",
   "version": "3.9.7"
  }
 },
 "nbformat": 4,
 "nbformat_minor": 5
}
