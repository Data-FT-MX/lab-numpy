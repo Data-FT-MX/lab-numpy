{
 "cells": [
  {
   "cell_type": "markdown",
   "id": "021d46ce",
   "metadata": {},
   "source": [
    "### 1. Import the NUMPY package under the name np."
   ]
  },
  {
   "cell_type": "code",
   "execution_count": 1,
   "id": "6687eb7f",
   "metadata": {},
   "outputs": [],
   "source": [
    "import numpy as np"
   ]
  },
  {
   "cell_type": "markdown",
   "id": "39ebbbed",
   "metadata": {},
   "source": [
    "### 2. Print the NUMPY version and the configuration."
   ]
  },
  {
   "cell_type": "code",
   "execution_count": 2,
   "id": "4500b8b8",
   "metadata": {},
   "outputs": [
    {
     "data": {
      "text/plain": [
       "'1.22.3'"
      ]
     },
     "execution_count": 2,
     "metadata": {},
     "output_type": "execute_result"
    }
   ],
   "source": [
    "np.__version__"
   ]
  },
  {
   "cell_type": "markdown",
   "id": "5498c799",
   "metadata": {},
   "source": [
    "### 3. Generate a 2x3x5 3-dimensional array with random values. Assign the array to variable \"a\".  Challenge: there are at least three easy ways that use numpy to generate random arrays. How many ways can you find?\n",
    "\n",
    "### 4. Print a."
   ]
  },
  {
   "cell_type": "code",
   "execution_count": 3,
   "id": "1e330917",
   "metadata": {},
   "outputs": [
    {
     "data": {
      "text/plain": [
       "array([[[0.34744507, 0.12893892, 0.49611525, 0.68595093, 0.38093809],\n",
       "        [0.87322061, 0.52641428, 0.77925582, 0.25491311, 0.51830706],\n",
       "        [0.8698612 , 0.86627383, 0.59336454, 0.64289162, 0.94088231]],\n",
       "\n",
       "       [[0.27826629, 0.69261561, 0.16962819, 0.64218734, 0.78806228],\n",
       "        [0.9525613 , 0.66399449, 0.959766  , 0.53166565, 0.60798534],\n",
       "        [0.99859489, 0.31683756, 0.63047685, 0.48556171, 0.65810023]]])"
      ]
     },
     "execution_count": 3,
     "metadata": {},
     "output_type": "execute_result"
    }
   ],
   "source": [
    "a= np.random.random((2,3,5))\n",
    "a"
   ]
  },
  {
   "cell_type": "markdown",
   "id": "124a4bf8",
   "metadata": {},
   "source": [
    "### 5. Create a 5x2x3 3-dimensional array with all values equaling 1. Assign the array to variable \"b\" \n",
    "### 6. Print b."
   ]
  },
  {
   "cell_type": "code",
   "execution_count": 4,
   "id": "0b0acbb5",
   "metadata": {},
   "outputs": [
    {
     "data": {
      "text/plain": [
       "array([[[1., 1., 1.],\n",
       "        [1., 1., 1.]],\n",
       "\n",
       "       [[1., 1., 1.],\n",
       "        [1., 1., 1.]],\n",
       "\n",
       "       [[1., 1., 1.],\n",
       "        [1., 1., 1.]],\n",
       "\n",
       "       [[1., 1., 1.],\n",
       "        [1., 1., 1.]],\n",
       "\n",
       "       [[1., 1., 1.],\n",
       "        [1., 1., 1.]]])"
      ]
     },
     "execution_count": 4,
     "metadata": {},
     "output_type": "execute_result"
    }
   ],
   "source": [
    "b= np.ones((5,2,3))\n",
    "b"
   ]
  },
  {
   "cell_type": "markdown",
   "id": "6f1ce91b",
   "metadata": {},
   "source": [
    "### 7. Do a and b have the same size? How do you prove that in Python code?\n"
   ]
  },
  {
   "cell_type": "code",
   "execution_count": 5,
   "id": "c56df291",
   "metadata": {},
   "outputs": [
    {
     "name": "stdout",
     "output_type": "stream",
     "text": [
      "numpy method 30 30\n",
      "python method 30 30\n"
     ]
    }
   ],
   "source": [
    "# In Python, numpy.size() function count the number of elements along a given axis.\n",
    "print('numpy method', np.size(a), np.size(b))\n",
    "\n",
    "cnt_a=0\n",
    "for i in a:\n",
    "    for  j in i:\n",
    "        for k in j:\n",
    "            cnt_a+=1\n",
    "cnt_b=0\n",
    "for i in b:\n",
    "    for  j in i:\n",
    "        for k in j:\n",
    "            cnt_b+=1\n",
    "\n",
    "\n",
    "print('python method', cnt_a, cnt_b)\n",
    "\n",
    "\n"
   ]
  },
  {
   "cell_type": "markdown",
   "id": "d53256ef",
   "metadata": {},
   "source": [
    "### 8. Are you able to add a and b? Why or why not?\n"
   ]
  },
  {
   "cell_type": "markdown",
   "id": "47b9bfd7",
   "metadata": {},
   "source": [
    "### Those are different-size-matrix,  those cannot add each other. "
   ]
  },
  {
   "cell_type": "code",
   "execution_count": 6,
   "id": "1abaf712",
   "metadata": {},
   "outputs": [
    {
     "ename": "ValueError",
     "evalue": "operands could not be broadcast together with shapes (2,3,5) (5,2,3) ",
     "output_type": "error",
     "traceback": [
      "\u001b[1;31m---------------------------------------------------------------------------\u001b[0m",
      "\u001b[1;31mValueError\u001b[0m                                Traceback (most recent call last)",
      "Input \u001b[1;32mIn [6]\u001b[0m, in \u001b[0;36m<cell line: 1>\u001b[1;34m()\u001b[0m\n\u001b[1;32m----> 1\u001b[0m c\u001b[38;5;241m=\u001b[39m \u001b[43ma\u001b[49m\u001b[38;5;241;43m+\u001b[39;49m\u001b[43mb\u001b[49m\n",
      "\u001b[1;31mValueError\u001b[0m: operands could not be broadcast together with shapes (2,3,5) (5,2,3) "
     ]
    }
   ],
   "source": [
    "c= a+b"
   ]
  },
  {
   "cell_type": "markdown",
   "id": "cd6f0c44",
   "metadata": {},
   "source": [
    "### 9. Transpose b so that it has the same structure of a (i.e. become a 2x3x5 array). Assign the transposed array to varialbe \"c\"."
   ]
  },
  {
   "cell_type": "code",
   "execution_count": 7,
   "id": "d49c75cf",
   "metadata": {},
   "outputs": [],
   "source": [
    "c= b.reshape(2,3,5)"
   ]
  },
  {
   "cell_type": "code",
   "execution_count": 8,
   "id": "79be0def",
   "metadata": {},
   "outputs": [
    {
     "name": "stdout",
     "output_type": "stream",
     "text": [
      "(2, 3, 5) (5, 2, 3) (2, 3, 5)\n"
     ]
    }
   ],
   "source": [
    "print(a.shape,b.shape, c.shape)"
   ]
  },
  {
   "cell_type": "markdown",
   "id": "8836b765",
   "metadata": {},
   "source": [
    "### 10. Try to add a and c. Now it should work. Assign the sum to varialbe \"d\". But why does it work now?"
   ]
  },
  {
   "cell_type": "code",
   "execution_count": 9,
   "id": "d042d8b5",
   "metadata": {},
   "outputs": [
    {
     "data": {
      "text/plain": [
       "array([[[1.34744507, 1.12893892, 1.49611525, 1.68595093, 1.38093809],\n",
       "        [1.87322061, 1.52641428, 1.77925582, 1.25491311, 1.51830706],\n",
       "        [1.8698612 , 1.86627383, 1.59336454, 1.64289162, 1.94088231]],\n",
       "\n",
       "       [[1.27826629, 1.69261561, 1.16962819, 1.64218734, 1.78806228],\n",
       "        [1.9525613 , 1.66399449, 1.959766  , 1.53166565, 1.60798534],\n",
       "        [1.99859489, 1.31683756, 1.63047685, 1.48556171, 1.65810023]]])"
      ]
     },
     "execution_count": 9,
     "metadata": {},
     "output_type": "execute_result"
    }
   ],
   "source": [
    "d=a+c\n",
    "d\n",
    "#Can work because now those are same-size-matrix"
   ]
  },
  {
   "cell_type": "markdown",
   "id": "56dfcbeb",
   "metadata": {},
   "source": [
    "### 11.Print a and d. Notice the difference and relation of the two array in terms of the values? Explain.\n"
   ]
  },
  {
   "cell_type": "code",
   "execution_count": 10,
   "id": "fd6e9fb2",
   "metadata": {},
   "outputs": [
    {
     "name": "stdout",
     "output_type": "stream",
     "text": [
      "[[[0.34744507 0.12893892 0.49611525 0.68595093 0.38093809]\n",
      "  [0.87322061 0.52641428 0.77925582 0.25491311 0.51830706]\n",
      "  [0.8698612  0.86627383 0.59336454 0.64289162 0.94088231]]\n",
      "\n",
      " [[0.27826629 0.69261561 0.16962819 0.64218734 0.78806228]\n",
      "  [0.9525613  0.66399449 0.959766   0.53166565 0.60798534]\n",
      "  [0.99859489 0.31683756 0.63047685 0.48556171 0.65810023]]] \n",
      "\n",
      "--\n",
      "\n",
      " [[[1.34744507 1.12893892 1.49611525 1.68595093 1.38093809]\n",
      "  [1.87322061 1.52641428 1.77925582 1.25491311 1.51830706]\n",
      "  [1.8698612  1.86627383 1.59336454 1.64289162 1.94088231]]\n",
      "\n",
      " [[1.27826629 1.69261561 1.16962819 1.64218734 1.78806228]\n",
      "  [1.9525613  1.66399449 1.959766   1.53166565 1.60798534]\n",
      "  [1.99859489 1.31683756 1.63047685 1.48556171 1.65810023]]]\n"
     ]
    }
   ],
   "source": [
    "print (a,'\\n\\n--\\n\\n',d)"
   ]
  },
  {
   "cell_type": "code",
   "execution_count": 30,
   "id": "26b866eb",
   "metadata": {},
   "outputs": [],
   "source": [
    "### 'a' es una matriz que guardo datos aleatorios, 'b' es una matriz que guarda solo unos, c que es la restructura de \n",
    "### 'b' que se sumo a 'a' para formar d, entonces la diferencia entre 'a' y 'd' es de 1 en todos sus digitos. "
   ]
  },
  {
   "cell_type": "markdown",
   "id": "ae0f8073",
   "metadata": {},
   "source": [
    "### 12. Multiply a and c. Assign the result to e.\n"
   ]
  },
  {
   "cell_type": "code",
   "execution_count": 11,
   "id": "ac82c7e9",
   "metadata": {},
   "outputs": [
    {
     "data": {
      "text/plain": [
       "array([[[0.34744507, 0.12893892, 0.49611525, 0.68595093, 0.38093809],\n",
       "        [0.87322061, 0.52641428, 0.77925582, 0.25491311, 0.51830706],\n",
       "        [0.8698612 , 0.86627383, 0.59336454, 0.64289162, 0.94088231]],\n",
       "\n",
       "       [[0.27826629, 0.69261561, 0.16962819, 0.64218734, 0.78806228],\n",
       "        [0.9525613 , 0.66399449, 0.959766  , 0.53166565, 0.60798534],\n",
       "        [0.99859489, 0.31683756, 0.63047685, 0.48556171, 0.65810023]]])"
      ]
     },
     "execution_count": 11,
     "metadata": {},
     "output_type": "execute_result"
    }
   ],
   "source": [
    "e= a*c\n",
    "e"
   ]
  },
  {
   "cell_type": "markdown",
   "id": "651bc270",
   "metadata": {},
   "source": [
    "### 13. Does e equal to a? Why or why not?"
   ]
  },
  {
   "cell_type": "code",
   "execution_count": 14,
   "id": "e3e8d433",
   "metadata": {},
   "outputs": [
    {
     "name": "stdout",
     "output_type": "stream",
     "text": [
      "[[[0.34744507 0.12893892 0.49611525 0.68595093 0.38093809]\n",
      "  [0.87322061 0.52641428 0.77925582 0.25491311 0.51830706]\n",
      "  [0.8698612  0.86627383 0.59336454 0.64289162 0.94088231]]\n",
      "\n",
      " [[0.27826629 0.69261561 0.16962819 0.64218734 0.78806228]\n",
      "  [0.9525613  0.66399449 0.959766   0.53166565 0.60798534]\n",
      "  [0.99859489 0.31683756 0.63047685 0.48556171 0.65810023]]] \n",
      "\n",
      "\n",
      " [[[0.34744507 0.12893892 0.49611525 0.68595093 0.38093809]\n",
      "  [0.87322061 0.52641428 0.77925582 0.25491311 0.51830706]\n",
      "  [0.8698612  0.86627383 0.59336454 0.64289162 0.94088231]]\n",
      "\n",
      " [[0.27826629 0.69261561 0.16962819 0.64218734 0.78806228]\n",
      "  [0.9525613  0.66399449 0.959766   0.53166565 0.60798534]\n",
      "  [0.99859489 0.31683756 0.63047685 0.48556171 0.65810023]]]\n"
     ]
    }
   ],
   "source": [
    "print(e, '\\n\\n\\n', a)"
   ]
  },
  {
   "cell_type": "code",
   "execution_count": null,
   "id": "759c9601",
   "metadata": {},
   "outputs": [],
   "source": [
    "## Son iguales, porque e= a*c, c=a+b, e=a*(a+b)..."
   ]
  },
  {
   "cell_type": "markdown",
   "id": "c7fdfbe9",
   "metadata": {},
   "source": [
    "### 14. Identify the max, min, and mean values in d. Assign those values to variables \"d_max\", \"d_min\", and \"d_mean\""
   ]
  },
  {
   "cell_type": "code",
   "execution_count": 16,
   "id": "d817add4",
   "metadata": {},
   "outputs": [
    {
     "name": "stdout",
     "output_type": "stream",
     "text": [
      "1.9985948883376308\n",
      "1.1289389195573345\n",
      "1.6093692118741048\n"
     ]
    }
   ],
   "source": [
    "d_max= d.max()\n",
    "d_min= d.min()\n",
    "d_mean= d.mean()\n",
    "\n",
    "print(d_max)\n",
    "print(d_min)\n",
    "print(d_mean)"
   ]
  },
  {
   "cell_type": "markdown",
   "id": "e4431002",
   "metadata": {},
   "source": [
    "### 15. Now we want to label the values in d. First create an empty array \"f\" with the same shape (i.e. 2x3x5) as d using `np.empty`.\n"
   ]
  },
  {
   "cell_type": "code",
   "execution_count": 17,
   "id": "df579764",
   "metadata": {},
   "outputs": [
    {
     "data": {
      "text/plain": [
       "array([[[0.34744507, 0.12893892, 0.49611525, 0.68595093, 0.38093809],\n",
       "        [0.87322061, 0.52641428, 0.77925582, 0.25491311, 0.51830706],\n",
       "        [0.8698612 , 0.86627383, 0.59336454, 0.64289162, 0.94088231]],\n",
       "\n",
       "       [[0.27826629, 0.69261561, 0.16962819, 0.64218734, 0.78806228],\n",
       "        [0.9525613 , 0.66399449, 0.959766  , 0.53166565, 0.60798534],\n",
       "        [0.99859489, 0.31683756, 0.63047685, 0.48556171, 0.65810023]]])"
      ]
     },
     "execution_count": 17,
     "metadata": {},
     "output_type": "execute_result"
    }
   ],
   "source": [
    "f= np.empty((2,3,5))\n",
    "f"
   ]
  },
  {
   "cell_type": "markdown",
   "id": "93bd4bca",
   "metadata": {},
   "source": [
    "### 16. Populate the values in f. For each value in d, if it's larger than d_min but smaller than d_mean, assign 25 to the corresponding value in f.\n",
    "If a value in d is larger than d_mean but smaller than d_max, assign 75 to the corresponding value in f.\n",
    "If a value equals to d_mean, assign 50 to the corresponding value in f.\n",
    "Assign 0 to the corresponding value(s) in f for d_min in d.\n",
    "Assign 100 to the corresponding value(s) in f for d_max in d.\n",
    "In the end, f should have only the following values: 0, 25, 50, 75, and 100.\n",
    "Note: you don't have to use Numpy in this question.\n",
    "\"\"\""
   ]
  },
  {
   "cell_type": "code",
   "execution_count": 78,
   "id": "5145e56f",
   "metadata": {},
   "outputs": [
    {
     "name": "stdout",
     "output_type": "stream",
     "text": [
      "1.1289389195573345\n",
      "[[[ 25.   0.  25.  75.  25.]\n",
      "  [ 75.  25.  75.  25.  25.]\n",
      "  [ 75.  75.  25.  75.  75.]]\n",
      "\n",
      " [[ 25.  75.  25.  75.  75.]\n",
      "  [ 75.  75.  75.  25.  25.]\n",
      "  [100.  25.  75.  25.  75.]]]\n"
     ]
    }
   ],
   "source": [
    "#f= np.empty((2,3,5))\n",
    "print(d_min)\n",
    "#np.where(condicion(es), if True return, lista a probar)\n",
    "\n",
    "\n",
    "f= np.where((d==d_min),0, f)\n",
    "f= np.where((d>d_min)& (d<d_mean),25, f)\n",
    "f= np.where((d==d_mean), 50, f)\n",
    "f= np.where((d>d_mean)&(d<d_max),75,f)\n",
    "f= np.where((d==d_max),100,f)\n",
    "print(f)"
   ]
  },
  {
   "cell_type": "code",
   "execution_count": 77,
   "id": "eb46c32c",
   "metadata": {},
   "outputs": [
    {
     "data": {
      "text/plain": [
       "array([['11', '12', '13', 'zero', 'zero'],\n",
       "       ['zero', 'zero', '18', '19', '20']], dtype='<U11')"
      ]
     },
     "execution_count": 77,
     "metadata": {},
     "output_type": "execute_result"
    }
   ],
   "source": [
    "liss=np.array([[1,2,3,4,5],[6,7,8,9,10]])\n",
    "liss2= np.array([[11,12,13,14,15],[16,17,18,19,20]])\n",
    "\n",
    "np.where( (liss>3)&(liss<8), 'zero',liss2 ) #np.where(condicion(es)/if True return/ lista a regresar)"
   ]
  }
 ],
 "metadata": {
  "kernelspec": {
   "display_name": "Python 3 (ipykernel)",
   "language": "python",
   "name": "python3"
  },
  "language_info": {
   "codemirror_mode": {
    "name": "ipython",
    "version": 3
   },
   "file_extension": ".py",
   "mimetype": "text/x-python",
   "name": "python",
   "nbconvert_exporter": "python",
   "pygments_lexer": "ipython3",
   "version": "3.10.3"
  }
 },
 "nbformat": 4,
 "nbformat_minor": 5
}
