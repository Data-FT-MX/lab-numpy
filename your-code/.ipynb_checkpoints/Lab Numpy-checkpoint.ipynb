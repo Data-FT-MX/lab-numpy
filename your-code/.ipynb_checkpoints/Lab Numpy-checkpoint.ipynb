{
 "cells": [
  {
   "cell_type": "markdown",
   "id": "35627581",
   "metadata": {},
   "source": [
    "#1. Import the NUMPY package under the name np.\n"
   ]
  },
  {
   "cell_type": "code",
   "execution_count": 2,
   "id": "680f8d3b",
   "metadata": {},
   "outputs": [],
   "source": [
    "import numpy as np"
   ]
  },
  {
   "cell_type": "markdown",
   "id": "f18393f5",
   "metadata": {},
   "source": [
    "#2. Print the NUMPY version and the configuration.\n"
   ]
  },
  {
   "cell_type": "code",
   "execution_count": 3,
   "id": "c3205ff1",
   "metadata": {},
   "outputs": [
    {
     "data": {
      "text/plain": [
       "'1.21.3'"
      ]
     },
     "execution_count": 3,
     "metadata": {},
     "output_type": "execute_result"
    }
   ],
   "source": [
    "np.__version__"
   ]
  },
  {
   "cell_type": "code",
   "execution_count": 4,
   "id": "9417f052",
   "metadata": {},
   "outputs": [],
   "source": [
    "#3. Generate a 2x3x5 3-dimensional array with random values. Assign the array to variable \"a\"\n",
    "# Challenge: there are at least three easy ways that use numpy to generate random arrays. How many ways can you find?\n",
    "\n",
    "a = np.random.random((2, 3, 5))\n"
   ]
  },
  {
   "cell_type": "code",
   "execution_count": 5,
   "id": "ced97c1e",
   "metadata": {},
   "outputs": [
    {
     "name": "stdout",
     "output_type": "stream",
     "text": [
      "[[[0.3986415  0.18936882 0.12361385 0.36588593 0.91352284]\n",
      "  [0.08438749 0.11708491 0.08673339 0.19758236 0.00895327]\n",
      "  [0.23833941 0.06591733 0.94967855 0.11483783 0.09410038]]\n",
      "\n",
      " [[0.51153684 0.71936704 0.15556593 0.28351401 0.38104111]\n",
      "  [0.01965208 0.27164629 0.08785118 0.7822625  0.49346368]\n",
      "  [0.06840939 0.57971196 0.87802421 0.65204048 0.29087566]]]\n"
     ]
    }
   ],
   "source": [
    "#4. Print a.\n",
    "\n",
    "print(a)"
   ]
  },
  {
   "cell_type": "code",
   "execution_count": 6,
   "id": "547ef2d9",
   "metadata": {},
   "outputs": [],
   "source": [
    "#5. Create a 5x2x3 3-dimensional array with all values equaling 1.\n",
    "#Assign the array to variable \"b\"\n",
    "b = np.ones((5, 2, 3))"
   ]
  },
  {
   "cell_type": "code",
   "execution_count": 7,
   "id": "45bd0f56",
   "metadata": {},
   "outputs": [
    {
     "name": "stdout",
     "output_type": "stream",
     "text": [
      "[[[1. 1. 1.]\n",
      "  [1. 1. 1.]]\n",
      "\n",
      " [[1. 1. 1.]\n",
      "  [1. 1. 1.]]\n",
      "\n",
      " [[1. 1. 1.]\n",
      "  [1. 1. 1.]]\n",
      "\n",
      " [[1. 1. 1.]\n",
      "  [1. 1. 1.]]\n",
      "\n",
      " [[1. 1. 1.]\n",
      "  [1. 1. 1.]]]\n"
     ]
    }
   ],
   "source": [
    "#6. Print b.\n",
    "print(b)"
   ]
  },
  {
   "cell_type": "code",
   "execution_count": 8,
   "id": "bbba9cec",
   "metadata": {},
   "outputs": [
    {
     "data": {
      "text/plain": [
       "True"
      ]
     },
     "execution_count": 8,
     "metadata": {},
     "output_type": "execute_result"
    }
   ],
   "source": [
    "#7. Do a and b have the same size? How do you prove that in Python code?\n",
    "\n",
    "a.size == b.size\n"
   ]
  },
  {
   "cell_type": "code",
   "execution_count": 9,
   "id": "eb90a64e",
   "metadata": {},
   "outputs": [
    {
     "data": {
      "text/plain": [
       "30"
      ]
     },
     "execution_count": 9,
     "metadata": {},
     "output_type": "execute_result"
    }
   ],
   "source": [
    "b.size"
   ]
  },
  {
   "cell_type": "code",
   "execution_count": 10,
   "id": "0848c373",
   "metadata": {},
   "outputs": [
    {
     "data": {
      "text/plain": [
       "30"
      ]
     },
     "execution_count": 10,
     "metadata": {},
     "output_type": "execute_result"
    }
   ],
   "source": [
    "a.size"
   ]
  },
  {
   "cell_type": "code",
   "execution_count": 11,
   "id": "e116d2e9",
   "metadata": {},
   "outputs": [
    {
     "ename": "ValueError",
     "evalue": "operands could not be broadcast together with shapes (2,3,5) (5,2,3) ",
     "output_type": "error",
     "traceback": [
      "\u001b[0;31m---------------------------------------------------------------------------\u001b[0m",
      "\u001b[0;31mValueError\u001b[0m                                Traceback (most recent call last)",
      "\u001b[0;32m/var/folders/_y/xlcf2p8x4tzcg6lmglwbvgj00000gn/T/ipykernel_10766/3529233486.py\u001b[0m in \u001b[0;36m<module>\u001b[0;34m\u001b[0m\n\u001b[1;32m      1\u001b[0m \u001b[0;31m#8. Are you able to add a and b? Why or why not?\u001b[0m\u001b[0;34m\u001b[0m\u001b[0;34m\u001b[0m\u001b[0m\n\u001b[1;32m      2\u001b[0m \u001b[0;34m\u001b[0m\u001b[0m\n\u001b[0;32m----> 3\u001b[0;31m \u001b[0ma_b\u001b[0m \u001b[0;34m=\u001b[0m \u001b[0ma\u001b[0m \u001b[0;34m+\u001b[0m \u001b[0mb\u001b[0m\u001b[0;34m\u001b[0m\u001b[0;34m\u001b[0m\u001b[0m\n\u001b[0m\u001b[1;32m      4\u001b[0m \u001b[0;34m\u001b[0m\u001b[0m\n\u001b[1;32m      5\u001b[0m \u001b[0;31m#no se pueden sumar porqe no tienen la misma forma\u001b[0m\u001b[0;34m\u001b[0m\u001b[0;34m\u001b[0m\u001b[0m\n",
      "\u001b[0;31mValueError\u001b[0m: operands could not be broadcast together with shapes (2,3,5) (5,2,3) "
     ]
    }
   ],
   "source": [
    "#8. Are you able to add a and b? Why or why not?\n",
    "\n",
    "a_b = a + b\n",
    "\n",
    "#no se pueden sumar porqe no tienen la misma forma"
   ]
  },
  {
   "cell_type": "code",
   "execution_count": 12,
   "id": "136413d6",
   "metadata": {},
   "outputs": [
    {
     "name": "stdout",
     "output_type": "stream",
     "text": [
      "[[[1. 1. 1. 1. 1.]\n",
      "  [1. 1. 1. 1. 1.]\n",
      "  [1. 1. 1. 1. 1.]]\n",
      "\n",
      " [[1. 1. 1. 1. 1.]\n",
      "  [1. 1. 1. 1. 1.]\n",
      "  [1. 1. 1. 1. 1.]]]\n"
     ]
    }
   ],
   "source": [
    "#9. Transpose b so that it has the same structure of a (i.e. become a 2x3x5 array). Assign the transposed array to varialbe \"c\".\n",
    "c = b.reshape(2,3,5)\n",
    "print(c)\n",
    "#c = np.transpose(b,(1,2,0))\n",
    "#print(c)"
   ]
  },
  {
   "cell_type": "code",
   "execution_count": 13,
   "id": "1b955211",
   "metadata": {},
   "outputs": [
    {
     "data": {
      "text/plain": [
       "(2, 3, 5)"
      ]
     },
     "execution_count": 13,
     "metadata": {},
     "output_type": "execute_result"
    }
   ],
   "source": [
    "c.shape"
   ]
  },
  {
   "cell_type": "code",
   "execution_count": 14,
   "id": "795db767",
   "metadata": {},
   "outputs": [
    {
     "data": {
      "text/plain": [
       "array([[[1.3986415 , 1.18936882, 1.12361385, 1.36588593, 1.91352284],\n",
       "        [1.08438749, 1.11708491, 1.08673339, 1.19758236, 1.00895327],\n",
       "        [1.23833941, 1.06591733, 1.94967855, 1.11483783, 1.09410038]],\n",
       "\n",
       "       [[1.51153684, 1.71936704, 1.15556593, 1.28351401, 1.38104111],\n",
       "        [1.01965208, 1.27164629, 1.08785118, 1.7822625 , 1.49346368],\n",
       "        [1.06840939, 1.57971196, 1.87802421, 1.65204048, 1.29087566]]])"
      ]
     },
     "execution_count": 14,
     "metadata": {},
     "output_type": "execute_result"
    }
   ],
   "source": [
    "#10. Try to add a and c. Now it should work. Assign the sum to varialbe \"d\". But why does it work now?\n",
    "\n",
    "d = a + c\n",
    "d\n",
    "\n",
    "#se pueden sumar porque tienen la misma forma"
   ]
  },
  {
   "cell_type": "code",
   "execution_count": 15,
   "id": "28641be0",
   "metadata": {},
   "outputs": [
    {
     "name": "stdout",
     "output_type": "stream",
     "text": [
      "[[[0.3986415  0.18936882 0.12361385 0.36588593 0.91352284]\n",
      "  [0.08438749 0.11708491 0.08673339 0.19758236 0.00895327]\n",
      "  [0.23833941 0.06591733 0.94967855 0.11483783 0.09410038]]\n",
      "\n",
      " [[0.51153684 0.71936704 0.15556593 0.28351401 0.38104111]\n",
      "  [0.01965208 0.27164629 0.08785118 0.7822625  0.49346368]\n",
      "  [0.06840939 0.57971196 0.87802421 0.65204048 0.29087566]]]\n"
     ]
    }
   ],
   "source": [
    "#11. Print a and d. Notice the difference and relation of the two array in terms of the values? Explain.\n",
    "print(a)"
   ]
  },
  {
   "cell_type": "code",
   "execution_count": 16,
   "id": "96d3db9f",
   "metadata": {},
   "outputs": [
    {
     "name": "stdout",
     "output_type": "stream",
     "text": [
      "[[[1.3986415  1.18936882 1.12361385 1.36588593 1.91352284]\n",
      "  [1.08438749 1.11708491 1.08673339 1.19758236 1.00895327]\n",
      "  [1.23833941 1.06591733 1.94967855 1.11483783 1.09410038]]\n",
      "\n",
      " [[1.51153684 1.71936704 1.15556593 1.28351401 1.38104111]\n",
      "  [1.01965208 1.27164629 1.08785118 1.7822625  1.49346368]\n",
      "  [1.06840939 1.57971196 1.87802421 1.65204048 1.29087566]]]\n"
     ]
    }
   ],
   "source": [
    "print(d)"
   ]
  },
  {
   "cell_type": "code",
   "execution_count": 17,
   "id": "4adc8a58",
   "metadata": {},
   "outputs": [
    {
     "data": {
      "text/plain": [
       "array([[[0.3986415 , 0.18936882, 0.12361385, 0.36588593, 0.91352284],\n",
       "        [0.08438749, 0.11708491, 0.08673339, 0.19758236, 0.00895327],\n",
       "        [0.23833941, 0.06591733, 0.94967855, 0.11483783, 0.09410038]],\n",
       "\n",
       "       [[0.51153684, 0.71936704, 0.15556593, 0.28351401, 0.38104111],\n",
       "        [0.01965208, 0.27164629, 0.08785118, 0.7822625 , 0.49346368],\n",
       "        [0.06840939, 0.57971196, 0.87802421, 0.65204048, 0.29087566]]])"
      ]
     },
     "execution_count": 17,
     "metadata": {},
     "output_type": "execute_result"
    }
   ],
   "source": [
    "#12. Multiply a and c. Assign the result to e.\n",
    "\n",
    "e = a * c\n",
    "e"
   ]
  },
  {
   "cell_type": "code",
   "execution_count": 18,
   "id": "baac1a88",
   "metadata": {},
   "outputs": [
    {
     "data": {
      "text/plain": [
       "array([[[ True,  True,  True,  True,  True],\n",
       "        [ True,  True,  True,  True,  True],\n",
       "        [ True,  True,  True,  True,  True]],\n",
       "\n",
       "       [[ True,  True,  True,  True,  True],\n",
       "        [ True,  True,  True,  True,  True],\n",
       "        [ True,  True,  True,  True,  True]]])"
      ]
     },
     "execution_count": 18,
     "metadata": {},
     "output_type": "execute_result"
    }
   ],
   "source": [
    "#13. Does e equal to a? Why or why not?\n",
    "\n",
    "a == e\n",
    "\n",
    "#son iguales de tamaño porque tienen la misma forma"
   ]
  },
  {
   "cell_type": "code",
   "execution_count": 19,
   "id": "dddd5e0d",
   "metadata": {},
   "outputs": [
    {
     "name": "stdout",
     "output_type": "stream",
     "text": [
      "1.94967854620955\n",
      "1.0089532724484163\n",
      "1.3374536741013434\n"
     ]
    }
   ],
   "source": [
    "#14. Identify the max, min, and mean values in d. Assign those values to variables \"d_max\", \"d_min\", and \"d_mean\"\n",
    "d_max = np.max(d)\n",
    "d_min = np.min(d)\n",
    "d_mean = np.mean(d)\n",
    "\n",
    "print(d_max)\n",
    "print(d_min)\n",
    "print(d_mean)\n"
   ]
  },
  {
   "cell_type": "code",
   "execution_count": 20,
   "id": "e21f891b",
   "metadata": {},
   "outputs": [
    {
     "data": {
      "text/plain": [
       "array([[[0.3986415 , 0.18936882, 0.12361385, 0.36588593, 0.91352284],\n",
       "        [0.08438749, 0.11708491, 0.08673339, 0.19758236, 0.00895327],\n",
       "        [0.23833941, 0.06591733, 0.94967855, 0.11483783, 0.09410038]],\n",
       "\n",
       "       [[0.51153684, 0.71936704, 0.15556593, 0.28351401, 0.38104111],\n",
       "        [0.01965208, 0.27164629, 0.08785118, 0.7822625 , 0.49346368],\n",
       "        [0.06840939, 0.57971196, 0.87802421, 0.65204048, 0.29087566]]])"
      ]
     },
     "execution_count": 20,
     "metadata": {},
     "output_type": "execute_result"
    }
   ],
   "source": [
    "#15. Now we want to label the values in d. First create an empty array \"f\" with the same shape (i.e. 2x3x5) as d using `np.empty`.\n",
    "\n",
    "f = np.empty((2, 3, 5))\n",
    "f"
   ]
  },
  {
   "cell_type": "code",
   "execution_count": 41,
   "id": "fb1e85bc",
   "metadata": {},
   "outputs": [],
   "source": [
    "'''\n",
    "#16. Populate the values in f. For each value in d, if it's larger than d_min but smaller than d_mean, assign 25 to the corresponding value in f.\n",
    "If a value in d is larger than d_mean but smaller than d_max, assign 75 to the corresponding value in f.\n",
    "If a value equals to d_mean, assign 50 to the corresponding value in f.\n",
    "Assign 0 to the corresponding value(s) in f for d_min in d.\n",
    "Assign 100 to the corresponding value(s) in f for d_max in d.\n",
    "In the end, f should have only the following values: 0, 25, 50, 75, and 100.\n",
    "Note: you don't have to use Numpy in this question.\n",
    "'''\n",
    "\n",
    "#np.where(atriz >= 7, 'C', np.where(matriz == 0, 'A', 'B'))\n",
    "f = np.where((d > d_min) & (d < d_mean), 25,\n",
    "         np.where((d > d_mean) & (d < d_max), 75, \n",
    "                   np.where(d == d_mean, 50, \n",
    "                             np.where(d == d_min, 0, \n",
    "                                       np.where(d == d_max, 100,\n",
    "                                               100)))))"
   ]
  },
  {
   "cell_type": "code",
   "execution_count": 42,
   "id": "e611c75e",
   "metadata": {},
   "outputs": [
    {
     "name": "stdout",
     "output_type": "stream",
     "text": [
      "[[[ 75  25  25  75  75]\n",
      "  [ 25  25  25  25   0]\n",
      "  [ 25  25 100  25  25]]\n",
      "\n",
      " [[ 75  75  25  25  75]\n",
      "  [ 25  25  25  75  75]\n",
      "  [ 25  75  75  75  25]]]\n"
     ]
    }
   ],
   "source": [
    "#17. Print d and f. Do you have your expected f?\n",
    "print(f)"
   ]
  },
  {
   "cell_type": "code",
   "execution_count": 45,
   "id": "ff1bc722",
   "metadata": {},
   "outputs": [],
   "source": [
    "'''#18. Bonus question: instead of using numbers (i.e. 0, 25, 50, 75, and 100), how to use string values \n",
    "(\"A\", \"B\", \"C\", \"D\", and \"E\") to label the array elements? You are expecting the result to be:'''\n",
    "\n",
    "g = np.where(f == 0, 'A',\n",
    "        np.where(f == 25, 'B',\n",
    "                np.where(f == 50, 'C',\n",
    "                        np.where(f == 75, 'D',\n",
    "                                np.where(f == 100, 'E',\n",
    "                                        'E')))))"
   ]
  },
  {
   "cell_type": "code",
   "execution_count": 46,
   "id": "cd6b7d9e",
   "metadata": {
    "scrolled": true
   },
   "outputs": [
    {
     "name": "stdout",
     "output_type": "stream",
     "text": [
      "[[['D' 'B' 'B' 'D' 'D']\n",
      "  ['B' 'B' 'B' 'B' 'A']\n",
      "  ['B' 'B' 'E' 'B' 'B']]\n",
      "\n",
      " [['D' 'D' 'B' 'B' 'D']\n",
      "  ['B' 'B' 'B' 'D' 'D']\n",
      "  ['B' 'D' 'D' 'D' 'B']]]\n"
     ]
    }
   ],
   "source": [
    "print(g)"
   ]
  },
  {
   "cell_type": "code",
   "execution_count": null,
   "id": "6a1558df",
   "metadata": {},
   "outputs": [],
   "source": []
  }
 ],
 "metadata": {
  "kernelspec": {
   "display_name": "Python 3 (ipykernel)",
   "language": "python",
   "name": "python3"
  },
  "language_info": {
   "codemirror_mode": {
    "name": "ipython",
    "version": 3
   },
   "file_extension": ".py",
   "mimetype": "text/x-python",
   "name": "python",
   "nbconvert_exporter": "python",
   "pygments_lexer": "ipython3",
   "version": "3.9.7"
  }
 },
 "nbformat": 4,
 "nbformat_minor": 5
}
