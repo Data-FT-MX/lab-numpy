{
 "cells": [
  {
   "cell_type": "markdown",
   "id": "d58e70df-a0b1-4e03-a3d1-bac42c444b75",
   "metadata": {},
   "source": [
    "### 1. Import the NUMPY package under the name np."
   ]
  },
  {
   "cell_type": "code",
   "execution_count": 1,
   "id": "d4c1082b-4efe-4adb-ac87-b944348e61e4",
   "metadata": {},
   "outputs": [],
   "source": [
    "import numpy as np"
   ]
  },
  {
   "cell_type": "markdown",
   "id": "0fb003c5-b927-4a8b-be43-62fabb4fbc02",
   "metadata": {},
   "source": [
    "### 2. Print the NUMPY version and the configuration."
   ]
  },
  {
   "cell_type": "code",
   "execution_count": 2,
   "id": "4ee74759-f245-461f-9103-1c97a17ba74c",
   "metadata": {},
   "outputs": [
    {
     "name": "stdout",
     "output_type": "stream",
     "text": [
      "1.20.1\n"
     ]
    }
   ],
   "source": [
    "print(np.version.version)"
   ]
  },
  {
   "cell_type": "markdown",
   "id": "f452319e-b2cc-4385-b5d3-b8273d32ba08",
   "metadata": {},
   "source": [
    "### 3. Generate a 2x3x5 3-dimensional array with random values. Assign the array to variable \"a\"\n",
    "\n",
    "Challenge: there are at least three easy ways that use numpy to generate random arrays. How many ways can you find?"
   ]
  },
  {
   "cell_type": "code",
   "execution_count": 5,
   "id": "b1ccc8ea-6a4d-46a0-9686-e50adfc39a49",
   "metadata": {},
   "outputs": [],
   "source": [
    "a=np.random.random((2,3,5))"
   ]
  },
  {
   "cell_type": "markdown",
   "id": "1fb8baab-9f44-43e1-95f5-0b453b73bfa5",
   "metadata": {},
   "source": [
    "### 4. Print a."
   ]
  },
  {
   "cell_type": "code",
   "execution_count": 6,
   "id": "9f9871b7-0071-4ab8-a579-af039ce9e8c3",
   "metadata": {},
   "outputs": [
    {
     "name": "stdout",
     "output_type": "stream",
     "text": [
      "[[[0.86536906 0.26889636 0.33765314 0.85431629 0.9027232 ]\n",
      "  [0.41219972 0.39808439 0.39367682 0.10567652 0.07136439]\n",
      "  [0.95436904 0.29776034 0.17684894 0.54595977 0.74403071]]\n",
      "\n",
      " [[0.59649355 0.04913538 0.71634206 0.37498136 0.90752449]\n",
      "  [0.30778352 0.98244473 0.1709661  0.68167958 0.56544941]\n",
      "  [0.4072355  0.97498309 0.72268754 0.80195143 0.7630969 ]]]\n"
     ]
    }
   ],
   "source": [
    "print(a)"
   ]
  },
  {
   "cell_type": "markdown",
   "id": "42ba7f1e-f4ec-4c46-b8d7-921ffda38693",
   "metadata": {},
   "source": [
    "### 5. Create a 5x2x3 3-dimensional array with all values equaling 1. #Assign the array to variable \"b\"\n"
   ]
  },
  {
   "cell_type": "code",
   "execution_count": 27,
   "id": "595dc259-69ef-4253-b23f-f04e84566c39",
   "metadata": {},
   "outputs": [],
   "source": [
    "b=np.ones((5,2,3))"
   ]
  },
  {
   "cell_type": "markdown",
   "id": "393dad41-5698-4e4a-951a-a014ca049581",
   "metadata": {},
   "source": [
    "### 6. Print b.\n"
   ]
  },
  {
   "cell_type": "code",
   "execution_count": 28,
   "id": "351b392a-0cb7-40de-9cc6-7dbb45dd4bf4",
   "metadata": {},
   "outputs": [
    {
     "name": "stdout",
     "output_type": "stream",
     "text": [
      "[[[1. 1. 1.]\n",
      "  [1. 1. 1.]]\n",
      "\n",
      " [[1. 1. 1.]\n",
      "  [1. 1. 1.]]\n",
      "\n",
      " [[1. 1. 1.]\n",
      "  [1. 1. 1.]]\n",
      "\n",
      " [[1. 1. 1.]\n",
      "  [1. 1. 1.]]\n",
      "\n",
      " [[1. 1. 1.]\n",
      "  [1. 1. 1.]]]\n"
     ]
    }
   ],
   "source": [
    "print(b)"
   ]
  },
  {
   "cell_type": "markdown",
   "id": "b5af2fb1-aafd-4fa2-9262-37821e611690",
   "metadata": {},
   "source": [
    "### 7. Do a and b have the same size? How do you prove that in Python code?\n",
    "\n"
   ]
  },
  {
   "cell_type": "code",
   "execution_count": 10,
   "id": "2776a503-9cb5-42e9-bc69-0a6b652ae5b9",
   "metadata": {},
   "outputs": [
    {
     "name": "stdout",
     "output_type": "stream",
     "text": [
      "Do a and b have the same size? True\n"
     ]
    }
   ],
   "source": [
    "print('Do a and b have the same size?',np.size(a) == np.size(b))"
   ]
  },
  {
   "cell_type": "markdown",
   "id": "0252e8ab-5f96-4dfd-b851-ca8ae4e65aa4",
   "metadata": {},
   "source": [
    "### 8. Are you able to add a and b? Why or why not?"
   ]
  },
  {
   "cell_type": "code",
   "execution_count": 12,
   "id": "1825a311-826a-493c-a674-2403dfe1f6f8",
   "metadata": {},
   "outputs": [
    {
     "name": "stdout",
     "output_type": "stream",
     "text": [
      "No se puede porque no tienen la misma forma\n"
     ]
    }
   ],
   "source": [
    "try:\n",
    "    a+b\n",
    "except:\n",
    "    print('No se puede porque no tienen la misma forma')"
   ]
  },
  {
   "cell_type": "markdown",
   "id": "ff925cc0-3613-4c0e-ba85-103747e36dd7",
   "metadata": {},
   "source": [
    "### 9. Transpose b so that it has the same structure of a (i.e. become a 2x3x5 array). Assign the transposed array to varialbe \"c\".\n"
   ]
  },
  {
   "cell_type": "code",
   "execution_count": 35,
   "id": "691978ba-585f-440a-b9eb-64a24d191203",
   "metadata": {},
   "outputs": [
    {
     "name": "stdout",
     "output_type": "stream",
     "text": [
      "(2, 3, 5)\n"
     ]
    }
   ],
   "source": [
    "c= np.transpose(b,(1,2,0)) #se ponen las coordenadas de la matriz a \n",
    "print(c.shape)\n",
    "\n",
    "#forma de a (2,3,5)\n",
    "#forma de b (5,2,3)"
   ]
  },
  {
   "cell_type": "markdown",
   "id": "ecb44f9c-9fbe-42ad-bc65-d886bf24282a",
   "metadata": {},
   "source": [
    "### 10. Try to add a and c. Now it should work. Assign the sum to varialbe \"d\". But why does it work now?\n"
   ]
  },
  {
   "cell_type": "code",
   "execution_count": 36,
   "id": "9ae655f9-f0ef-4d14-801b-ed87094b4852",
   "metadata": {},
   "outputs": [
    {
     "name": "stdout",
     "output_type": "stream",
     "text": [
      "[[[1.86536906 1.26889636 1.33765314 1.85431629 1.9027232 ]\n",
      "  [1.41219972 1.39808439 1.39367682 1.10567652 1.07136439]\n",
      "  [1.95436904 1.29776034 1.17684894 1.54595977 1.74403071]]\n",
      "\n",
      " [[1.59649355 1.04913538 1.71634206 1.37498136 1.90752449]\n",
      "  [1.30778352 1.98244473 1.1709661  1.68167958 1.56544941]\n",
      "  [1.4072355  1.97498309 1.72268754 1.80195143 1.7630969 ]]]\n",
      "Funciona por ya tienen la misma forma y estructura\n"
     ]
    }
   ],
   "source": [
    "d= a+c\n",
    "print(d)\n",
    "print('Funciona por ya tienen la misma forma y estructura')"
   ]
  },
  {
   "cell_type": "markdown",
   "id": "2cbe6675-c129-43ba-95d0-7f01e0c5d0df",
   "metadata": {},
   "source": [
    "### 11. Print a and d. Notice the difference and relation of the two array in terms of the values? Explain."
   ]
  },
  {
   "cell_type": "code",
   "execution_count": 37,
   "id": "3d9a5af4-8fb6-4a79-ad39-623fe5ac5197",
   "metadata": {},
   "outputs": [
    {
     "name": "stdout",
     "output_type": "stream",
     "text": [
      "[[[0.86536906 0.26889636 0.33765314 0.85431629 0.9027232 ]\n",
      "  [0.41219972 0.39808439 0.39367682 0.10567652 0.07136439]\n",
      "  [0.95436904 0.29776034 0.17684894 0.54595977 0.74403071]]\n",
      "\n",
      " [[0.59649355 0.04913538 0.71634206 0.37498136 0.90752449]\n",
      "  [0.30778352 0.98244473 0.1709661  0.68167958 0.56544941]\n",
      "  [0.4072355  0.97498309 0.72268754 0.80195143 0.7630969 ]]]\n"
     ]
    }
   ],
   "source": [
    "print(a)"
   ]
  },
  {
   "cell_type": "code",
   "execution_count": 38,
   "id": "7040e259-f6d5-44f3-9c3d-944bc576c5b9",
   "metadata": {},
   "outputs": [
    {
     "name": "stdout",
     "output_type": "stream",
     "text": [
      "[[[1.86536906 1.26889636 1.33765314 1.85431629 1.9027232 ]\n",
      "  [1.41219972 1.39808439 1.39367682 1.10567652 1.07136439]\n",
      "  [1.95436904 1.29776034 1.17684894 1.54595977 1.74403071]]\n",
      "\n",
      " [[1.59649355 1.04913538 1.71634206 1.37498136 1.90752449]\n",
      "  [1.30778352 1.98244473 1.1709661  1.68167958 1.56544941]\n",
      "  [1.4072355  1.97498309 1.72268754 1.80195143 1.7630969 ]]]\n"
     ]
    }
   ],
   "source": [
    "print(d)"
   ]
  },
  {
   "cell_type": "markdown",
   "id": "63f8da4b-ec8f-43ac-88ed-ff1eafaae1c7",
   "metadata": {},
   "source": [
    "#La diferencia es porque a b(matriz) se asigno una matriz de puros 1 y como b(matriz) se convirtio en c(matriz), y d(matriz) es la suma de a+c entonces a a se le sumo lo de b(matriz) que es 1."
   ]
  },
  {
   "cell_type": "markdown",
   "id": "c08ce702-387d-417e-b6a3-b0e817d0a68a",
   "metadata": {},
   "source": [
    "### 12. Multiply a and c. Assign the result to e."
   ]
  },
  {
   "cell_type": "code",
   "execution_count": 39,
   "id": "355c3196-1478-4555-93bb-56c2c69872b1",
   "metadata": {},
   "outputs": [
    {
     "name": "stdout",
     "output_type": "stream",
     "text": [
      "[[[0.86536906 0.26889636 0.33765314 0.85431629 0.9027232 ]\n",
      "  [0.41219972 0.39808439 0.39367682 0.10567652 0.07136439]\n",
      "  [0.95436904 0.29776034 0.17684894 0.54595977 0.74403071]]\n",
      "\n",
      " [[0.59649355 0.04913538 0.71634206 0.37498136 0.90752449]\n",
      "  [0.30778352 0.98244473 0.1709661  0.68167958 0.56544941]\n",
      "  [0.4072355  0.97498309 0.72268754 0.80195143 0.7630969 ]]]\n"
     ]
    }
   ],
   "source": [
    "e= a*c\n",
    "print(e)"
   ]
  },
  {
   "cell_type": "markdown",
   "id": "f66ace59-ebdf-40bd-8196-46ea9f14faa6",
   "metadata": {},
   "source": [
    "### 13. Does e equal to a? Why or why not?"
   ]
  },
  {
   "cell_type": "code",
   "execution_count": 40,
   "id": "f07db355-6a93-4fbc-979a-c4d3d4891fa8",
   "metadata": {},
   "outputs": [
    {
     "data": {
      "text/plain": [
       "array([[[ True,  True,  True,  True,  True],\n",
       "        [ True,  True,  True,  True,  True],\n",
       "        [ True,  True,  True,  True,  True]],\n",
       "\n",
       "       [[ True,  True,  True,  True,  True],\n",
       "        [ True,  True,  True,  True,  True],\n",
       "        [ True,  True,  True,  True,  True]]])"
      ]
     },
     "execution_count": 40,
     "metadata": {},
     "output_type": "execute_result"
    }
   ],
   "source": [
    "e==a"
   ]
  },
  {
   "cell_type": "markdown",
   "id": "efa0e3f2-5db2-4f93-84e3-c292bfb1a301",
   "metadata": {},
   "source": [
    "### 14. Identify the max, min, and mean values in d. Assign those values to variables \"d_max\", \"d_min\", and \"d_mean\"\n"
   ]
  },
  {
   "cell_type": "code",
   "execution_count": 42,
   "id": "7d9a2b8c-e689-4bdf-b522-4965cd39fa0d",
   "metadata": {},
   "outputs": [
    {
     "name": "stdout",
     "output_type": "stream",
     "text": [
      "1.9824447294364238\n",
      "1.0491353781260877\n",
      "1.5450561112400303\n"
     ]
    }
   ],
   "source": [
    "d_max= np.max(d)\n",
    "d_min= np.min(d)\n",
    "d_mean=np.mean(d)\n",
    "print(d_max)\n",
    "print(d_min)\n",
    "print(d_mean)"
   ]
  },
  {
   "cell_type": "markdown",
   "id": "2bafe0da-f81f-4997-a24d-87e65b128f05",
   "metadata": {},
   "source": [
    "### 15. Now we want to label the values in d. First create an empty array \"f\" with the same shape (i.e. 2x3x5) as d using np.empty.\n"
   ]
  },
  {
   "cell_type": "code",
   "execution_count": 46,
   "id": "372036bf-7a5b-4cdd-9195-1bd384fd664a",
   "metadata": {},
   "outputs": [
    {
     "name": "stdout",
     "output_type": "stream",
     "text": [
      "[[[0.86536906 0.26889636 0.33765314 0.85431629 0.9027232 ]\n",
      "  [0.41219972 0.39808439 0.39367682 0.10567652 0.07136439]\n",
      "  [0.95436904 0.29776034 0.17684894 0.54595977 0.74403071]]\n",
      "\n",
      " [[0.59649355 0.04913538 0.71634206 0.37498136 0.90752449]\n",
      "  [0.30778352 0.98244473 0.1709661  0.68167958 0.56544941]\n",
      "  [0.4072355  0.97498309 0.72268754 0.80195143 0.7630969 ]]]\n"
     ]
    }
   ],
   "source": [
    "f= np.empty((2,3,5))\n",
    "print(f)"
   ]
  },
  {
   "cell_type": "markdown",
   "id": "20dcbfa0-eb0d-430b-aa58-898cbb3c78f6",
   "metadata": {},
   "source": [
    "### 16. Populate the values in f. For each value in d, if it's larger than d_min but smaller than d_mean, assign 25 to the corresponding value in f. If a value in d is larger than d_mean but smaller than d_max, assign 75 to the corresponding value in f. If a value equals to d_mean, assign 50 to the corresponding value in f. Assign 0 to the corresponding value(s) in f for d_min in d. Assign 100 to the corresponding value(s) in f for d_max in d. In the end, f should have only the following values: 0, 25, 50, 75, and 100. Note: you don't have to use Numpy in this question. \"\"\"\n",
    "\n"
   ]
  },
  {
   "cell_type": "code",
   "execution_count": null,
   "id": "be8647e2-a306-4333-b0b9-029477cdd46d",
   "metadata": {},
   "outputs": [],
   "source": [
    "#d > d_min  o  d < d_mean = 25\n",
    "#d > d_mean  o  d < d_max = 75\n",
    "#d = d_mean = 50  o"
   ]
  },
  {
   "cell_type": "code",
   "execution_count": 50,
   "id": "35285780-c33c-4c29-b055-fe34b477380b",
   "metadata": {},
   "outputs": [],
   "source": [
    "f=np.where(d == d_min,0, np.where((d > d_min) & (d < d_mean),25, np.where (d == d_mean,50, np.where((d > d_mean) & (d < d_max),75, 100))))"
   ]
  },
  {
   "cell_type": "code",
   "execution_count": 51,
   "id": "f0cac537-98ec-498d-aae6-ac3671990dbd",
   "metadata": {},
   "outputs": [
    {
     "name": "stdout",
     "output_type": "stream",
     "text": [
      "[[[ 75  25  25  75  75]\n",
      "  [ 25  25  25  25  25]\n",
      "  [ 75  25  25  75  75]]\n",
      "\n",
      " [[ 75   0  75  25  75]\n",
      "  [ 25 100  25  75  75]\n",
      "  [ 25  75  75  75  75]]]\n"
     ]
    }
   ],
   "source": [
    "print(f)"
   ]
  },
  {
   "cell_type": "code",
   "execution_count": 56,
   "id": "a57c4435-22ef-4972-b0f4-e73826f67746",
   "metadata": {},
   "outputs": [
    {
     "name": "stdout",
     "output_type": "stream",
     "text": [
      "[[[ 75  25  25  75  75]\n",
      "  [ 25  25  25  25  25]\n",
      "  [ 75  25  25  75  75]]\n",
      "\n",
      " [[ 75   0  75  25  75]\n",
      "  [ 25 100  25  75  75]\n",
      "  [ 25  75  75  75  75]]]\n"
     ]
    }
   ],
   "source": [
    "for ind, sub_arr in enumerate (d):\n",
    "    #print(ind,sub_arr)\n",
    "    for ind_sub, sub_sub_arr in enumerate(sub_arr):\n",
    "     #   print(ind_sub,sub_sub_arr)\n",
    "      #  print()\n",
    "        for ind_sub_sub, element in enumerate(sub_sub_arr):\n",
    "       #     print(ind_sub_sub, element)\n",
    "            if element==d_min:\n",
    "                f[ind][ind_sub][ind_sub_sub]=0\n",
    "            elif element > d_min and element < d_mean:\n",
    "                f[ind][ind_sub][ind_sub_sub]=25\n",
    "            elif element == d_mean:\n",
    "                f[ind][ind_sub][ind_sub_sub]=50\n",
    "            elif element > d_mean and element < d_max:\n",
    "                f[ind][ind_sub][ind_sub_sub]=75\n",
    "            else:\n",
    "                f[ind][ind_sub][ind_sub_sub]=100\n",
    "print(f)\n",
    "    "
   ]
  },
  {
   "cell_type": "markdown",
   "id": "ab96e4cd-7744-44e9-91bc-f27b44b6cf9e",
   "metadata": {},
   "source": [
    "### 17. Print d and f. Do you have your expected f? For instance, if your d is: array([[[1.85836099, 1.67064465, 1.62576044, 1.40243961, 1.88454931], [1.75354326, 1.69403643, 1.36729252, 1.61415071, 1.12104981], [1.72201435, 1.1862918 , 1.87078449, 1.7726778 , 1.88180042]],\n",
    "\n",
    "   [[1.44747908, 1.31673383, 1.02000951, 1.52218947, 1.97066381],\n",
    "    [1.79129243, 1.74983003, 1.96028037, 1.85166831, 1.65450881],\n",
    "    [1.18068344, 1.9587381 , 1.00656599, 1.93402165, 1.73514584]]])\n",
    "Your f should be: array([[[ 75., 75., 75., 25., 75.], [ 75., 75., 25., 25., 25.], [ 75., 25., 75., 75., 75.]],\n",
    "\n",
    "   [[ 25.,  25.,  25.,  25., 100.],\n",
    "    [ 75.,  75.,  75.,  75.,  75.],\n",
    "    [ 25.,  75.,   0.,  75.,  75.]]])\n",
    "\"\"\"\n",
    "\n"
   ]
  },
  {
   "cell_type": "code",
   "execution_count": null,
   "id": "c67775c1-34e5-4940-8438-2b0e7b114c50",
   "metadata": {},
   "outputs": [],
   "source": []
  },
  {
   "cell_type": "markdown",
   "id": "4b018901-472d-4a35-ad12-e7f787151016",
   "metadata": {},
   "source": [
    "### 18. Bonus question: instead of using numbers (i.e. 0, 25, 50, 75, and 100), how to use string values (\"A\", \"B\", \"C\", \"D\", and \"E\") to label the array elements? You are expecting the result to be: array([[[ 'D', 'D', 'D', 'B', 'D'], [ 'D', 'D', 'B', 'B', 'B'], [ 'D', 'B', 'D', 'D', 'D']],\n",
    "\n",
    "   [[ 'B',  'B',  'B',  'B',  'E'],\n",
    "    [ 'D',  'D',  'D',  'D',  'D'],\n",
    "    [ 'B',  'D',   'A',  'D', 'D']]])\n",
    "Again, you don't need Numpy in this question. \"\""
   ]
  },
  {
   "cell_type": "code",
   "execution_count": 57,
   "id": "d194cc54-5c1c-4f42-8160-28c0110c59ca",
   "metadata": {},
   "outputs": [
    {
     "ename": "ValueError",
     "evalue": "invalid literal for int() with base 10: 'D'",
     "output_type": "error",
     "traceback": [
      "\u001b[1;31m---------------------------------------------------------------------------\u001b[0m",
      "\u001b[1;31mValueError\u001b[0m                                Traceback (most recent call last)",
      "\u001b[1;32m<ipython-input-57-c03f9de0e416>\u001b[0m in \u001b[0;36m<module>\u001b[1;34m\u001b[0m\n\u001b[0;32m     15\u001b[0m                 \u001b[0mf\u001b[0m\u001b[1;33m[\u001b[0m\u001b[0mind\u001b[0m\u001b[1;33m]\u001b[0m\u001b[1;33m[\u001b[0m\u001b[0mind_sub\u001b[0m\u001b[1;33m]\u001b[0m\u001b[1;33m[\u001b[0m\u001b[0mind_sub_sub\u001b[0m\u001b[1;33m]\u001b[0m\u001b[1;33m=\u001b[0m\u001b[1;34m'C'\u001b[0m\u001b[1;33m\u001b[0m\u001b[1;33m\u001b[0m\u001b[0m\n\u001b[0;32m     16\u001b[0m             \u001b[1;32melif\u001b[0m \u001b[0melement\u001b[0m \u001b[1;33m>\u001b[0m \u001b[0md_mean\u001b[0m \u001b[1;32mand\u001b[0m \u001b[0melement\u001b[0m \u001b[1;33m<\u001b[0m \u001b[0md_max\u001b[0m\u001b[1;33m:\u001b[0m\u001b[1;33m\u001b[0m\u001b[1;33m\u001b[0m\u001b[0m\n\u001b[1;32m---> 17\u001b[1;33m                 \u001b[0mf\u001b[0m\u001b[1;33m[\u001b[0m\u001b[0mind\u001b[0m\u001b[1;33m]\u001b[0m\u001b[1;33m[\u001b[0m\u001b[0mind_sub\u001b[0m\u001b[1;33m]\u001b[0m\u001b[1;33m[\u001b[0m\u001b[0mind_sub_sub\u001b[0m\u001b[1;33m]\u001b[0m\u001b[1;33m=\u001b[0m\u001b[1;34m'D'\u001b[0m\u001b[1;33m\u001b[0m\u001b[1;33m\u001b[0m\u001b[0m\n\u001b[0m\u001b[0;32m     18\u001b[0m             \u001b[1;32melse\u001b[0m\u001b[1;33m:\u001b[0m\u001b[1;33m\u001b[0m\u001b[1;33m\u001b[0m\u001b[0m\n\u001b[0;32m     19\u001b[0m                 \u001b[0mf\u001b[0m\u001b[1;33m[\u001b[0m\u001b[0mind\u001b[0m\u001b[1;33m]\u001b[0m\u001b[1;33m[\u001b[0m\u001b[0mind_sub\u001b[0m\u001b[1;33m]\u001b[0m\u001b[1;33m[\u001b[0m\u001b[0mind_sub_sub\u001b[0m\u001b[1;33m]\u001b[0m\u001b[1;33m=\u001b[0m\u001b[1;34m'E'\u001b[0m\u001b[1;33m\u001b[0m\u001b[1;33m\u001b[0m\u001b[0m\n",
      "\u001b[1;31mValueError\u001b[0m: invalid literal for int() with base 10: 'D'"
     ]
    }
   ],
   "source": [
    "g = np.empty((2,3,5), dtype=\"O\")\n",
    "\n",
    "for ind, sub_arr in enumerate (d):\n",
    "    #print(ind,sub_arr)\n",
    "    for ind_sub, sub_sub_arr in enumerate(sub_arr):\n",
    "     #   print(ind_sub,sub_sub_arr)\n",
    "      #  print()\n",
    "        for ind_sub_sub, element in enumerate(sub_sub_arr):\n",
    "       #     print(ind_sub_sub, element)\n",
    "            if element==d_min:\n",
    "                f[ind][ind_sub][ind_sub_sub]='A'\n",
    "            elif element > d_min and element < d_mean:\n",
    "                f[ind][ind_sub][ind_sub_sub]='B'\n",
    "            elif element == d_mean:\n",
    "                f[ind][ind_sub][ind_sub_sub]='C'\n",
    "            elif element > d_mean and element < d_max:\n",
    "                f[ind][ind_sub][ind_sub_sub]='D'\n",
    "            else:\n",
    "                f[ind][ind_sub][ind_sub_sub]='E'\n",
    "print(f)"
   ]
  },
  {
   "cell_type": "code",
   "execution_count": null,
   "id": "c5b2fe9b-eb55-4335-ac27-33adbb1f4ba4",
   "metadata": {},
   "outputs": [],
   "source": []
  }
 ],
 "metadata": {
  "kernelspec": {
   "display_name": "Python 3",
   "language": "python",
   "name": "python3"
  },
  "language_info": {
   "codemirror_mode": {
    "name": "ipython",
    "version": 3
   },
   "file_extension": ".py",
   "mimetype": "text/x-python",
   "name": "python",
   "nbconvert_exporter": "python",
   "pygments_lexer": "ipython3",
   "version": "3.8.8"
  }
 },
 "nbformat": 4,
 "nbformat_minor": 5
}
