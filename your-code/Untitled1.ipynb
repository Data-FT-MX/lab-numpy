{
 "cells": [
  {
   "cell_type": "code",
   "execution_count": 52,
   "id": "9dfa675c",
   "metadata": {},
   "outputs": [
    {
     "name": "stdout",
     "output_type": "stream",
     "text": [
      "HEllO WOrld\n"
     ]
    }
   ],
   "source": [
    "string=\"Hello World\"\n",
    "list_string=list(string)\n",
    "for i in range(len(list_string)):\n",
    "    if list_string[i] == \"a\" or list_string[i] == \"e\" or list_string[i] == \"i\" or list_string[i] == \"o\" or list_string[i] == \"u\":\n",
    "        list_string[i] = list_string[i].upper()\n",
    "\n",
    "stringupper=\"\".join(list_string)\n",
    "\n",
    "print(stringupper)\n",
    "    \n",
    "        \n",
    "\n",
    "        "
   ]
  },
  {
   "cell_type": "code",
   "execution_count": 32,
   "id": "72c764c4",
   "metadata": {},
   "outputs": [],
   "source": [
    "def swap(string):\n",
    "  tr = str.maketrans('aeiou', 'AEIOU')\n",
    "  return string.translate(tr)"
   ]
  },
  {
   "cell_type": "code",
   "execution_count": 33,
   "id": "38ea94d2",
   "metadata": {},
   "outputs": [
    {
     "data": {
      "text/plain": [
       "'HEllO WOrld'"
      ]
     },
     "execution_count": 33,
     "metadata": {},
     "output_type": "execute_result"
    }
   ],
   "source": [
    "swap(string)"
   ]
  },
  {
   "cell_type": "code",
   "execution_count": 34,
   "id": "7746bff7",
   "metadata": {},
   "outputs": [
    {
     "data": {
      "text/plain": [
       "'DAnIEl AgUIlAr'"
      ]
     },
     "execution_count": 34,
     "metadata": {},
     "output_type": "execute_result"
    }
   ],
   "source": [
    "name = \"Daniel Aguilar\"\n",
    "tr = str.maketrans('aeiou', 'AEIOU')\n",
    "name.translate(tr)"
   ]
  },
  {
   "cell_type": "code",
   "execution_count": 39,
   "id": "bed6757c",
   "metadata": {},
   "outputs": [
    {
     "data": {
      "text/plain": [
       "'DANIEL AGUILAR'"
      ]
     },
     "execution_count": 39,
     "metadata": {},
     "output_type": "execute_result"
    }
   ],
   "source": [
    "str.upper(name)"
   ]
  },
  {
   "cell_type": "code",
   "execution_count": 44,
   "id": "84166198",
   "metadata": {},
   "outputs": [
    {
     "data": {
      "text/plain": [
       "'DAnIEl AgUIlAr'"
      ]
     },
     "execution_count": 44,
     "metadata": {},
     "output_type": "execute_result"
    }
   ],
   "source": [
    "dam=name.maketrans('aeiou', 'AEIOU')\n",
    "name.translate(name.maketrans('aeiou', 'AEIOU'))"
   ]
  },
  {
   "cell_type": "code",
   "execution_count": null,
   "id": "6085161f",
   "metadata": {},
   "outputs": [],
   "source": []
  }
 ],
 "metadata": {
  "kernelspec": {
   "display_name": "Python 3 (ipykernel)",
   "language": "python",
   "name": "python3"
  },
  "language_info": {
   "codemirror_mode": {
    "name": "ipython",
    "version": 3
   },
   "file_extension": ".py",
   "mimetype": "text/x-python",
   "name": "python",
   "nbconvert_exporter": "python",
   "pygments_lexer": "ipython3",
   "version": "3.10.3"
  }
 },
 "nbformat": 4,
 "nbformat_minor": 5
}
