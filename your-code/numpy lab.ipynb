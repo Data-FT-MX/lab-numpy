{
 "cells": [
  {
   "cell_type": "code",
   "execution_count": 1,
   "id": "75f9a38d",
   "metadata": {},
   "outputs": [],
   "source": [
    "import numpy as np\n",
    "\n"
   ]
  },
  {
   "cell_type": "code",
   "execution_count": 2,
   "id": "b7c4bf71",
   "metadata": {
    "scrolled": true
   },
   "outputs": [
    {
     "name": "stdout",
     "output_type": "stream",
     "text": [
      "1.20.3\n"
     ]
    }
   ],
   "source": [
    "print(np.__version__)"
   ]
  },
  {
   "cell_type": "code",
   "execution_count": 3,
   "id": "a27a6511",
   "metadata": {},
   "outputs": [
    {
     "data": {
      "text/plain": [
       "array([[[0.13329756, 0.5823677 , 0.96953359, 0.68871978, 0.65398872],\n",
       "        [0.09051965, 0.15355781, 0.77622011, 0.62158726, 0.77177673],\n",
       "        [0.81625384, 0.76462003, 0.20858417, 0.1774428 , 0.35268322]],\n",
       "\n",
       "       [[0.15052192, 0.74583413, 0.37077635, 0.64535597, 0.19305099],\n",
       "        [0.8368861 , 0.30734192, 0.13788951, 0.7600662 , 0.17059466],\n",
       "        [0.91982367, 0.37578986, 0.84129594, 0.04624852, 0.3532916 ]]])"
      ]
     },
     "execution_count": 3,
     "metadata": {},
     "output_type": "execute_result"
    }
   ],
   "source": [
    "a = np.random.random((2, 3, 5))\n",
    "a"
   ]
  },
  {
   "cell_type": "code",
   "execution_count": 4,
   "id": "0573a9b2",
   "metadata": {
    "scrolled": false
   },
   "outputs": [
    {
     "name": "stdout",
     "output_type": "stream",
     "text": [
      "[[[0.13329756 0.5823677  0.96953359 0.68871978 0.65398872]\n",
      "  [0.09051965 0.15355781 0.77622011 0.62158726 0.77177673]\n",
      "  [0.81625384 0.76462003 0.20858417 0.1774428  0.35268322]]\n",
      "\n",
      " [[0.15052192 0.74583413 0.37077635 0.64535597 0.19305099]\n",
      "  [0.8368861  0.30734192 0.13788951 0.7600662  0.17059466]\n",
      "  [0.91982367 0.37578986 0.84129594 0.04624852 0.3532916 ]]]\n"
     ]
    }
   ],
   "source": [
    "print(a)"
   ]
  },
  {
   "cell_type": "code",
   "execution_count": 5,
   "id": "552d477f",
   "metadata": {
    "scrolled": true
   },
   "outputs": [
    {
     "data": {
      "text/plain": [
       "array([[[1., 1., 1.],\n",
       "        [1., 1., 1.]],\n",
       "\n",
       "       [[1., 1., 1.],\n",
       "        [1., 1., 1.]],\n",
       "\n",
       "       [[1., 1., 1.],\n",
       "        [1., 1., 1.]],\n",
       "\n",
       "       [[1., 1., 1.],\n",
       "        [1., 1., 1.]],\n",
       "\n",
       "       [[1., 1., 1.],\n",
       "        [1., 1., 1.]]])"
      ]
     },
     "execution_count": 5,
     "metadata": {},
     "output_type": "execute_result"
    }
   ],
   "source": [
    "b = np.ones((5, 2, 3))\n",
    "b"
   ]
  },
  {
   "cell_type": "code",
   "execution_count": 6,
   "id": "9e6d42eb",
   "metadata": {},
   "outputs": [
    {
     "name": "stdout",
     "output_type": "stream",
     "text": [
      "[[[1. 1. 1.]\n",
      "  [1. 1. 1.]]\n",
      "\n",
      " [[1. 1. 1.]\n",
      "  [1. 1. 1.]]\n",
      "\n",
      " [[1. 1. 1.]\n",
      "  [1. 1. 1.]]\n",
      "\n",
      " [[1. 1. 1.]\n",
      "  [1. 1. 1.]]\n",
      "\n",
      " [[1. 1. 1.]\n",
      "  [1. 1. 1.]]]\n"
     ]
    }
   ],
   "source": [
    "print(b)"
   ]
  },
  {
   "cell_type": "code",
   "execution_count": 7,
   "id": "d859b2dc",
   "metadata": {},
   "outputs": [
    {
     "data": {
      "text/plain": [
       "True"
      ]
     },
     "execution_count": 7,
     "metadata": {},
     "output_type": "execute_result"
    }
   ],
   "source": [
    "a.size==b.size"
   ]
  },
  {
   "cell_type": "code",
   "execution_count": 8,
   "id": "2d1aefec",
   "metadata": {
    "scrolled": true
   },
   "outputs": [
    {
     "ename": "ValueError",
     "evalue": "operands could not be broadcast together with shapes (2,3,5) (5,2,3) ",
     "output_type": "error",
     "traceback": [
      "\u001b[1;31m---------------------------------------------------------------------------\u001b[0m",
      "\u001b[1;31mValueError\u001b[0m                                Traceback (most recent call last)",
      "\u001b[1;32mC:\\Users\\JUANCA~1\\AppData\\Local\\Temp/ipykernel_26944/3866107955.py\u001b[0m in \u001b[0;36m<module>\u001b[1;34m\u001b[0m\n\u001b[1;32m----> 1\u001b[1;33m \u001b[0ma\u001b[0m\u001b[1;33m+\u001b[0m\u001b[0mb\u001b[0m \u001b[1;31m# No se pueden sumar porque no tienen la misma forma\u001b[0m\u001b[1;33m\u001b[0m\u001b[1;33m\u001b[0m\u001b[0m\n\u001b[0m",
      "\u001b[1;31mValueError\u001b[0m: operands could not be broadcast together with shapes (2,3,5) (5,2,3) "
     ]
    }
   ],
   "source": [
    "a+b # No se pueden sumar porque no tienen la misma forma"
   ]
  },
  {
   "cell_type": "code",
   "execution_count": 9,
   "id": "25d87445",
   "metadata": {},
   "outputs": [
    {
     "data": {
      "text/plain": [
       "array([[[1., 1., 1., 1., 1.],\n",
       "        [1., 1., 1., 1., 1.],\n",
       "        [1., 1., 1., 1., 1.]],\n",
       "\n",
       "       [[1., 1., 1., 1., 1.],\n",
       "        [1., 1., 1., 1., 1.],\n",
       "        [1., 1., 1., 1., 1.]]])"
      ]
     },
     "execution_count": 9,
     "metadata": {},
     "output_type": "execute_result"
    }
   ],
   "source": [
    "b.reshape(2,3,5)"
   ]
  },
  {
   "cell_type": "code",
   "execution_count": 10,
   "id": "ad4835e8",
   "metadata": {},
   "outputs": [
    {
     "name": "stdout",
     "output_type": "stream",
     "text": [
      "[[[1. 1. 1. 1. 1.]\n",
      "  [1. 1. 1. 1. 1.]\n",
      "  [1. 1. 1. 1. 1.]]\n",
      "\n",
      " [[1. 1. 1. 1. 1.]\n",
      "  [1. 1. 1. 1. 1.]\n",
      "  [1. 1. 1. 1. 1.]]]\n"
     ]
    }
   ],
   "source": [
    "c=b.reshape(2,3,5)\n",
    "print(c)"
   ]
  },
  {
   "cell_type": "code",
   "execution_count": 11,
   "id": "b6b66835",
   "metadata": {},
   "outputs": [],
   "source": [
    "d=a+c #Ahora si se pueden sumar porque tienen la misma forma. "
   ]
  },
  {
   "cell_type": "code",
   "execution_count": 12,
   "id": "c311fa80",
   "metadata": {},
   "outputs": [
    {
     "name": "stdout",
     "output_type": "stream",
     "text": [
      "[[[0.13329756 0.5823677  0.96953359 0.68871978 0.65398872]\n",
      "  [0.09051965 0.15355781 0.77622011 0.62158726 0.77177673]\n",
      "  [0.81625384 0.76462003 0.20858417 0.1774428  0.35268322]]\n",
      "\n",
      " [[0.15052192 0.74583413 0.37077635 0.64535597 0.19305099]\n",
      "  [0.8368861  0.30734192 0.13788951 0.7600662  0.17059466]\n",
      "  [0.91982367 0.37578986 0.84129594 0.04624852 0.3532916 ]]]\n",
      "[[[1.13329756 1.5823677  1.96953359 1.68871978 1.65398872]\n",
      "  [1.09051965 1.15355781 1.77622011 1.62158726 1.77177673]\n",
      "  [1.81625384 1.76462003 1.20858417 1.1774428  1.35268322]]\n",
      "\n",
      " [[1.15052192 1.74583413 1.37077635 1.64535597 1.19305099]\n",
      "  [1.8368861  1.30734192 1.13788951 1.7600662  1.17059466]\n",
      "  [1.91982367 1.37578986 1.84129594 1.04624852 1.3532916 ]]]\n"
     ]
    }
   ],
   "source": [
    "print(a)\n",
    "\n",
    "print(d)\n",
    "#La diferencia de valor entre a y c es que a a le sumaron todos los unos contenidos en la matriz c. "
   ]
  },
  {
   "cell_type": "code",
   "execution_count": 13,
   "id": "67627dac",
   "metadata": {
    "scrolled": true
   },
   "outputs": [
    {
     "name": "stdout",
     "output_type": "stream",
     "text": [
      "[[[0.13329756 0.5823677  0.96953359 0.68871978 0.65398872]\n",
      "  [0.09051965 0.15355781 0.77622011 0.62158726 0.77177673]\n",
      "  [0.81625384 0.76462003 0.20858417 0.1774428  0.35268322]]\n",
      "\n",
      " [[0.15052192 0.74583413 0.37077635 0.64535597 0.19305099]\n",
      "  [0.8368861  0.30734192 0.13788951 0.7600662  0.17059466]\n",
      "  [0.91982367 0.37578986 0.84129594 0.04624852 0.3532916 ]]]\n"
     ]
    }
   ],
   "source": [
    "e= a*c\n",
    "print(e)"
   ]
  },
  {
   "cell_type": "code",
   "execution_count": 14,
   "id": "ef4e6098",
   "metadata": {},
   "outputs": [
    {
     "data": {
      "text/plain": [
       "array([[[ True,  True,  True,  True,  True],\n",
       "        [ True,  True,  True,  True,  True],\n",
       "        [ True,  True,  True,  True,  True]],\n",
       "\n",
       "       [[ True,  True,  True,  True,  True],\n",
       "        [ True,  True,  True,  True,  True],\n",
       "        [ True,  True,  True,  True,  True]]])"
      ]
     },
     "execution_count": 14,
     "metadata": {},
     "output_type": "execute_result"
    }
   ],
   "source": [
    "#Todos los valores de e son iguales a los de a porque a fue multiplicado sólo por 1\n",
    "\n",
    "a==e"
   ]
  },
  {
   "cell_type": "code",
   "execution_count": 15,
   "id": "35e391a3",
   "metadata": {},
   "outputs": [
    {
     "name": "stdout",
     "output_type": "stream",
     "text": [
      "1.969533594906581\n",
      "1.0462485164924635\n",
      "1.4871973436636632\n"
     ]
    }
   ],
   "source": [
    "d_max=np.max(d)\n",
    "d_min=np.min(d)\n",
    "d_mean=np.mean(d)\n",
    "print(d_max)\n",
    "print(d_min)\n",
    "print(d_mean)"
   ]
  },
  {
   "cell_type": "code",
   "execution_count": 16,
   "id": "68faeaa9",
   "metadata": {
    "scrolled": true
   },
   "outputs": [
    {
     "name": "stdout",
     "output_type": "stream",
     "text": [
      "[[[0.13329756 0.5823677  0.96953359 0.68871978 0.65398872]\n",
      "  [0.09051965 0.15355781 0.77622011 0.62158726 0.77177673]\n",
      "  [0.81625384 0.76462003 0.20858417 0.1774428  0.35268322]]\n",
      "\n",
      " [[0.15052192 0.74583413 0.37077635 0.64535597 0.19305099]\n",
      "  [0.8368861  0.30734192 0.13788951 0.7600662  0.17059466]\n",
      "  [0.91982367 0.37578986 0.84129594 0.04624852 0.3532916 ]]]\n"
     ]
    }
   ],
   "source": [
    "f = np.empty((2,3,5))\n",
    "print(f)"
   ]
  },
  {
   "cell_type": "code",
   "execution_count": 21,
   "id": "56e30a27",
   "metadata": {},
   "outputs": [
    {
     "data": {
      "text/plain": [
       "array([[[ 25,  75, 100,  75,  75],\n",
       "        [ 25,  25,  75,  75,  75],\n",
       "        [ 75,  75,  25,  25,  25]],\n",
       "\n",
       "       [[ 25,  75,  25,  75,  25],\n",
       "        [ 75,  25,  25,  75,  25],\n",
       "        [ 75,  25,  75,   0,  25]]])"
      ]
     },
     "execution_count": 21,
     "metadata": {},
     "output_type": "execute_result"
    }
   ],
   "source": [
    "f = np.where((d > d_min) & (d < d_mean), 25,\n",
    "         np.where((d > d_mean) & (d < d_max), 75,\n",
    "                   np.where(d == d_mean, 50,\n",
    "                             np.where(d == d_min, 0,\n",
    "                                       np.where(d == d_max, 100,\n",
    "                                               100)))))\n",
    "\n"
   ]
  },
  {
   "cell_type": "code",
   "execution_count": 23,
   "id": "76136dbc",
   "metadata": {},
   "outputs": [
    {
     "data": {
      "text/plain": [
       "array([[['D', 'C', 'L', 'C', 'C'],\n",
       "        ['D', 'D', 'C', 'C', 'C'],\n",
       "        ['C', 'C', 'D', 'D', 'D']],\n",
       "\n",
       "       [['D', 'C', 'D', 'C', 'D'],\n",
       "        ['C', 'D', 'D', 'C', 'D'],\n",
       "        ['C', 'D', 'C', 'Y', 'D']]], dtype='<U11')"
      ]
     },
     "execution_count": 23,
     "metadata": {},
     "output_type": "execute_result"
    }
   ],
   "source": [
    "f = np.where((d > d_min) & (d < d_mean), 'D',\n",
    "         np.where((d > d_mean) & (d < d_max), 'C',\n",
    "                   np.where(d == d_mean, 'T',\n",
    "                             np.where(d == d_min, 'Y',\n",
    "                                       np.where(d == d_max, 'L',\n",
    "                                               100)))))\n",
    "\n",
    "f\n"
   ]
  }
 ],
 "metadata": {
  "kernelspec": {
   "display_name": "Python 3 (ipykernel)",
   "language": "python",
   "name": "python3"
  },
  "language_info": {
   "codemirror_mode": {
    "name": "ipython",
    "version": 3
   },
   "file_extension": ".py",
   "mimetype": "text/x-python",
   "name": "python",
   "nbconvert_exporter": "python",
   "pygments_lexer": "ipython3",
   "version": "3.9.7"
  }
 },
 "nbformat": 4,
 "nbformat_minor": 5
}
