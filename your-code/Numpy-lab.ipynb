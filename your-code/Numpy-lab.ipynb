{
 "cells": [
  {
   "cell_type": "code",
   "execution_count": 1,
   "id": "c8a0d71c",
   "metadata": {},
   "outputs": [],
   "source": [
    "#1. Import the NUMPY package under the name np.\n",
    "import numpy as np"
   ]
  },
  {
   "cell_type": "code",
   "execution_count": 2,
   "id": "ac11f6bf",
   "metadata": {},
   "outputs": [
    {
     "data": {
      "text/plain": [
       "'1.22.3'"
      ]
     },
     "execution_count": 2,
     "metadata": {},
     "output_type": "execute_result"
    }
   ],
   "source": [
    "#2. Print the NUMPY version and the configuration.\n",
    "np.__version__"
   ]
  },
  {
   "cell_type": "code",
   "execution_count": 3,
   "id": "f85261ef",
   "metadata": {},
   "outputs": [],
   "source": [
    "#3. Generate a 2x3x5 3-dimensional array with random values. Assign the array to variable \"a\"\n",
    "# Challenge: there are at least three easy ways that use numpy to generate random arrays. How many ways can you find?\n",
    "a = np.random.rand(2,3,5)"
   ]
  },
  {
   "cell_type": "code",
   "execution_count": 4,
   "id": "02b2fca1",
   "metadata": {},
   "outputs": [
    {
     "name": "stdout",
     "output_type": "stream",
     "text": [
      "[[[0.65346535 0.77922074 0.00915332 0.67096213 0.27904716]\n",
      "  [0.81383177 0.00353518 0.46102917 0.33563722 0.25123702]\n",
      "  [0.95831437 0.43280675 0.97907397 0.6512118  0.52326049]]\n",
      "\n",
      " [[0.94340955 0.90451434 0.51632969 0.8565192  0.7677092 ]\n",
      "  [0.25396023 0.05290118 0.08927254 0.5248678  0.68914067]\n",
      "  [0.22630599 0.13486764 0.86880563 0.46490608 0.65905858]]]\n"
     ]
    }
   ],
   "source": [
    "#4. Print a.\n",
    "print(a)"
   ]
  },
  {
   "cell_type": "code",
   "execution_count": 32,
   "id": "83c465c7",
   "metadata": {},
   "outputs": [],
   "source": [
    "#5. Create a 5x2x3 3-dimensional array with all values equaling 1.\n",
    "#Assign the array to variable \"b\"\n",
    "b = np.ones((5, 2, 3))"
   ]
  },
  {
   "cell_type": "code",
   "execution_count": 33,
   "id": "89441a24",
   "metadata": {},
   "outputs": [
    {
     "name": "stdout",
     "output_type": "stream",
     "text": [
      "[[[1. 1. 1.]\n",
      "  [1. 1. 1.]]\n",
      "\n",
      " [[1. 1. 1.]\n",
      "  [1. 1. 1.]]\n",
      "\n",
      " [[1. 1. 1.]\n",
      "  [1. 1. 1.]]\n",
      "\n",
      " [[1. 1. 1.]\n",
      "  [1. 1. 1.]]\n",
      "\n",
      " [[1. 1. 1.]\n",
      "  [1. 1. 1.]]]\n"
     ]
    }
   ],
   "source": [
    "#6. Print b.\n",
    "print(b)"
   ]
  },
  {
   "cell_type": "code",
   "execution_count": 34,
   "id": "e8e91409",
   "metadata": {},
   "outputs": [
    {
     "name": "stdout",
     "output_type": "stream",
     "text": [
      "True\n"
     ]
    }
   ],
   "source": [
    "#7. Do a and b have the same size? How do you prove that in Python code?\n",
    "print(a.size == b.size) #we compare with the atribute size"
   ]
  },
  {
   "cell_type": "code",
   "execution_count": 35,
   "id": "37baa8f2",
   "metadata": {},
   "outputs": [
    {
     "ename": "ValueError",
     "evalue": "operands could not be broadcast together with shapes (2,3,5) (5,2,3) ",
     "output_type": "error",
     "traceback": [
      "\u001b[1;31m---------------------------------------------------------------------------\u001b[0m",
      "\u001b[1;31mValueError\u001b[0m                                Traceback (most recent call last)",
      "Input \u001b[1;32mIn [35]\u001b[0m, in \u001b[0;36m<cell line: 2>\u001b[1;34m()\u001b[0m\n\u001b[0;32m      1\u001b[0m \u001b[38;5;66;03m#8. Are you able to add a and b? Why or why not?\u001b[39;00m\n\u001b[1;32m----> 2\u001b[0m \u001b[43ma\u001b[49m\u001b[43m \u001b[49m\u001b[38;5;241;43m+\u001b[39;49m\u001b[43m \u001b[49m\u001b[43mb\u001b[49m\n",
      "\u001b[1;31mValueError\u001b[0m: operands could not be broadcast together with shapes (2,3,5) (5,2,3) "
     ]
    }
   ],
   "source": [
    "#8. Are you able to add a and b? Why or why not?\n",
    "a + b #we can't add a and b because they haven't the same dimension"
   ]
  },
  {
   "cell_type": "code",
   "execution_count": 39,
   "id": "854f4b71",
   "metadata": {},
   "outputs": [
    {
     "name": "stdout",
     "output_type": "stream",
     "text": [
      "[[[1. 1. 1. 1. 1.]\n",
      "  [1. 1. 1. 1. 1.]\n",
      "  [1. 1. 1. 1. 1.]]\n",
      "\n",
      " [[1. 1. 1. 1. 1.]\n",
      "  [1. 1. 1. 1. 1.]\n",
      "  [1. 1. 1. 1. 1.]]]\n"
     ]
    }
   ],
   "source": [
    "#9. Transpose b so that it has the same structure of a (i.e. become a 2x3x5 array). Assign the transposed array to varialbe \"c\".\n",
    "c = b.transpose()\n",
    "c = c.reshape(2,3,5)\n",
    "print(c)"
   ]
  },
  {
   "cell_type": "code",
   "execution_count": 40,
   "id": "2a87db16",
   "metadata": {},
   "outputs": [
    {
     "name": "stdout",
     "output_type": "stream",
     "text": [
      "[[[1.65346535 1.77922074 1.00915332 1.67096213 1.27904716]\n",
      "  [1.81383177 1.00353518 1.46102917 1.33563722 1.25123702]\n",
      "  [1.95831437 1.43280675 1.97907397 1.6512118  1.52326049]]\n",
      "\n",
      " [[1.94340955 1.90451434 1.51632969 1.8565192  1.7677092 ]\n",
      "  [1.25396023 1.05290118 1.08927254 1.5248678  1.68914067]\n",
      "  [1.22630599 1.13486764 1.86880563 1.46490608 1.65905858]]]\n"
     ]
    }
   ],
   "source": [
    "#10. Try to add a and c. Now it should work. Assign the sum to varialbe \"d\". But why does it work now?\n",
    "d = a + c #it works because they have the same dimension\n",
    "print(d)"
   ]
  },
  {
   "cell_type": "code",
   "execution_count": 41,
   "id": "72b685d2",
   "metadata": {},
   "outputs": [
    {
     "name": "stdout",
     "output_type": "stream",
     "text": [
      "[[[0.65346535 0.77922074 0.00915332 0.67096213 0.27904716]\n",
      "  [0.81383177 0.00353518 0.46102917 0.33563722 0.25123702]\n",
      "  [0.95831437 0.43280675 0.97907397 0.6512118  0.52326049]]\n",
      "\n",
      " [[0.94340955 0.90451434 0.51632969 0.8565192  0.7677092 ]\n",
      "  [0.25396023 0.05290118 0.08927254 0.5248678  0.68914067]\n",
      "  [0.22630599 0.13486764 0.86880563 0.46490608 0.65905858]]]\n"
     ]
    }
   ],
   "source": [
    "#11. Print a and d. Notice the difference and relation of the two array in terms of the values? Explain.\n",
    "print(a) #the values in a are between 0 and 1, and the values in b are between 1 and 2"
   ]
  },
  {
   "cell_type": "code",
   "execution_count": 42,
   "id": "fcb24a2c",
   "metadata": {},
   "outputs": [
    {
     "name": "stdout",
     "output_type": "stream",
     "text": [
      "[[[1.65346535 1.77922074 1.00915332 1.67096213 1.27904716]\n",
      "  [1.81383177 1.00353518 1.46102917 1.33563722 1.25123702]\n",
      "  [1.95831437 1.43280675 1.97907397 1.6512118  1.52326049]]\n",
      "\n",
      " [[1.94340955 1.90451434 1.51632969 1.8565192  1.7677092 ]\n",
      "  [1.25396023 1.05290118 1.08927254 1.5248678  1.68914067]\n",
      "  [1.22630599 1.13486764 1.86880563 1.46490608 1.65905858]]]\n"
     ]
    }
   ],
   "source": [
    "print(d)"
   ]
  },
  {
   "cell_type": "code",
   "execution_count": 43,
   "id": "a48c42fe",
   "metadata": {},
   "outputs": [
    {
     "name": "stdout",
     "output_type": "stream",
     "text": [
      "[[[0.65346535 0.77922074 0.00915332 0.67096213 0.27904716]\n",
      "  [0.81383177 0.00353518 0.46102917 0.33563722 0.25123702]\n",
      "  [0.95831437 0.43280675 0.97907397 0.6512118  0.52326049]]\n",
      "\n",
      " [[0.94340955 0.90451434 0.51632969 0.8565192  0.7677092 ]\n",
      "  [0.25396023 0.05290118 0.08927254 0.5248678  0.68914067]\n",
      "  [0.22630599 0.13486764 0.86880563 0.46490608 0.65905858]]]\n"
     ]
    }
   ],
   "source": [
    "#12. Multiply a and c. Assign the result to e.\n",
    "e = a * c\n",
    "print(e)"
   ]
  },
  {
   "cell_type": "code",
   "execution_count": 44,
   "id": "f6a61654",
   "metadata": {},
   "outputs": [
    {
     "name": "stdout",
     "output_type": "stream",
     "text": [
      "[[[0.65346535 0.77922074 0.00915332 0.67096213 0.27904716]\n",
      "  [0.81383177 0.00353518 0.46102917 0.33563722 0.25123702]\n",
      "  [0.95831437 0.43280675 0.97907397 0.6512118  0.52326049]]\n",
      "\n",
      " [[0.94340955 0.90451434 0.51632969 0.8565192  0.7677092 ]\n",
      "  [0.25396023 0.05290118 0.08927254 0.5248678  0.68914067]\n",
      "  [0.22630599 0.13486764 0.86880563 0.46490608 0.65905858]]]\n"
     ]
    }
   ],
   "source": [
    "#13. Does e equal to a? Why or why not?\n",
    "print(a) #yes, a and e are equal because we multiplied a * 1"
   ]
  },
  {
   "cell_type": "code",
   "execution_count": 45,
   "id": "501f6d81",
   "metadata": {},
   "outputs": [],
   "source": [
    "#14. Identify the max, min, and mean values in d. Assign those values to variables \"d_max\", \"d_min\", and \"d_mean\"\n",
    "#d_max = np.max(d)\n",
    "#print(d_min = np.min(d))\n",
    "#print(d_mean = np.mean(d))\n",
    "d_mean = d.mean()\n",
    "d_max = d.max()\n",
    "d_min = d.min()"
   ]
  },
  {
   "cell_type": "code",
   "execution_count": 46,
   "id": "32a7d99d",
   "metadata": {},
   "outputs": [
    {
     "name": "stdout",
     "output_type": "stream",
     "text": [
      "1.5251451584956897\n",
      "1.9790739719137793\n",
      "1.003535181941633\n"
     ]
    }
   ],
   "source": [
    "print(d_mean)\n",
    "print(d_max)\n",
    "print(d_min)"
   ]
  },
  {
   "cell_type": "code",
   "execution_count": 47,
   "id": "52eba927",
   "metadata": {},
   "outputs": [],
   "source": [
    "#15. Now we want to label the values in d. First create an empty array \"f\" with the same shape \n",
    "#(i.e. 2x3x5) as d using `np.empty`.\n",
    "f = np.empty((2,3,5))"
   ]
  },
  {
   "cell_type": "code",
   "execution_count": null,
   "id": "c41e11a9",
   "metadata": {},
   "outputs": [],
   "source": [
    "\"\"\"\n",
    "#16. Populate the values in f. For each value in d, if it's larger than d_min but smaller than d_mean, assign 25 to the corresponding value in f.\n",
    "If a value in d is larger than d_mean but smaller than d_max, assign 75 to the corresponding value in f.\n",
    "If a value equals to d_mean, assign 50 to the corresponding value in f.\n",
    "Assign 0 to the corresponding value(s) in f for d_min in d.\n",
    "Assign 100 to the corresponding value(s) in f for d_max in d.\n",
    "In the end, f should have only the following values: 0, 25, 50, 75, and 100.\n",
    "Note: you don't have to use Numpy in this question.\n",
    "\"\"\"\"\""
   ]
  },
  {
   "cell_type": "code",
   "execution_count": 48,
   "id": "722920d3",
   "metadata": {},
   "outputs": [],
   "source": [
    "#f = np.where(d == d_min,0, np.where((d > d_min) & (d < d_mean),25, np.where (d == d_mean,50, np.where((d > d_mean) & (d < d_max),75, 100))))\n",
    "f= np.where(d==d_min, 0, np.where(d == d_max, 100, np.where(d == d_mean, 50,np.where((d_min < d) & (d<d_mean), 25, np.where((d_mean < d) & (d<d_max), 75, 1000)))))"
   ]
  },
  {
   "cell_type": "code",
   "execution_count": null,
   "id": "2e71ce73",
   "metadata": {},
   "outputs": [],
   "source": [
    "#17. Print d and f. Do you have your expected f?\n",
    "For instance, if your d is:\n",
    "array([[[1.85836099, 1.67064465, 1.62576044, 1.40243961, 1.88454931],\n",
    "        [1.75354326, 1.69403643, 1.36729252, 1.61415071, 1.12104981],\n",
    "        [1.72201435, 1.1862918 , 1.87078449, 1.7726778 , 1.88180042]],\n",
    "\n",
    "       [[1.44747908, 1.31673383, 1.02000951, 1.52218947, 1.97066381],\n",
    "        [1.79129243, 1.74983003, 1.96028037, 1.85166831, 1.65450881],\n",
    "        [1.18068344, 1.9587381 , 1.00656599, 1.93402165, 1.73514584]]])\n",
    "\n",
    "Your f should be:\n",
    "array([[[ 75.,  75.,  75.,  25.,  75.],\n",
    "        [ 75.,  75.,  25.,  25.,  25.],\n",
    "        [ 75.,  25.,  75.,  75.,  75.]],\n",
    "\n",
    "       [[ 25.,  25.,  25.,  25., 100.],\n",
    "        [ 75.,  75.,  75.,  75.,  75.],\n",
    "        [ 25.,  75.,   0.,  75.,  75.]]])\n",
    "\"\"\""
   ]
  },
  {
   "cell_type": "code",
   "execution_count": 49,
   "id": "56e1f063",
   "metadata": {},
   "outputs": [
    {
     "name": "stdout",
     "output_type": "stream",
     "text": [
      "[[[1.65346535 1.77922074 1.00915332 1.67096213 1.27904716]\n",
      "  [1.81383177 1.00353518 1.46102917 1.33563722 1.25123702]\n",
      "  [1.95831437 1.43280675 1.97907397 1.6512118  1.52326049]]\n",
      "\n",
      " [[1.94340955 1.90451434 1.51632969 1.8565192  1.7677092 ]\n",
      "  [1.25396023 1.05290118 1.08927254 1.5248678  1.68914067]\n",
      "  [1.22630599 1.13486764 1.86880563 1.46490608 1.65905858]]]\n",
      "[[[ 75  75  25  75  25]\n",
      "  [ 75   0  25  25  25]\n",
      "  [ 75  25 100  75  25]]\n",
      "\n",
      " [[ 75  75  25  75  75]\n",
      "  [ 25  25  25  25  75]\n",
      "  [ 25  25  75  25  75]]]\n"
     ]
    }
   ],
   "source": [
    "print(d)\n",
    "print(f)"
   ]
  }
 ],
 "metadata": {
  "kernelspec": {
   "display_name": "Python 3 (ipykernel)",
   "language": "python",
   "name": "python3"
  },
  "language_info": {
   "codemirror_mode": {
    "name": "ipython",
    "version": 3
   },
   "file_extension": ".py",
   "mimetype": "text/x-python",
   "name": "python",
   "nbconvert_exporter": "python",
   "pygments_lexer": "ipython3",
   "version": "3.10.3"
  }
 },
 "nbformat": 4,
 "nbformat_minor": 5
}
