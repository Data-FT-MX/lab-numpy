{
 "cells": [
  {
   "cell_type": "code",
   "execution_count": 1,
   "id": "cf369eb0",
   "metadata": {},
   "outputs": [],
   "source": [
    "#1\n",
    "import numpy as np"
   ]
  },
  {
   "cell_type": "code",
   "execution_count": 2,
   "id": "444456ed",
   "metadata": {},
   "outputs": [
    {
     "name": "stdout",
     "output_type": "stream",
     "text": [
      "openblas64__info:\n",
      "    library_dirs = ['D:\\\\a\\\\1\\\\s\\\\numpy\\\\build\\\\openblas64__info']\n",
      "    libraries = ['openblas64__info']\n",
      "    language = f77\n",
      "    define_macros = [('HAVE_CBLAS', None), ('BLAS_SYMBOL_SUFFIX', '64_'), ('HAVE_BLAS_ILP64', None)]\n",
      "blas_ilp64_opt_info:\n",
      "    library_dirs = ['D:\\\\a\\\\1\\\\s\\\\numpy\\\\build\\\\openblas64__info']\n",
      "    libraries = ['openblas64__info']\n",
      "    language = f77\n",
      "    define_macros = [('HAVE_CBLAS', None), ('BLAS_SYMBOL_SUFFIX', '64_'), ('HAVE_BLAS_ILP64', None)]\n",
      "openblas64__lapack_info:\n",
      "    library_dirs = ['D:\\\\a\\\\1\\\\s\\\\numpy\\\\build\\\\openblas64__lapack_info']\n",
      "    libraries = ['openblas64__lapack_info']\n",
      "    language = f77\n",
      "    define_macros = [('HAVE_CBLAS', None), ('BLAS_SYMBOL_SUFFIX', '64_'), ('HAVE_BLAS_ILP64', None), ('HAVE_LAPACKE', None)]\n",
      "lapack_ilp64_opt_info:\n",
      "    library_dirs = ['D:\\\\a\\\\1\\\\s\\\\numpy\\\\build\\\\openblas64__lapack_info']\n",
      "    libraries = ['openblas64__lapack_info']\n",
      "    language = f77\n",
      "    define_macros = [('HAVE_CBLAS', None), ('BLAS_SYMBOL_SUFFIX', '64_'), ('HAVE_BLAS_ILP64', None), ('HAVE_LAPACKE', None)]\n",
      "Supported SIMD extensions in this NumPy install:\n",
      "    baseline = SSE,SSE2,SSE3\n",
      "    found = SSSE3,SSE41,POPCNT,SSE42,AVX,F16C,FMA3,AVX2\n",
      "    not found = AVX512F,AVX512CD,AVX512_SKX,AVX512_CLX,AVX512_CNL\n"
     ]
    }
   ],
   "source": [
    "#2\n",
    "np.show_config()"
   ]
  },
  {
   "cell_type": "code",
   "execution_count": 3,
   "id": "49aa2787",
   "metadata": {},
   "outputs": [
    {
     "data": {
      "text/plain": [
       "'1.22.3'"
      ]
     },
     "execution_count": 3,
     "metadata": {},
     "output_type": "execute_result"
    }
   ],
   "source": [
    "#2\n",
    "np.__version__"
   ]
  },
  {
   "cell_type": "code",
   "execution_count": 4,
   "id": "f7561921",
   "metadata": {},
   "outputs": [],
   "source": [
    "#3\n",
    "a = np.random.random((2,3,5))"
   ]
  },
  {
   "cell_type": "code",
   "execution_count": 5,
   "id": "58fefda0",
   "metadata": {},
   "outputs": [
    {
     "name": "stdout",
     "output_type": "stream",
     "text": [
      "[[[0.29617398 0.6074968  0.58972636 0.5980548  0.69324493]\n",
      "  [0.63150155 0.13587963 0.6919149  0.03269467 0.14141103]\n",
      "  [0.91108152 0.41407368 0.49974495 0.9350408  0.31023251]]\n",
      "\n",
      " [[0.85499473 0.51474252 0.59887048 0.90810704 0.75233991]\n",
      "  [0.50913223 0.39139519 0.64233344 0.2566372  0.67972043]\n",
      "  [0.84579978 0.77086475 0.94163802 0.67081747 0.24363611]]]\n"
     ]
    }
   ],
   "source": [
    "#4\n",
    "print(a)"
   ]
  },
  {
   "cell_type": "code",
   "execution_count": 6,
   "id": "55f0c225",
   "metadata": {},
   "outputs": [],
   "source": [
    "#5\n",
    "b = np.ones((5,3,2))"
   ]
  },
  {
   "cell_type": "code",
   "execution_count": 7,
   "id": "3ee0498b",
   "metadata": {},
   "outputs": [
    {
     "name": "stdout",
     "output_type": "stream",
     "text": [
      "[[[1. 1.]\n",
      "  [1. 1.]\n",
      "  [1. 1.]]\n",
      "\n",
      " [[1. 1.]\n",
      "  [1. 1.]\n",
      "  [1. 1.]]\n",
      "\n",
      " [[1. 1.]\n",
      "  [1. 1.]\n",
      "  [1. 1.]]\n",
      "\n",
      " [[1. 1.]\n",
      "  [1. 1.]\n",
      "  [1. 1.]]\n",
      "\n",
      " [[1. 1.]\n",
      "  [1. 1.]\n",
      "  [1. 1.]]]\n"
     ]
    }
   ],
   "source": [
    "#6\n",
    "print(b)"
   ]
  },
  {
   "cell_type": "code",
   "execution_count": 8,
   "id": "927b9708",
   "metadata": {},
   "outputs": [
    {
     "data": {
      "text/plain": [
       "True"
      ]
     },
     "execution_count": 8,
     "metadata": {},
     "output_type": "execute_result"
    }
   ],
   "source": [
    "#7\n",
    "np.size(a) == np.size(b)"
   ]
  },
  {
   "cell_type": "code",
   "execution_count": 9,
   "id": "0fd209ae",
   "metadata": {},
   "outputs": [
    {
     "ename": "ValueError",
     "evalue": "operands could not be broadcast together with shapes (2,3,5) (5,3,2) ",
     "output_type": "error",
     "traceback": [
      "\u001b[1;31m---------------------------------------------------------------------------\u001b[0m",
      "\u001b[1;31mValueError\u001b[0m                                Traceback (most recent call last)",
      "Input \u001b[1;32mIn [9]\u001b[0m, in \u001b[0;36m<cell line: 2>\u001b[1;34m()\u001b[0m\n\u001b[0;32m      1\u001b[0m \u001b[38;5;66;03m#8\u001b[39;00m\n\u001b[1;32m----> 2\u001b[0m \u001b[43ma\u001b[49m\u001b[43m \u001b[49m\u001b[38;5;241;43m+\u001b[39;49m\u001b[43m \u001b[49m\u001b[43mb\u001b[49m\n",
      "\u001b[1;31mValueError\u001b[0m: operands could not be broadcast together with shapes (2,3,5) (5,3,2) "
     ]
    }
   ],
   "source": [
    "#8\n",
    "a + b"
   ]
  },
  {
   "cell_type": "code",
   "execution_count": 10,
   "id": "b84b7f17",
   "metadata": {},
   "outputs": [],
   "source": [
    "#9\n",
    "c = np.transpose(b)"
   ]
  },
  {
   "cell_type": "code",
   "execution_count": 11,
   "id": "6a0423e1",
   "metadata": {},
   "outputs": [],
   "source": [
    "#10\n",
    "d = a + c"
   ]
  },
  {
   "cell_type": "code",
   "execution_count": 12,
   "id": "d1b6609e",
   "metadata": {},
   "outputs": [
    {
     "name": "stdout",
     "output_type": "stream",
     "text": [
      "[[[0.29617398 0.6074968  0.58972636 0.5980548  0.69324493]\n",
      "  [0.63150155 0.13587963 0.6919149  0.03269467 0.14141103]\n",
      "  [0.91108152 0.41407368 0.49974495 0.9350408  0.31023251]]\n",
      "\n",
      " [[0.85499473 0.51474252 0.59887048 0.90810704 0.75233991]\n",
      "  [0.50913223 0.39139519 0.64233344 0.2566372  0.67972043]\n",
      "  [0.84579978 0.77086475 0.94163802 0.67081747 0.24363611]]]\n",
      "[[[1.29617398 1.6074968  1.58972636 1.5980548  1.69324493]\n",
      "  [1.63150155 1.13587963 1.6919149  1.03269467 1.14141103]\n",
      "  [1.91108152 1.41407368 1.49974495 1.9350408  1.31023251]]\n",
      "\n",
      " [[1.85499473 1.51474252 1.59887048 1.90810704 1.75233991]\n",
      "  [1.50913223 1.39139519 1.64233344 1.2566372  1.67972043]\n",
      "  [1.84579978 1.77086475 1.94163802 1.67081747 1.24363611]]]\n"
     ]
    }
   ],
   "source": [
    "#11\n",
    "print(a)\n",
    "print(d)\n",
    "\n",
    "# Los valores de d son a+1"
   ]
  },
  {
   "cell_type": "code",
   "execution_count": 13,
   "id": "cd269975",
   "metadata": {},
   "outputs": [],
   "source": [
    "#12\n",
    "e = a * c"
   ]
  },
  {
   "cell_type": "code",
   "execution_count": 14,
   "id": "ee7d901e",
   "metadata": {},
   "outputs": [
    {
     "data": {
      "text/plain": [
       "array([[[ True,  True,  True,  True,  True],\n",
       "        [ True,  True,  True,  True,  True],\n",
       "        [ True,  True,  True,  True,  True]],\n",
       "\n",
       "       [[ True,  True,  True,  True,  True],\n",
       "        [ True,  True,  True,  True,  True],\n",
       "        [ True,  True,  True,  True,  True]]])"
      ]
     },
     "execution_count": 14,
     "metadata": {},
     "output_type": "execute_result"
    }
   ],
   "source": [
    "#13\n",
    "e == a\n",
    "\n",
    "#Porque está multiplicando los valores por 1, a*1=e"
   ]
  },
  {
   "cell_type": "code",
   "execution_count": 15,
   "id": "621f4fc6",
   "metadata": {},
   "outputs": [
    {
     "name": "stdout",
     "output_type": "stream",
     "text": [
      "1.0326946687620666 1.5689767138889803 1.9416380209945308\n"
     ]
    }
   ],
   "source": [
    "#14\n",
    "d_max = np.max(d)\n",
    "d_min = np.min(d)\n",
    "d_mean = np.mean(d)\n",
    "\n",
    "print(d_min, d_mean, d_max)"
   ]
  },
  {
   "cell_type": "code",
   "execution_count": 16,
   "id": "a7f260e4",
   "metadata": {},
   "outputs": [],
   "source": [
    "#15\n",
    "f = np.empty((2,3,5))"
   ]
  },
  {
   "cell_type": "code",
   "execution_count": 17,
   "id": "ebb19e2b",
   "metadata": {},
   "outputs": [
    {
     "name": "stdout",
     "output_type": "stream",
     "text": [
      "[[[ 25.  75.  75.  75.  75.]\n",
      "  [ 75.  25.  75.   0.  25.]\n",
      "  [ 75.  25.  25.  75.  25.]]\n",
      "\n",
      " [[ 75.  25.  75.  75.  75.]\n",
      "  [ 25.  25.  75.  25.  75.]\n",
      "  [ 75.  75. 100.  75.  25.]]]\n"
     ]
    }
   ],
   "source": [
    "#16\n",
    "\n",
    "shape_d = d.shape\n",
    "\n",
    "for matriz in range(shape_d[0]):\n",
    "    for vector in range(shape_d[1]):\n",
    "        for valor in range(shape_d[2]):\n",
    "            if d[matriz,vector,valor] == d_min:\n",
    "                f[matriz,vector,valor] = 0\n",
    "            elif d[matriz,vector,valor] < d_mean:\n",
    "                f[matriz,vector,valor] = 25\n",
    "            elif d[matriz,vector,valor] == d_mean:\n",
    "                f[matriz,vector,valor] = 50\n",
    "            elif d[matriz,vector,valor] < d_max:\n",
    "                f[matriz,vector,valor] = 75\n",
    "            elif d[matriz,vector,valor] == d_max:\n",
    "                f[matriz,vector,valor] = 100\n",
    "print (f)"
   ]
  },
  {
   "cell_type": "code",
   "execution_count": 18,
   "id": "838b61ee",
   "metadata": {},
   "outputs": [
    {
     "name": "stdout",
     "output_type": "stream",
     "text": [
      "[[[1.29617398 1.6074968  1.58972636 1.5980548  1.69324493]\n",
      "  [1.63150155 1.13587963 1.6919149  1.03269467 1.14141103]\n",
      "  [1.91108152 1.41407368 1.49974495 1.9350408  1.31023251]]\n",
      "\n",
      " [[1.85499473 1.51474252 1.59887048 1.90810704 1.75233991]\n",
      "  [1.50913223 1.39139519 1.64233344 1.2566372  1.67972043]\n",
      "  [1.84579978 1.77086475 1.94163802 1.67081747 1.24363611]]]\n",
      "[[[ 25.  75.  75.  75.  75.]\n",
      "  [ 75.  25.  75.   0.  25.]\n",
      "  [ 75.  25.  25.  75.  25.]]\n",
      "\n",
      " [[ 75.  25.  75.  75.  75.]\n",
      "  [ 25.  25.  75.  25.  75.]\n",
      "  [ 75.  75. 100.  75.  25.]]]\n"
     ]
    }
   ],
   "source": [
    "#17\n",
    "\n",
    "print(d)\n",
    "print(f)"
   ]
  },
  {
   "cell_type": "code",
   "execution_count": 20,
   "id": "3606c551",
   "metadata": {},
   "outputs": [
    {
     "name": "stdout",
     "output_type": "stream",
     "text": [
      "[[[b'' b'' b'' b'' b'']\n",
      "  [b'' b'' b'' b'\\xa0' b'V']\n",
      "  [b'\\xf4' b'\\x0e' b'\\xc5' b'\\x01' b'']]\n",
      "\n",
      " [[b'' b'\\xa0' b'T' b'\\xf4' b'\\x0e']\n",
      "  [b'\\xc5' b'\\x01' b'' b'' b'\\xe0']\n",
      "  [b'U' b'\\xf4' b'\\x0e' b'\\xc5' b'\\x01']]]\n",
      "[[[b'B' b'D' b'D' b'D' b'D']\n",
      "  [b'D' b'B' b'D' b'A' b'B']\n",
      "  [b'D' b'B' b'B' b'D' b'B']]\n",
      "\n",
      " [[b'D' b'B' b'D' b'D' b'D']\n",
      "  [b'B' b'B' b'D' b'B' b'D']\n",
      "  [b'D' b'D' b'E' b'D' b'B']]]\n"
     ]
    }
   ],
   "source": [
    "g = np.empty((2,3,5), dtype='S')\n",
    "print(g)\n",
    "\n",
    "for matriz in range(shape_d[0]):\n",
    "    for vector in range(shape_d[1]):\n",
    "        for valor in range(shape_d[2]):\n",
    "            if d[matriz,vector,valor] == d_min:\n",
    "                g[matriz,vector,valor] = 'A'\n",
    "            elif d[matriz,vector,valor] < d_mean:\n",
    "                g[matriz,vector,valor] = 'B'\n",
    "            elif d[matriz,vector,valor] == d_mean:\n",
    "                g[matriz,vector,valor] = 'C'\n",
    "            elif d[matriz,vector,valor] < d_max:\n",
    "                g[matriz,vector,valor] = 'D'\n",
    "            elif d[matriz,vector,valor] == d_max:\n",
    "                g[matriz,vector,valor] = 'E'\n",
    "print (g)"
   ]
  },
  {
   "cell_type": "code",
   "execution_count": null,
   "id": "b21aad66",
   "metadata": {},
   "outputs": [],
   "source": []
  }
 ],
 "metadata": {
  "kernelspec": {
   "display_name": "Python 3 (ipykernel)",
   "language": "python",
   "name": "python3"
  },
  "language_info": {
   "codemirror_mode": {
    "name": "ipython",
    "version": 3
   },
   "file_extension": ".py",
   "mimetype": "text/x-python",
   "name": "python",
   "nbconvert_exporter": "python",
   "pygments_lexer": "ipython3",
   "version": "3.10.3"
  }
 },
 "nbformat": 4,
 "nbformat_minor": 5
}
