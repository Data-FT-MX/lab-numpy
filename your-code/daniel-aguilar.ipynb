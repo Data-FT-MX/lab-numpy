{
 "cells": [
  {
   "cell_type": "code",
   "execution_count": 3,
   "id": "799097d2",
   "metadata": {},
   "outputs": [],
   "source": [
    "import numpy as np"
   ]
  },
  {
   "cell_type": "code",
   "execution_count": 4,
   "id": "de41095e",
   "metadata": {},
   "outputs": [
    {
     "data": {
      "text/plain": [
       "'1.22.3'"
      ]
     },
     "execution_count": 4,
     "metadata": {},
     "output_type": "execute_result"
    }
   ],
   "source": [
    "np.__version__"
   ]
  },
  {
   "cell_type": "code",
   "execution_count": 5,
   "id": "9b912372",
   "metadata": {},
   "outputs": [
    {
     "name": "stdout",
     "output_type": "stream",
     "text": [
      "openblas64__info:\n",
      "    library_dirs = ['D:\\\\a\\\\1\\\\s\\\\numpy\\\\build\\\\openblas64__info']\n",
      "    libraries = ['openblas64__info']\n",
      "    language = f77\n",
      "    define_macros = [('HAVE_CBLAS', None), ('BLAS_SYMBOL_SUFFIX', '64_'), ('HAVE_BLAS_ILP64', None)]\n",
      "blas_ilp64_opt_info:\n",
      "    library_dirs = ['D:\\\\a\\\\1\\\\s\\\\numpy\\\\build\\\\openblas64__info']\n",
      "    libraries = ['openblas64__info']\n",
      "    language = f77\n",
      "    define_macros = [('HAVE_CBLAS', None), ('BLAS_SYMBOL_SUFFIX', '64_'), ('HAVE_BLAS_ILP64', None)]\n",
      "openblas64__lapack_info:\n",
      "    library_dirs = ['D:\\\\a\\\\1\\\\s\\\\numpy\\\\build\\\\openblas64__lapack_info']\n",
      "    libraries = ['openblas64__lapack_info']\n",
      "    language = f77\n",
      "    define_macros = [('HAVE_CBLAS', None), ('BLAS_SYMBOL_SUFFIX', '64_'), ('HAVE_BLAS_ILP64', None), ('HAVE_LAPACKE', None)]\n",
      "lapack_ilp64_opt_info:\n",
      "    library_dirs = ['D:\\\\a\\\\1\\\\s\\\\numpy\\\\build\\\\openblas64__lapack_info']\n",
      "    libraries = ['openblas64__lapack_info']\n",
      "    language = f77\n",
      "    define_macros = [('HAVE_CBLAS', None), ('BLAS_SYMBOL_SUFFIX', '64_'), ('HAVE_BLAS_ILP64', None), ('HAVE_LAPACKE', None)]\n",
      "Supported SIMD extensions in this NumPy install:\n",
      "    baseline = SSE,SSE2,SSE3\n",
      "    found = SSSE3,SSE41,POPCNT,SSE42,AVX,F16C,FMA3,AVX2\n",
      "    not found = AVX512F,AVX512CD,AVX512_SKX,AVX512_CLX,AVX512_CNL\n"
     ]
    }
   ],
   "source": [
    "np.show_config()"
   ]
  },
  {
   "cell_type": "code",
   "execution_count": 6,
   "id": "0446e6f8",
   "metadata": {},
   "outputs": [
    {
     "name": "stdout",
     "output_type": "stream",
     "text": [
      "[[[0.38082274 0.46546576 0.76503336 0.1171072  0.67377173]\n",
      "  [0.76374812 0.28829055 0.88128448 0.23490648 0.86973389]\n",
      "  [0.59203327 0.1723532  0.76236199 0.12615355 0.29098819]]\n",
      "\n",
      " [[0.95746267 0.89894425 0.43502967 0.82291602 0.92208747]\n",
      "  [0.76127909 0.57261203 0.74085363 0.02222116 0.42054373]\n",
      "  [0.27331586 0.38397395 0.95491801 0.4136418  0.12679316]]]\n"
     ]
    }
   ],
   "source": [
    "a=np.random.random((2,3,5))\n",
    "print(a)"
   ]
  },
  {
   "cell_type": "code",
   "execution_count": 7,
   "id": "57b25174",
   "metadata": {},
   "outputs": [
    {
     "name": "stdout",
     "output_type": "stream",
     "text": [
      "[[[1. 1.]\n",
      "  [1. 1.]\n",
      "  [1. 1.]]\n",
      "\n",
      " [[1. 1.]\n",
      "  [1. 1.]\n",
      "  [1. 1.]]\n",
      "\n",
      " [[1. 1.]\n",
      "  [1. 1.]\n",
      "  [1. 1.]]\n",
      "\n",
      " [[1. 1.]\n",
      "  [1. 1.]\n",
      "  [1. 1.]]\n",
      "\n",
      " [[1. 1.]\n",
      "  [1. 1.]\n",
      "  [1. 1.]]]\n"
     ]
    }
   ],
   "source": [
    "b=np.ones((5,3,2))\n",
    "print(b)"
   ]
  },
  {
   "cell_type": "code",
   "execution_count": 8,
   "id": "42f8e325",
   "metadata": {},
   "outputs": [
    {
     "data": {
      "text/plain": [
       "30"
      ]
     },
     "execution_count": 8,
     "metadata": {},
     "output_type": "execute_result"
    }
   ],
   "source": [
    "np.size(a)"
   ]
  },
  {
   "cell_type": "code",
   "execution_count": 9,
   "id": "76c6fda6",
   "metadata": {},
   "outputs": [
    {
     "data": {
      "text/plain": [
       "30"
      ]
     },
     "execution_count": 9,
     "metadata": {},
     "output_type": "execute_result"
    }
   ],
   "source": [
    "np.size(b)"
   ]
  },
  {
   "cell_type": "code",
   "execution_count": 10,
   "id": "cbf520f7",
   "metadata": {},
   "outputs": [
    {
     "name": "stdout",
     "output_type": "stream",
     "text": [
      "Same size\n"
     ]
    }
   ],
   "source": [
    "if np.size(a) == np.size(b):\n",
    "    print(\"Same size\")\n",
    "else:\n",
    "    print(\"Not same size\")"
   ]
  },
  {
   "cell_type": "code",
   "execution_count": 11,
   "id": "7157f337",
   "metadata": {},
   "outputs": [
    {
     "ename": "ValueError",
     "evalue": "operands could not be broadcast together with shapes (2,3,5) (5,3,2) ",
     "output_type": "error",
     "traceback": [
      "\u001b[1;31m---------------------------------------------------------------------------\u001b[0m",
      "\u001b[1;31mValueError\u001b[0m                                Traceback (most recent call last)",
      "Input \u001b[1;32mIn [11]\u001b[0m, in \u001b[0;36m<cell line: 1>\u001b[1;34m()\u001b[0m\n\u001b[1;32m----> 1\u001b[0m c\u001b[38;5;241m=\u001b[39m \u001b[43ma\u001b[49m\u001b[43m \u001b[49m\u001b[38;5;241;43m+\u001b[39;49m\u001b[43m \u001b[49m\u001b[43mb\u001b[49m\n",
      "\u001b[1;31mValueError\u001b[0m: operands could not be broadcast together with shapes (2,3,5) (5,3,2) "
     ]
    }
   ],
   "source": [
    "c= a + b"
   ]
  },
  {
   "cell_type": "code",
   "execution_count": 12,
   "id": "a7129c2b",
   "metadata": {},
   "outputs": [
    {
     "name": "stdout",
     "output_type": "stream",
     "text": [
      "[[[1. 1. 1. 1. 1.]\n",
      "  [1. 1. 1. 1. 1.]\n",
      "  [1. 1. 1. 1. 1.]]\n",
      "\n",
      " [[1. 1. 1. 1. 1.]\n",
      "  [1. 1. 1. 1. 1.]\n",
      "  [1. 1. 1. 1. 1.]]]\n"
     ]
    }
   ],
   "source": [
    "c= np.transpose(b)\n",
    "print(c)"
   ]
  },
  {
   "cell_type": "code",
   "execution_count": 13,
   "id": "bbc6080b",
   "metadata": {},
   "outputs": [
    {
     "name": "stdout",
     "output_type": "stream",
     "text": [
      "[[[1.38082274 1.46546576 1.76503336 1.1171072  1.67377173]\n",
      "  [1.76374812 1.28829055 1.88128448 1.23490648 1.86973389]\n",
      "  [1.59203327 1.1723532  1.76236199 1.12615355 1.29098819]]\n",
      "\n",
      " [[1.95746267 1.89894425 1.43502967 1.82291602 1.92208747]\n",
      "  [1.76127909 1.57261203 1.74085363 1.02222116 1.42054373]\n",
      "  [1.27331586 1.38397395 1.95491801 1.4136418  1.12679316]]]\n"
     ]
    }
   ],
   "source": [
    "d= a + c\n",
    "print(d)"
   ]
  },
  {
   "cell_type": "code",
   "execution_count": 14,
   "id": "43d74976",
   "metadata": {},
   "outputs": [
    {
     "name": "stdout",
     "output_type": "stream",
     "text": [
      "[[[0.38082274 0.46546576 0.76503336 0.1171072  0.67377173]\n",
      "  [0.76374812 0.28829055 0.88128448 0.23490648 0.86973389]\n",
      "  [0.59203327 0.1723532  0.76236199 0.12615355 0.29098819]]\n",
      "\n",
      " [[0.95746267 0.89894425 0.43502967 0.82291602 0.92208747]\n",
      "  [0.76127909 0.57261203 0.74085363 0.02222116 0.42054373]\n",
      "  [0.27331586 0.38397395 0.95491801 0.4136418  0.12679316]]]\n",
      "--------------------------------------------------------------------\n",
      "[[[1.38082274 1.46546576 1.76503336 1.1171072  1.67377173]\n",
      "  [1.76374812 1.28829055 1.88128448 1.23490648 1.86973389]\n",
      "  [1.59203327 1.1723532  1.76236199 1.12615355 1.29098819]]\n",
      "\n",
      " [[1.95746267 1.89894425 1.43502967 1.82291602 1.92208747]\n",
      "  [1.76127909 1.57261203 1.74085363 1.02222116 1.42054373]\n",
      "  [1.27331586 1.38397395 1.95491801 1.4136418  1.12679316]]]\n"
     ]
    },
    {
     "data": {
      "text/plain": [
       "1.380822736160025"
      ]
     },
     "execution_count": 14,
     "metadata": {},
     "output_type": "execute_result"
    }
   ],
   "source": [
    "print(a)\n",
    "print(\"-----------------\"*4)\n",
    "print(d)\n",
    "\n",
    "d[0,0,0]"
   ]
  },
  {
   "cell_type": "code",
   "execution_count": 15,
   "id": "3e7882d8",
   "metadata": {},
   "outputs": [
    {
     "name": "stdout",
     "output_type": "stream",
     "text": [
      "[[[0.38082274 0.46546576 0.76503336 0.1171072  0.67377173]\n",
      "  [0.76374812 0.28829055 0.88128448 0.23490648 0.86973389]\n",
      "  [0.59203327 0.1723532  0.76236199 0.12615355 0.29098819]]\n",
      "\n",
      " [[0.95746267 0.89894425 0.43502967 0.82291602 0.92208747]\n",
      "  [0.76127909 0.57261203 0.74085363 0.02222116 0.42054373]\n",
      "  [0.27331586 0.38397395 0.95491801 0.4136418  0.12679316]]]\n",
      "0.12679316436991617\n"
     ]
    }
   ],
   "source": [
    "e=a*c\n",
    "print(e)\n",
    "print(e[1,2,4])"
   ]
  },
  {
   "cell_type": "code",
   "execution_count": 16,
   "id": "0890a66e",
   "metadata": {},
   "outputs": [
    {
     "name": "stdout",
     "output_type": "stream",
     "text": [
      "1.957462673129045 1.022221156262499 1.5363548998783576\n"
     ]
    }
   ],
   "source": [
    "d_max=np.max(d)\n",
    "d_min=np.min(d)\n",
    "d_mean=np.mean(d)\n",
    "print(d_max,d_min,d_mean)"
   ]
  },
  {
   "cell_type": "code",
   "execution_count": 17,
   "id": "79b650f9",
   "metadata": {},
   "outputs": [
    {
     "name": "stdout",
     "output_type": "stream",
     "text": [
      "2\n"
     ]
    }
   ],
   "source": [
    "f=np.empty((2,3,5))\n",
    "print(len(d))\n",
    "shape_d=d.shape\n",
    "\n"
   ]
  },
  {
   "cell_type": "code",
   "execution_count": 30,
   "id": "c90ce018",
   "metadata": {},
   "outputs": [
    {
     "name": "stdout",
     "output_type": "stream",
     "text": [
      "[[[ 25.  25.  75.  25.  75.]\n",
      "  [ 75.  25.  75.  25.  75.]\n",
      "  [ 75.  25.  75.  25.  25.]]\n",
      "\n",
      " [[100.  75.  25.  75.  75.]\n",
      "  [ 75.  75.  75.   0.  25.]\n",
      "  [ 25.  25.  75.  25.  25.]]]\n",
      "<class 'numpy.float64'>\n"
     ]
    }
   ],
   "source": [
    "for matriz in range(shape_d[0]):\n",
    "    for vector in range(shape_d[1]):\n",
    "        for valor in range(shape_d[2]):\n",
    "            if d[matriz,vector,valor] == d_min:\n",
    "                f[matriz,vector,valor] = 0\n",
    "            elif d[matriz,vector,valor] < d_mean:\n",
    "                f[matriz,vector,valor] = 25\n",
    "            elif d[matriz,vector,valor] == d_mean:\n",
    "                f[matriz,vector,valor] = 50\n",
    "            elif d[matriz,vector,valor] < d_max:\n",
    "                f[matriz,vector,valor] = 75\n",
    "            elif d[matriz,vector,valor] == d_max:\n",
    "                f[matriz,vector,valor] = 100\n",
    "print (f)\n",
    "\n",
    "print(type(f[0,0,0]))"
   ]
  },
  {
   "cell_type": "code",
   "execution_count": 19,
   "id": "79764905",
   "metadata": {},
   "outputs": [
    {
     "name": "stdout",
     "output_type": "stream",
     "text": [
      "[[[1.38082274 1.46546576 1.76503336 1.1171072  1.67377173]\n",
      "  [1.76374812 1.28829055 1.88128448 1.23490648 1.86973389]\n",
      "  [1.59203327 1.1723532  1.76236199 1.12615355 1.29098819]]\n",
      "\n",
      " [[1.95746267 1.89894425 1.43502967 1.82291602 1.92208747]\n",
      "  [1.76127909 1.57261203 1.74085363 1.02222116 1.42054373]\n",
      "  [1.27331586 1.38397395 1.95491801 1.4136418  1.12679316]]]\n",
      "-----------------------------------------------------------------\n",
      "[[[ 25.  25.  75.  25.  75.]\n",
      "  [ 75.  25.  75.  25.  75.]\n",
      "  [ 75.  25.  75.  25.  25.]]\n",
      "\n",
      " [[100.  75.  25.  75.  75.]\n",
      "  [ 75.  75.  75.   0.  25.]\n",
      "  [ 25.  25.  75.  25.  25.]]]\n"
     ]
    }
   ],
   "source": [
    "print(d)\n",
    "print(\"-----------------------------------------------------------------\")\n",
    "print(f)"
   ]
  },
  {
   "cell_type": "code",
   "execution_count": null,
   "id": "e53534a6",
   "metadata": {},
   "outputs": [],
   "source": []
  }
 ],
 "metadata": {
  "kernelspec": {
   "display_name": "Python 3 (ipykernel)",
   "language": "python",
   "name": "python3"
  },
  "language_info": {
   "codemirror_mode": {
    "name": "ipython",
    "version": 3
   },
   "file_extension": ".py",
   "mimetype": "text/x-python",
   "name": "python",
   "nbconvert_exporter": "python",
   "pygments_lexer": "ipython3",
   "version": "3.10.3"
  }
 },
 "nbformat": 4,
 "nbformat_minor": 5
}
