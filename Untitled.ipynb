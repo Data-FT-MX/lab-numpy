{
 "cells": [
  {
   "cell_type": "code",
   "execution_count": 1,
   "id": "e368dabb",
   "metadata": {},
   "outputs": [],
   "source": [
    "import numpy as np\n"
   ]
  },
  {
   "cell_type": "code",
   "execution_count": 2,
   "id": "04499b1b",
   "metadata": {},
   "outputs": [
    {
     "data": {
      "text/plain": [
       "'1.22.3'"
      ]
     },
     "execution_count": 2,
     "metadata": {},
     "output_type": "execute_result"
    }
   ],
   "source": [
    "np.__version__"
   ]
  },
  {
   "cell_type": "code",
   "execution_count": 42,
   "id": "78a59a6c",
   "metadata": {},
   "outputs": [],
   "source": [
    "a= np.random.randint(100, size=(2,3,5))"
   ]
  },
  {
   "cell_type": "code",
   "execution_count": 43,
   "id": "b9e6706e",
   "metadata": {},
   "outputs": [
    {
     "data": {
      "text/plain": [
       "array([[[ 5, 65, 18, 48, 31],\n",
       "        [19,  4, 59,  2, 15],\n",
       "        [70, 29, 90, 13, 82]],\n",
       "\n",
       "       [[27, 29,  0, 39, 89],\n",
       "        [20, 27, 71, 70, 13],\n",
       "        [95, 48, 24, 86, 11]]])"
      ]
     },
     "execution_count": 43,
     "metadata": {},
     "output_type": "execute_result"
    }
   ],
   "source": [
    "a"
   ]
  },
  {
   "cell_type": "code",
   "execution_count": 16,
   "id": "7b2ba031",
   "metadata": {},
   "outputs": [],
   "source": [
    "b=np.random.random((2,3,5))"
   ]
  },
  {
   "cell_type": "code",
   "execution_count": 17,
   "id": "9cdfa35f",
   "metadata": {},
   "outputs": [
    {
     "data": {
      "text/plain": [
       "array([[[0.12638169, 0.48563015, 0.67662042, 0.83839211, 0.71663407],\n",
       "        [0.51888694, 0.57168311, 0.14425233, 0.39031721, 0.39421508],\n",
       "        [0.24208856, 0.41588631, 0.22598603, 0.99316167, 0.14003554]],\n",
       "\n",
       "       [[0.45971034, 0.10946144, 0.22151671, 0.69773275, 0.15421452],\n",
       "        [0.57511211, 0.03596985, 0.30395373, 0.44127977, 0.65093515],\n",
       "        [0.7207255 , 0.62565736, 0.21668746, 0.82948316, 0.86738455]]])"
      ]
     },
     "execution_count": 17,
     "metadata": {},
     "output_type": "execute_result"
    }
   ],
   "source": [
    "b"
   ]
  },
  {
   "cell_type": "code",
   "execution_count": 31,
   "id": "7e6ead88",
   "metadata": {},
   "outputs": [],
   "source": [
    "import random\n",
    "c= np.linspace(1, random.randint(2,100), num=30).reshape((2,3,5))"
   ]
  },
  {
   "cell_type": "code",
   "execution_count": 32,
   "id": "ec086fde",
   "metadata": {},
   "outputs": [
    {
     "data": {
      "text/plain": [
       "array([[[ 1.        ,  3.37931034,  5.75862069,  8.13793103,\n",
       "         10.51724138],\n",
       "        [12.89655172, 15.27586207, 17.65517241, 20.03448276,\n",
       "         22.4137931 ],\n",
       "        [24.79310345, 27.17241379, 29.55172414, 31.93103448,\n",
       "         34.31034483]],\n",
       "\n",
       "       [[36.68965517, 39.06896552, 41.44827586, 43.82758621,\n",
       "         46.20689655],\n",
       "        [48.5862069 , 50.96551724, 53.34482759, 55.72413793,\n",
       "         58.10344828],\n",
       "        [60.48275862, 62.86206897, 65.24137931, 67.62068966,\n",
       "         70.        ]]])"
      ]
     },
     "execution_count": 32,
     "metadata": {},
     "output_type": "execute_result"
    }
   ],
   "source": [
    "c"
   ]
  },
  {
   "cell_type": "code",
   "execution_count": 47,
   "id": "a62a9718",
   "metadata": {},
   "outputs": [],
   "source": [
    "b=np.ones((5,2,3))"
   ]
  },
  {
   "cell_type": "code",
   "execution_count": 48,
   "id": "f90ce527",
   "metadata": {},
   "outputs": [
    {
     "data": {
      "text/plain": [
       "array([[[1., 1., 1.],\n",
       "        [1., 1., 1.]],\n",
       "\n",
       "       [[1., 1., 1.],\n",
       "        [1., 1., 1.]],\n",
       "\n",
       "       [[1., 1., 1.],\n",
       "        [1., 1., 1.]],\n",
       "\n",
       "       [[1., 1., 1.],\n",
       "        [1., 1., 1.]],\n",
       "\n",
       "       [[1., 1., 1.],\n",
       "        [1., 1., 1.]]])"
      ]
     },
     "execution_count": 48,
     "metadata": {},
     "output_type": "execute_result"
    }
   ],
   "source": [
    "b"
   ]
  },
  {
   "cell_type": "code",
   "execution_count": 49,
   "id": "56b6c9cc",
   "metadata": {},
   "outputs": [
    {
     "name": "stdout",
     "output_type": "stream",
     "text": [
      "True\n"
     ]
    }
   ],
   "source": [
    "print(a.size==b.size)\n"
   ]
  },
  {
   "cell_type": "code",
   "execution_count": 50,
   "id": "b2a2e2df",
   "metadata": {},
   "outputs": [
    {
     "ename": "ValueError",
     "evalue": "operands could not be broadcast together with shapes (2,3,5) (5,2,3) ",
     "output_type": "error",
     "traceback": [
      "\u001b[1;31m---------------------------------------------------------------------------\u001b[0m",
      "\u001b[1;31mValueError\u001b[0m                                Traceback (most recent call last)",
      "Input \u001b[1;32mIn [50]\u001b[0m, in \u001b[0;36m<cell line: 1>\u001b[1;34m()\u001b[0m\n\u001b[1;32m----> 1\u001b[0m \u001b[43ma\u001b[49m\u001b[38;5;241;43m+\u001b[39;49m\u001b[43mb\u001b[49m\n",
      "\u001b[1;31mValueError\u001b[0m: operands could not be broadcast together with shapes (2,3,5) (5,2,3) "
     ]
    }
   ],
   "source": [
    "No se pueden sumar por que no tienen el mismo tamaño. "
   ]
  },
  {
   "cell_type": "code",
   "execution_count": 52,
   "id": "066f8d54",
   "metadata": {},
   "outputs": [
    {
     "data": {
      "text/plain": [
       "array([[[1., 1., 1., 1., 1.],\n",
       "        [1., 1., 1., 1., 1.]],\n",
       "\n",
       "       [[1., 1., 1., 1., 1.],\n",
       "        [1., 1., 1., 1., 1.]],\n",
       "\n",
       "       [[1., 1., 1., 1., 1.],\n",
       "        [1., 1., 1., 1., 1.]]])"
      ]
     },
     "execution_count": 52,
     "metadata": {},
     "output_type": "execute_result"
    }
   ],
   "source": [
    "c=b.T"
   ]
  },
  {
   "cell_type": "code",
   "execution_count": 53,
   "id": "6a4ce08d",
   "metadata": {},
   "outputs": [
    {
     "data": {
      "text/plain": [
       "array([[[ 1.        ,  3.37931034,  5.75862069,  8.13793103,\n",
       "         10.51724138],\n",
       "        [12.89655172, 15.27586207, 17.65517241, 20.03448276,\n",
       "         22.4137931 ],\n",
       "        [24.79310345, 27.17241379, 29.55172414, 31.93103448,\n",
       "         34.31034483]],\n",
       "\n",
       "       [[36.68965517, 39.06896552, 41.44827586, 43.82758621,\n",
       "         46.20689655],\n",
       "        [48.5862069 , 50.96551724, 53.34482759, 55.72413793,\n",
       "         58.10344828],\n",
       "        [60.48275862, 62.86206897, 65.24137931, 67.62068966,\n",
       "         70.        ]]])"
      ]
     },
     "execution_count": 53,
     "metadata": {},
     "output_type": "execute_result"
    }
   ],
   "source": [
    "c.reshape((2,3,5))"
   ]
  },
  {
   "cell_type": "code",
   "execution_count": 140,
   "id": "b1877f71",
   "metadata": {},
   "outputs": [],
   "source": [
    "d=a+c"
   ]
  },
  {
   "cell_type": "code",
   "execution_count": 141,
   "id": "7f2b72b3",
   "metadata": {},
   "outputs": [
    {
     "data": {
      "text/plain": [
       "array([[[  6.        ,  68.37931034,  23.75862069,  56.13793103,\n",
       "          41.51724138],\n",
       "        [ 31.89655172,  19.27586207,  76.65517241,  22.03448276,\n",
       "          37.4137931 ],\n",
       "        [ 94.79310345,  56.17241379, 119.55172414,  44.93103448,\n",
       "         116.31034483]],\n",
       "\n",
       "       [[ 63.68965517,  68.06896552,  41.44827586,  82.82758621,\n",
       "         135.20689655],\n",
       "        [ 68.5862069 ,  77.96551724, 124.34482759, 125.72413793,\n",
       "          71.10344828],\n",
       "        [155.48275862, 110.86206897,  89.24137931, 153.62068966,\n",
       "          81.        ]]])"
      ]
     },
     "execution_count": 141,
     "metadata": {},
     "output_type": "execute_result"
    }
   ],
   "source": [
    "d"
   ]
  },
  {
   "cell_type": "code",
   "execution_count": 56,
   "id": "54f670eb",
   "metadata": {},
   "outputs": [
    {
     "name": "stdout",
     "output_type": "stream",
     "text": [
      "[[[ 5 65 18 48 31]\n",
      "  [19  4 59  2 15]\n",
      "  [70 29 90 13 82]]\n",
      "\n",
      " [[27 29  0 39 89]\n",
      "  [20 27 71 70 13]\n",
      "  [95 48 24 86 11]]]\n",
      "[[[  6.          68.37931034  23.75862069  56.13793103  41.51724138]\n",
      "  [ 31.89655172  19.27586207  76.65517241  22.03448276  37.4137931 ]\n",
      "  [ 94.79310345  56.17241379 119.55172414  44.93103448 116.31034483]]\n",
      "\n",
      " [[ 63.68965517  68.06896552  41.44827586  82.82758621 135.20689655]\n",
      "  [ 68.5862069   77.96551724 124.34482759 125.72413793  71.10344828]\n",
      "  [155.48275862 110.86206897  89.24137931 153.62068966  81.        ]]]\n"
     ]
    }
   ],
   "source": [
    "print(a)\n",
    "print(d)"
   ]
  },
  {
   "cell_type": "code",
   "execution_count": 57,
   "id": "d8b12268",
   "metadata": {},
   "outputs": [],
   "source": [
    "e=a*c"
   ]
  },
  {
   "cell_type": "code",
   "execution_count": 58,
   "id": "141c6201",
   "metadata": {},
   "outputs": [
    {
     "data": {
      "text/plain": [
       "array([[[5.00000000e+00, 2.19655172e+02, 1.03655172e+02, 3.90620690e+02,\n",
       "         3.26034483e+02],\n",
       "        [2.45034483e+02, 6.11034483e+01, 1.04165517e+03, 4.00689655e+01,\n",
       "         3.36206897e+02],\n",
       "        [1.73551724e+03, 7.88000000e+02, 2.65965517e+03, 4.15103448e+02,\n",
       "         2.81344828e+03]],\n",
       "\n",
       "       [[9.90620690e+02, 1.13300000e+03, 0.00000000e+00, 1.70927586e+03,\n",
       "         4.11241379e+03],\n",
       "        [9.71724138e+02, 1.37606897e+03, 3.78748276e+03, 3.90068966e+03,\n",
       "         7.55344828e+02],\n",
       "        [5.74586207e+03, 3.01737931e+03, 1.56579310e+03, 5.81537931e+03,\n",
       "         7.70000000e+02]]])"
      ]
     },
     "execution_count": 58,
     "metadata": {},
     "output_type": "execute_result"
    }
   ],
   "source": [
    "e"
   ]
  },
  {
   "cell_type": "code",
   "execution_count": 59,
   "id": "fffe3f68",
   "metadata": {},
   "outputs": [
    {
     "data": {
      "text/plain": [
       "array([[[ True, False, False, False, False],\n",
       "        [False, False, False, False, False],\n",
       "        [False, False, False, False, False]],\n",
       "\n",
       "       [[False, False,  True, False, False],\n",
       "        [False, False, False, False, False],\n",
       "        [False, False, False, False, False]]])"
      ]
     },
     "execution_count": 59,
     "metadata": {},
     "output_type": "execute_result"
    }
   ],
   "source": [
    "e==a"
   ]
  },
  {
   "cell_type": "code",
   "execution_count": 66,
   "id": "ce97a702",
   "metadata": {},
   "outputs": [],
   "source": [
    "d_max=d.max()"
   ]
  },
  {
   "cell_type": "code",
   "execution_count": 61,
   "id": "85e95576",
   "metadata": {},
   "outputs": [
    {
     "data": {
      "text/plain": [
       "<function ndarray.min>"
      ]
     },
     "execution_count": 61,
     "metadata": {},
     "output_type": "execute_result"
    }
   ],
   "source": [
    "d.min"
   ]
  },
  {
   "cell_type": "code",
   "execution_count": 67,
   "id": "e5494e52",
   "metadata": {},
   "outputs": [],
   "source": [
    "d_min=d.min()"
   ]
  },
  {
   "cell_type": "code",
   "execution_count": 68,
   "id": "8ecba058",
   "metadata": {},
   "outputs": [],
   "source": [
    "d_mean=d.mean()"
   ]
  },
  {
   "cell_type": "code",
   "execution_count": 119,
   "id": "d25ca3fb",
   "metadata": {},
   "outputs": [],
   "source": [
    "f=np.empty((2,3,5))"
   ]
  },
  {
   "cell_type": "code",
   "execution_count": 136,
   "id": "604a64c3",
   "metadata": {},
   "outputs": [
    {
     "data": {
      "text/plain": [
       "array([[[  0,  25,  25,  25,  25],\n",
       "        [ 25,  25,  75,  25,  25],\n",
       "        [ 75,  25,  75,  25,  75]],\n",
       "\n",
       "       [[ 25,  25,  25,  75,  75],\n",
       "        [ 25,  75,  75,  75,  25],\n",
       "        [100,  75,  75,  75,  75]]])"
      ]
     },
     "execution_count": 136,
     "metadata": {},
     "output_type": "execute_result"
    }
   ],
   "source": [
    "f= np.where(d==d_min, 0, np.where(d == d_max, 100, \n",
    "  np.where(d == d_mean, 50,\n",
    "  np.where((d_min < d) & (d<d_mean), 25, \n",
    "  np.where((d_mean < d) & (d<d_max), 75, 1000)))))\n",
    "f"
   ]
  },
  {
   "cell_type": "code",
   "execution_count": 132,
   "id": "221836df",
   "metadata": {},
   "outputs": [
    {
     "data": {
      "text/plain": [
       "array([[[  0,  25,  25,  25,  25],\n",
       "        [ 25,  25,  75,  25,  25],\n",
       "        [ 75,  25,  75,  25,  75]],\n",
       "\n",
       "       [[ 25,  25,  25,  75,  75],\n",
       "        [ 25,  75,  75,  75,  25],\n",
       "        [100,  75,  75,  75,  75]]])"
      ]
     },
     "execution_count": 132,
     "metadata": {},
     "output_type": "execute_result"
    }
   ],
   "source": [
    "np.where(d == d_min,0, \n",
    "np.where(d == d_max,100, \n",
    "np.where(d == d_mean,50, \n",
    "np.where((d > d_min) & (d < d_mean),25,\n",
    "np.where((d > d_mean) & (d < d_max),75, 1000)))))\n"
   ]
  },
  {
   "cell_type": "code",
   "execution_count": 137,
   "id": "56193cba",
   "metadata": {},
   "outputs": [
    {
     "name": "stdout",
     "output_type": "stream",
     "text": [
      "[[[  0  25  25  25  25]\n",
      "  [ 25  25  75  25  25]\n",
      "  [ 75  25  75  25  75]]\n",
      "\n",
      " [[ 25  25  25  75  75]\n",
      "  [ 25  75  75  75  25]\n",
      "  [100  75  75  75  75]]]\n"
     ]
    }
   ],
   "source": [
    "print(f)\n"
   ]
  },
  {
   "cell_type": "code",
   "execution_count": 142,
   "id": "03ed925b",
   "metadata": {},
   "outputs": [
    {
     "name": "stdout",
     "output_type": "stream",
     "text": [
      "[[[  0  25  25  25  25]\n",
      "  [ 25  25  75  25  25]\n",
      "  [ 75  25  75  25  75]]\n",
      "\n",
      " [[ 25  25  25  75  75]\n",
      "  [ 25  75  75  75  25]\n",
      "  [100  75  75  75  75]]]\n",
      "[[[  6.          68.37931034  23.75862069  56.13793103  41.51724138]\n",
      "  [ 31.89655172  19.27586207  76.65517241  22.03448276  37.4137931 ]\n",
      "  [ 94.79310345  56.17241379 119.55172414  44.93103448 116.31034483]]\n",
      "\n",
      " [[ 63.68965517  68.06896552  41.44827586  82.82758621 135.20689655]\n",
      "  [ 68.5862069   77.96551724 124.34482759 125.72413793  71.10344828]\n",
      "  [155.48275862 110.86206897  89.24137931 153.62068966  81.        ]]]\n"
     ]
    }
   ],
   "source": [
    "print(f)\n",
    "print(d)"
   ]
  },
  {
   "cell_type": "code",
   "execution_count": 144,
   "id": "894ab53c",
   "metadata": {},
   "outputs": [
    {
     "data": {
      "text/plain": [
       "array([[['A', 'B', 'B', 'B', 'B'],\n",
       "        ['B', 'B', 'D', 'B', 'B'],\n",
       "        ['D', 'B', 'D', 'B', 'D']],\n",
       "\n",
       "       [['B', 'B', 'B', 'D', 'D'],\n",
       "        ['B', 'D', 'D', 'D', 'B'],\n",
       "        ['E', 'D', 'D', 'D', 'D']]], dtype='<U11')"
      ]
     },
     "execution_count": 144,
     "metadata": {},
     "output_type": "execute_result"
    }
   ],
   "source": [
    "#18. Bonus question: instead of using numbers (i.e. 0, 25, 50, 75, and 100), how to use string values \n",
    "#(\"A\", \"B\", \"C\", \"D\", and \"E\") to label the array elements? You are expecting the result to be:\n",
    "#array([[[ 'D',  'D',  'D',  'B',  'D'],\n",
    "#         [ 'D',  'D',  'B',  'B',  'B'],\n",
    "#         [ 'D',  'B',  'D',  'D',  'D']],\n",
    "\n",
    "#        [[ 'B',  'B',  'B',  'B',  'E'],\n",
    "#         [ 'D',  'D',  'D',  'D',  'D'],\n",
    "#         [ 'B',  'D',   'A',  'D', 'D']]])\n",
    "#Again, you don't need Numpy in this question.\n",
    "#\"\"\"\n",
    "np.where(d == d_min,\"A\", \n",
    "np.where(d == d_max,\"E\", \n",
    "np.where(d == d_mean,\"C\", \n",
    "np.where((d > d_min) & (d < d_mean),\"B\",\n",
    "np.where((d > d_mean) & (d < d_max),\"D\", 1000)))))\n"
   ]
  },
  {
   "cell_type": "code",
   "execution_count": null,
   "id": "0602a5a2",
   "metadata": {},
   "outputs": [],
   "source": []
  }
 ],
 "metadata": {
  "kernelspec": {
   "display_name": "Python 3 (ipykernel)",
   "language": "python",
   "name": "python3"
  },
  "language_info": {
   "codemirror_mode": {
    "name": "ipython",
    "version": 3
   },
   "file_extension": ".py",
   "mimetype": "text/x-python",
   "name": "python",
   "nbconvert_exporter": "python",
   "pygments_lexer": "ipython3",
   "version": "3.10.3"
  }
 },
 "nbformat": 4,
 "nbformat_minor": 5
}
